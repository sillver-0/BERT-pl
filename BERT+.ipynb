{
  "nbformat": 4,
  "nbformat_minor": 0,
  "metadata": {
    "colab": {
      "name": "BERT+",
      "provenance": [],
      "collapsed_sections": [],
      "authorship_tag": "ABX9TyOUvIMszkVvS+AqJvgiEmAF",
      "include_colab_link": true
    },
    "kernelspec": {
      "name": "python3",
      "display_name": "Python 3"
    },
    "accelerator": "TPU",
    "widgets": {
      "application/vnd.jupyter.widget-state+json": {
        "cda74ba2ba98488e870e24a4029f441c": {
          "model_module": "@jupyter-widgets/controls",
          "model_name": "HBoxModel",
          "model_module_version": "1.5.0",
          "state": {
            "_view_name": "HBoxView",
            "_dom_classes": [],
            "_model_name": "HBoxModel",
            "_view_module": "@jupyter-widgets/controls",
            "_model_module_version": "1.5.0",
            "_view_count": null,
            "_view_module_version": "1.5.0",
            "box_style": "",
            "layout": "IPY_MODEL_22b94b43891a4d5cbdd278bebb3f925f",
            "_model_module": "@jupyter-widgets/controls",
            "children": [
              "IPY_MODEL_bb3181a0cbce4a44b08a450b2965ba5d",
              "IPY_MODEL_322a2bfd331343f7b97f1b470bcf5fbb",
              "IPY_MODEL_0789dba25fe5404a9537952d31ba1450"
            ]
          }
        },
        "22b94b43891a4d5cbdd278bebb3f925f": {
          "model_module": "@jupyter-widgets/base",
          "model_name": "LayoutModel",
          "model_module_version": "1.2.0",
          "state": {
            "_view_name": "LayoutView",
            "grid_template_rows": null,
            "right": null,
            "justify_content": null,
            "_view_module": "@jupyter-widgets/base",
            "overflow": null,
            "_model_module_version": "1.2.0",
            "_view_count": null,
            "flex_flow": null,
            "width": null,
            "min_width": null,
            "border": null,
            "align_items": null,
            "bottom": null,
            "_model_module": "@jupyter-widgets/base",
            "top": null,
            "grid_column": null,
            "overflow_y": null,
            "overflow_x": null,
            "grid_auto_flow": null,
            "grid_area": null,
            "grid_template_columns": null,
            "flex": null,
            "_model_name": "LayoutModel",
            "justify_items": null,
            "grid_row": null,
            "max_height": null,
            "align_content": null,
            "visibility": null,
            "align_self": null,
            "height": null,
            "min_height": null,
            "padding": null,
            "grid_auto_rows": null,
            "grid_gap": null,
            "max_width": null,
            "order": null,
            "_view_module_version": "1.2.0",
            "grid_template_areas": null,
            "object_position": null,
            "object_fit": null,
            "grid_auto_columns": null,
            "margin": null,
            "display": null,
            "left": null
          }
        },
        "bb3181a0cbce4a44b08a450b2965ba5d": {
          "model_module": "@jupyter-widgets/controls",
          "model_name": "HTMLModel",
          "model_module_version": "1.5.0",
          "state": {
            "_view_name": "HTMLView",
            "style": "IPY_MODEL_ab90170f6acb496096e7ba6e1d55f45e",
            "_dom_classes": [],
            "description": "",
            "_model_name": "HTMLModel",
            "placeholder": "​",
            "_view_module": "@jupyter-widgets/controls",
            "_model_module_version": "1.5.0",
            "value": "Downloading: 100%",
            "_view_count": null,
            "_view_module_version": "1.5.0",
            "description_tooltip": null,
            "_model_module": "@jupyter-widgets/controls",
            "layout": "IPY_MODEL_c23604fa5d7b4e6283784a9a68be9491"
          }
        },
        "322a2bfd331343f7b97f1b470bcf5fbb": {
          "model_module": "@jupyter-widgets/controls",
          "model_name": "FloatProgressModel",
          "model_module_version": "1.5.0",
          "state": {
            "_view_name": "ProgressView",
            "style": "IPY_MODEL_4ddb468111f14ee2b46375f3e34d3bf6",
            "_dom_classes": [],
            "description": "",
            "_model_name": "FloatProgressModel",
            "bar_style": "success",
            "max": 213450,
            "_view_module": "@jupyter-widgets/controls",
            "_model_module_version": "1.5.0",
            "value": 213450,
            "_view_count": null,
            "_view_module_version": "1.5.0",
            "orientation": "horizontal",
            "min": 0,
            "description_tooltip": null,
            "_model_module": "@jupyter-widgets/controls",
            "layout": "IPY_MODEL_f448e227d834402e9c42f8da88e74dc5"
          }
        },
        "0789dba25fe5404a9537952d31ba1450": {
          "model_module": "@jupyter-widgets/controls",
          "model_name": "HTMLModel",
          "model_module_version": "1.5.0",
          "state": {
            "_view_name": "HTMLView",
            "style": "IPY_MODEL_90c3f1b24e48428eb1e56127e8c8c192",
            "_dom_classes": [],
            "description": "",
            "_model_name": "HTMLModel",
            "placeholder": "​",
            "_view_module": "@jupyter-widgets/controls",
            "_model_module_version": "1.5.0",
            "value": " 208k/208k [00:00&lt;00:00, 1.06MB/s]",
            "_view_count": null,
            "_view_module_version": "1.5.0",
            "description_tooltip": null,
            "_model_module": "@jupyter-widgets/controls",
            "layout": "IPY_MODEL_a0da2721e29e44f185cb1fb594bbe323"
          }
        },
        "ab90170f6acb496096e7ba6e1d55f45e": {
          "model_module": "@jupyter-widgets/controls",
          "model_name": "DescriptionStyleModel",
          "model_module_version": "1.5.0",
          "state": {
            "_view_name": "StyleView",
            "_model_name": "DescriptionStyleModel",
            "description_width": "",
            "_view_module": "@jupyter-widgets/base",
            "_model_module_version": "1.5.0",
            "_view_count": null,
            "_view_module_version": "1.2.0",
            "_model_module": "@jupyter-widgets/controls"
          }
        },
        "c23604fa5d7b4e6283784a9a68be9491": {
          "model_module": "@jupyter-widgets/base",
          "model_name": "LayoutModel",
          "model_module_version": "1.2.0",
          "state": {
            "_view_name": "LayoutView",
            "grid_template_rows": null,
            "right": null,
            "justify_content": null,
            "_view_module": "@jupyter-widgets/base",
            "overflow": null,
            "_model_module_version": "1.2.0",
            "_view_count": null,
            "flex_flow": null,
            "width": null,
            "min_width": null,
            "border": null,
            "align_items": null,
            "bottom": null,
            "_model_module": "@jupyter-widgets/base",
            "top": null,
            "grid_column": null,
            "overflow_y": null,
            "overflow_x": null,
            "grid_auto_flow": null,
            "grid_area": null,
            "grid_template_columns": null,
            "flex": null,
            "_model_name": "LayoutModel",
            "justify_items": null,
            "grid_row": null,
            "max_height": null,
            "align_content": null,
            "visibility": null,
            "align_self": null,
            "height": null,
            "min_height": null,
            "padding": null,
            "grid_auto_rows": null,
            "grid_gap": null,
            "max_width": null,
            "order": null,
            "_view_module_version": "1.2.0",
            "grid_template_areas": null,
            "object_position": null,
            "object_fit": null,
            "grid_auto_columns": null,
            "margin": null,
            "display": null,
            "left": null
          }
        },
        "4ddb468111f14ee2b46375f3e34d3bf6": {
          "model_module": "@jupyter-widgets/controls",
          "model_name": "ProgressStyleModel",
          "model_module_version": "1.5.0",
          "state": {
            "_view_name": "StyleView",
            "_model_name": "ProgressStyleModel",
            "description_width": "",
            "_view_module": "@jupyter-widgets/base",
            "_model_module_version": "1.5.0",
            "_view_count": null,
            "_view_module_version": "1.2.0",
            "bar_color": null,
            "_model_module": "@jupyter-widgets/controls"
          }
        },
        "f448e227d834402e9c42f8da88e74dc5": {
          "model_module": "@jupyter-widgets/base",
          "model_name": "LayoutModel",
          "model_module_version": "1.2.0",
          "state": {
            "_view_name": "LayoutView",
            "grid_template_rows": null,
            "right": null,
            "justify_content": null,
            "_view_module": "@jupyter-widgets/base",
            "overflow": null,
            "_model_module_version": "1.2.0",
            "_view_count": null,
            "flex_flow": null,
            "width": null,
            "min_width": null,
            "border": null,
            "align_items": null,
            "bottom": null,
            "_model_module": "@jupyter-widgets/base",
            "top": null,
            "grid_column": null,
            "overflow_y": null,
            "overflow_x": null,
            "grid_auto_flow": null,
            "grid_area": null,
            "grid_template_columns": null,
            "flex": null,
            "_model_name": "LayoutModel",
            "justify_items": null,
            "grid_row": null,
            "max_height": null,
            "align_content": null,
            "visibility": null,
            "align_self": null,
            "height": null,
            "min_height": null,
            "padding": null,
            "grid_auto_rows": null,
            "grid_gap": null,
            "max_width": null,
            "order": null,
            "_view_module_version": "1.2.0",
            "grid_template_areas": null,
            "object_position": null,
            "object_fit": null,
            "grid_auto_columns": null,
            "margin": null,
            "display": null,
            "left": null
          }
        },
        "90c3f1b24e48428eb1e56127e8c8c192": {
          "model_module": "@jupyter-widgets/controls",
          "model_name": "DescriptionStyleModel",
          "model_module_version": "1.5.0",
          "state": {
            "_view_name": "StyleView",
            "_model_name": "DescriptionStyleModel",
            "description_width": "",
            "_view_module": "@jupyter-widgets/base",
            "_model_module_version": "1.5.0",
            "_view_count": null,
            "_view_module_version": "1.2.0",
            "_model_module": "@jupyter-widgets/controls"
          }
        },
        "a0da2721e29e44f185cb1fb594bbe323": {
          "model_module": "@jupyter-widgets/base",
          "model_name": "LayoutModel",
          "model_module_version": "1.2.0",
          "state": {
            "_view_name": "LayoutView",
            "grid_template_rows": null,
            "right": null,
            "justify_content": null,
            "_view_module": "@jupyter-widgets/base",
            "overflow": null,
            "_model_module_version": "1.2.0",
            "_view_count": null,
            "flex_flow": null,
            "width": null,
            "min_width": null,
            "border": null,
            "align_items": null,
            "bottom": null,
            "_model_module": "@jupyter-widgets/base",
            "top": null,
            "grid_column": null,
            "overflow_y": null,
            "overflow_x": null,
            "grid_auto_flow": null,
            "grid_area": null,
            "grid_template_columns": null,
            "flex": null,
            "_model_name": "LayoutModel",
            "justify_items": null,
            "grid_row": null,
            "max_height": null,
            "align_content": null,
            "visibility": null,
            "align_self": null,
            "height": null,
            "min_height": null,
            "padding": null,
            "grid_auto_rows": null,
            "grid_gap": null,
            "max_width": null,
            "order": null,
            "_view_module_version": "1.2.0",
            "grid_template_areas": null,
            "object_position": null,
            "object_fit": null,
            "grid_auto_columns": null,
            "margin": null,
            "display": null,
            "left": null
          }
        },
        "2244fd9489374a55892c06e8063daedb": {
          "model_module": "@jupyter-widgets/controls",
          "model_name": "HBoxModel",
          "model_module_version": "1.5.0",
          "state": {
            "_view_name": "HBoxView",
            "_dom_classes": [],
            "_model_name": "HBoxModel",
            "_view_module": "@jupyter-widgets/controls",
            "_model_module_version": "1.5.0",
            "_view_count": null,
            "_view_module_version": "1.5.0",
            "box_style": "",
            "layout": "IPY_MODEL_0e991264293d434fb17e278ca5d4c429",
            "_model_module": "@jupyter-widgets/controls",
            "children": [
              "IPY_MODEL_b8d3e9d798fb49c3ad23edd3d383436c",
              "IPY_MODEL_2f048973504c419386855271721d5b3d",
              "IPY_MODEL_d4a56c3956364e7f8855a0f210da2faf"
            ]
          }
        },
        "0e991264293d434fb17e278ca5d4c429": {
          "model_module": "@jupyter-widgets/base",
          "model_name": "LayoutModel",
          "model_module_version": "1.2.0",
          "state": {
            "_view_name": "LayoutView",
            "grid_template_rows": null,
            "right": null,
            "justify_content": null,
            "_view_module": "@jupyter-widgets/base",
            "overflow": null,
            "_model_module_version": "1.2.0",
            "_view_count": null,
            "flex_flow": null,
            "width": null,
            "min_width": null,
            "border": null,
            "align_items": null,
            "bottom": null,
            "_model_module": "@jupyter-widgets/base",
            "top": null,
            "grid_column": null,
            "overflow_y": null,
            "overflow_x": null,
            "grid_auto_flow": null,
            "grid_area": null,
            "grid_template_columns": null,
            "flex": null,
            "_model_name": "LayoutModel",
            "justify_items": null,
            "grid_row": null,
            "max_height": null,
            "align_content": null,
            "visibility": null,
            "align_self": null,
            "height": null,
            "min_height": null,
            "padding": null,
            "grid_auto_rows": null,
            "grid_gap": null,
            "max_width": null,
            "order": null,
            "_view_module_version": "1.2.0",
            "grid_template_areas": null,
            "object_position": null,
            "object_fit": null,
            "grid_auto_columns": null,
            "margin": null,
            "display": null,
            "left": null
          }
        },
        "b8d3e9d798fb49c3ad23edd3d383436c": {
          "model_module": "@jupyter-widgets/controls",
          "model_name": "HTMLModel",
          "model_module_version": "1.5.0",
          "state": {
            "_view_name": "HTMLView",
            "style": "IPY_MODEL_97856b53dc5a46c0a1a35bbd785b769b",
            "_dom_classes": [],
            "description": "",
            "_model_name": "HTMLModel",
            "placeholder": "​",
            "_view_module": "@jupyter-widgets/controls",
            "_model_module_version": "1.5.0",
            "value": "Downloading: 100%",
            "_view_count": null,
            "_view_module_version": "1.5.0",
            "description_tooltip": null,
            "_model_module": "@jupyter-widgets/controls",
            "layout": "IPY_MODEL_3a458b1417624852b6ac5e6c99fcb7ad"
          }
        },
        "2f048973504c419386855271721d5b3d": {
          "model_module": "@jupyter-widgets/controls",
          "model_name": "FloatProgressModel",
          "model_module_version": "1.5.0",
          "state": {
            "_view_name": "ProgressView",
            "style": "IPY_MODEL_ae30400d375245ad85d53e22c56acd30",
            "_dom_classes": [],
            "description": "",
            "_model_name": "FloatProgressModel",
            "bar_style": "success",
            "max": 29,
            "_view_module": "@jupyter-widgets/controls",
            "_model_module_version": "1.5.0",
            "value": 29,
            "_view_count": null,
            "_view_module_version": "1.5.0",
            "orientation": "horizontal",
            "min": 0,
            "description_tooltip": null,
            "_model_module": "@jupyter-widgets/controls",
            "layout": "IPY_MODEL_ec09337b33274c68a20e919751dcbe69"
          }
        },
        "d4a56c3956364e7f8855a0f210da2faf": {
          "model_module": "@jupyter-widgets/controls",
          "model_name": "HTMLModel",
          "model_module_version": "1.5.0",
          "state": {
            "_view_name": "HTMLView",
            "style": "IPY_MODEL_0446d17d7cf141f08f10bd54f4f7f74c",
            "_dom_classes": [],
            "description": "",
            "_model_name": "HTMLModel",
            "placeholder": "​",
            "_view_module": "@jupyter-widgets/controls",
            "_model_module_version": "1.5.0",
            "value": " 29.0/29.0 [00:00&lt;00:00, 488B/s]",
            "_view_count": null,
            "_view_module_version": "1.5.0",
            "description_tooltip": null,
            "_model_module": "@jupyter-widgets/controls",
            "layout": "IPY_MODEL_e36abbf7a46a4b9da01f937c193faa8f"
          }
        },
        "97856b53dc5a46c0a1a35bbd785b769b": {
          "model_module": "@jupyter-widgets/controls",
          "model_name": "DescriptionStyleModel",
          "model_module_version": "1.5.0",
          "state": {
            "_view_name": "StyleView",
            "_model_name": "DescriptionStyleModel",
            "description_width": "",
            "_view_module": "@jupyter-widgets/base",
            "_model_module_version": "1.5.0",
            "_view_count": null,
            "_view_module_version": "1.2.0",
            "_model_module": "@jupyter-widgets/controls"
          }
        },
        "3a458b1417624852b6ac5e6c99fcb7ad": {
          "model_module": "@jupyter-widgets/base",
          "model_name": "LayoutModel",
          "model_module_version": "1.2.0",
          "state": {
            "_view_name": "LayoutView",
            "grid_template_rows": null,
            "right": null,
            "justify_content": null,
            "_view_module": "@jupyter-widgets/base",
            "overflow": null,
            "_model_module_version": "1.2.0",
            "_view_count": null,
            "flex_flow": null,
            "width": null,
            "min_width": null,
            "border": null,
            "align_items": null,
            "bottom": null,
            "_model_module": "@jupyter-widgets/base",
            "top": null,
            "grid_column": null,
            "overflow_y": null,
            "overflow_x": null,
            "grid_auto_flow": null,
            "grid_area": null,
            "grid_template_columns": null,
            "flex": null,
            "_model_name": "LayoutModel",
            "justify_items": null,
            "grid_row": null,
            "max_height": null,
            "align_content": null,
            "visibility": null,
            "align_self": null,
            "height": null,
            "min_height": null,
            "padding": null,
            "grid_auto_rows": null,
            "grid_gap": null,
            "max_width": null,
            "order": null,
            "_view_module_version": "1.2.0",
            "grid_template_areas": null,
            "object_position": null,
            "object_fit": null,
            "grid_auto_columns": null,
            "margin": null,
            "display": null,
            "left": null
          }
        },
        "ae30400d375245ad85d53e22c56acd30": {
          "model_module": "@jupyter-widgets/controls",
          "model_name": "ProgressStyleModel",
          "model_module_version": "1.5.0",
          "state": {
            "_view_name": "StyleView",
            "_model_name": "ProgressStyleModel",
            "description_width": "",
            "_view_module": "@jupyter-widgets/base",
            "_model_module_version": "1.5.0",
            "_view_count": null,
            "_view_module_version": "1.2.0",
            "bar_color": null,
            "_model_module": "@jupyter-widgets/controls"
          }
        },
        "ec09337b33274c68a20e919751dcbe69": {
          "model_module": "@jupyter-widgets/base",
          "model_name": "LayoutModel",
          "model_module_version": "1.2.0",
          "state": {
            "_view_name": "LayoutView",
            "grid_template_rows": null,
            "right": null,
            "justify_content": null,
            "_view_module": "@jupyter-widgets/base",
            "overflow": null,
            "_model_module_version": "1.2.0",
            "_view_count": null,
            "flex_flow": null,
            "width": null,
            "min_width": null,
            "border": null,
            "align_items": null,
            "bottom": null,
            "_model_module": "@jupyter-widgets/base",
            "top": null,
            "grid_column": null,
            "overflow_y": null,
            "overflow_x": null,
            "grid_auto_flow": null,
            "grid_area": null,
            "grid_template_columns": null,
            "flex": null,
            "_model_name": "LayoutModel",
            "justify_items": null,
            "grid_row": null,
            "max_height": null,
            "align_content": null,
            "visibility": null,
            "align_self": null,
            "height": null,
            "min_height": null,
            "padding": null,
            "grid_auto_rows": null,
            "grid_gap": null,
            "max_width": null,
            "order": null,
            "_view_module_version": "1.2.0",
            "grid_template_areas": null,
            "object_position": null,
            "object_fit": null,
            "grid_auto_columns": null,
            "margin": null,
            "display": null,
            "left": null
          }
        },
        "0446d17d7cf141f08f10bd54f4f7f74c": {
          "model_module": "@jupyter-widgets/controls",
          "model_name": "DescriptionStyleModel",
          "model_module_version": "1.5.0",
          "state": {
            "_view_name": "StyleView",
            "_model_name": "DescriptionStyleModel",
            "description_width": "",
            "_view_module": "@jupyter-widgets/base",
            "_model_module_version": "1.5.0",
            "_view_count": null,
            "_view_module_version": "1.2.0",
            "_model_module": "@jupyter-widgets/controls"
          }
        },
        "e36abbf7a46a4b9da01f937c193faa8f": {
          "model_module": "@jupyter-widgets/base",
          "model_name": "LayoutModel",
          "model_module_version": "1.2.0",
          "state": {
            "_view_name": "LayoutView",
            "grid_template_rows": null,
            "right": null,
            "justify_content": null,
            "_view_module": "@jupyter-widgets/base",
            "overflow": null,
            "_model_module_version": "1.2.0",
            "_view_count": null,
            "flex_flow": null,
            "width": null,
            "min_width": null,
            "border": null,
            "align_items": null,
            "bottom": null,
            "_model_module": "@jupyter-widgets/base",
            "top": null,
            "grid_column": null,
            "overflow_y": null,
            "overflow_x": null,
            "grid_auto_flow": null,
            "grid_area": null,
            "grid_template_columns": null,
            "flex": null,
            "_model_name": "LayoutModel",
            "justify_items": null,
            "grid_row": null,
            "max_height": null,
            "align_content": null,
            "visibility": null,
            "align_self": null,
            "height": null,
            "min_height": null,
            "padding": null,
            "grid_auto_rows": null,
            "grid_gap": null,
            "max_width": null,
            "order": null,
            "_view_module_version": "1.2.0",
            "grid_template_areas": null,
            "object_position": null,
            "object_fit": null,
            "grid_auto_columns": null,
            "margin": null,
            "display": null,
            "left": null
          }
        },
        "4babefa0b602468182f53898ae25a2db": {
          "model_module": "@jupyter-widgets/controls",
          "model_name": "HBoxModel",
          "model_module_version": "1.5.0",
          "state": {
            "_view_name": "HBoxView",
            "_dom_classes": [],
            "_model_name": "HBoxModel",
            "_view_module": "@jupyter-widgets/controls",
            "_model_module_version": "1.5.0",
            "_view_count": null,
            "_view_module_version": "1.5.0",
            "box_style": "",
            "layout": "IPY_MODEL_8afa47f1825f4a7796bb0a299b394bf3",
            "_model_module": "@jupyter-widgets/controls",
            "children": [
              "IPY_MODEL_7c87ce79978e42f0be011bab19294120",
              "IPY_MODEL_ae3c173a697e499bb18432d3dcea88a5",
              "IPY_MODEL_04e9d92047d3433a81838d9a44ad999f"
            ]
          }
        },
        "8afa47f1825f4a7796bb0a299b394bf3": {
          "model_module": "@jupyter-widgets/base",
          "model_name": "LayoutModel",
          "model_module_version": "1.2.0",
          "state": {
            "_view_name": "LayoutView",
            "grid_template_rows": null,
            "right": null,
            "justify_content": null,
            "_view_module": "@jupyter-widgets/base",
            "overflow": null,
            "_model_module_version": "1.2.0",
            "_view_count": null,
            "flex_flow": null,
            "width": null,
            "min_width": null,
            "border": null,
            "align_items": null,
            "bottom": null,
            "_model_module": "@jupyter-widgets/base",
            "top": null,
            "grid_column": null,
            "overflow_y": null,
            "overflow_x": null,
            "grid_auto_flow": null,
            "grid_area": null,
            "grid_template_columns": null,
            "flex": null,
            "_model_name": "LayoutModel",
            "justify_items": null,
            "grid_row": null,
            "max_height": null,
            "align_content": null,
            "visibility": null,
            "align_self": null,
            "height": null,
            "min_height": null,
            "padding": null,
            "grid_auto_rows": null,
            "grid_gap": null,
            "max_width": null,
            "order": null,
            "_view_module_version": "1.2.0",
            "grid_template_areas": null,
            "object_position": null,
            "object_fit": null,
            "grid_auto_columns": null,
            "margin": null,
            "display": null,
            "left": null
          }
        },
        "7c87ce79978e42f0be011bab19294120": {
          "model_module": "@jupyter-widgets/controls",
          "model_name": "HTMLModel",
          "model_module_version": "1.5.0",
          "state": {
            "_view_name": "HTMLView",
            "style": "IPY_MODEL_72fe2f4c400e414b91bc6903c0bedc28",
            "_dom_classes": [],
            "description": "",
            "_model_name": "HTMLModel",
            "placeholder": "​",
            "_view_module": "@jupyter-widgets/controls",
            "_model_module_version": "1.5.0",
            "value": "Downloading: 100%",
            "_view_count": null,
            "_view_module_version": "1.5.0",
            "description_tooltip": null,
            "_model_module": "@jupyter-widgets/controls",
            "layout": "IPY_MODEL_37133ccae345412abdfb718ec502388e"
          }
        },
        "ae3c173a697e499bb18432d3dcea88a5": {
          "model_module": "@jupyter-widgets/controls",
          "model_name": "FloatProgressModel",
          "model_module_version": "1.5.0",
          "state": {
            "_view_name": "ProgressView",
            "style": "IPY_MODEL_d599daf2ab944e34bf2ad9dd644d87ba",
            "_dom_classes": [],
            "description": "",
            "_model_name": "FloatProgressModel",
            "bar_style": "success",
            "max": 435797,
            "_view_module": "@jupyter-widgets/controls",
            "_model_module_version": "1.5.0",
            "value": 435797,
            "_view_count": null,
            "_view_module_version": "1.5.0",
            "orientation": "horizontal",
            "min": 0,
            "description_tooltip": null,
            "_model_module": "@jupyter-widgets/controls",
            "layout": "IPY_MODEL_acb887f12d3c4336a980a0e45d0f2413"
          }
        },
        "04e9d92047d3433a81838d9a44ad999f": {
          "model_module": "@jupyter-widgets/controls",
          "model_name": "HTMLModel",
          "model_module_version": "1.5.0",
          "state": {
            "_view_name": "HTMLView",
            "style": "IPY_MODEL_6f4a94a24efe4fd7a68e91f420ebd576",
            "_dom_classes": [],
            "description": "",
            "_model_name": "HTMLModel",
            "placeholder": "​",
            "_view_module": "@jupyter-widgets/controls",
            "_model_module_version": "1.5.0",
            "value": " 426k/426k [00:00&lt;00:00, 1.43MB/s]",
            "_view_count": null,
            "_view_module_version": "1.5.0",
            "description_tooltip": null,
            "_model_module": "@jupyter-widgets/controls",
            "layout": "IPY_MODEL_8776168431d44261bb04274df1bdc681"
          }
        },
        "72fe2f4c400e414b91bc6903c0bedc28": {
          "model_module": "@jupyter-widgets/controls",
          "model_name": "DescriptionStyleModel",
          "model_module_version": "1.5.0",
          "state": {
            "_view_name": "StyleView",
            "_model_name": "DescriptionStyleModel",
            "description_width": "",
            "_view_module": "@jupyter-widgets/base",
            "_model_module_version": "1.5.0",
            "_view_count": null,
            "_view_module_version": "1.2.0",
            "_model_module": "@jupyter-widgets/controls"
          }
        },
        "37133ccae345412abdfb718ec502388e": {
          "model_module": "@jupyter-widgets/base",
          "model_name": "LayoutModel",
          "model_module_version": "1.2.0",
          "state": {
            "_view_name": "LayoutView",
            "grid_template_rows": null,
            "right": null,
            "justify_content": null,
            "_view_module": "@jupyter-widgets/base",
            "overflow": null,
            "_model_module_version": "1.2.0",
            "_view_count": null,
            "flex_flow": null,
            "width": null,
            "min_width": null,
            "border": null,
            "align_items": null,
            "bottom": null,
            "_model_module": "@jupyter-widgets/base",
            "top": null,
            "grid_column": null,
            "overflow_y": null,
            "overflow_x": null,
            "grid_auto_flow": null,
            "grid_area": null,
            "grid_template_columns": null,
            "flex": null,
            "_model_name": "LayoutModel",
            "justify_items": null,
            "grid_row": null,
            "max_height": null,
            "align_content": null,
            "visibility": null,
            "align_self": null,
            "height": null,
            "min_height": null,
            "padding": null,
            "grid_auto_rows": null,
            "grid_gap": null,
            "max_width": null,
            "order": null,
            "_view_module_version": "1.2.0",
            "grid_template_areas": null,
            "object_position": null,
            "object_fit": null,
            "grid_auto_columns": null,
            "margin": null,
            "display": null,
            "left": null
          }
        },
        "d599daf2ab944e34bf2ad9dd644d87ba": {
          "model_module": "@jupyter-widgets/controls",
          "model_name": "ProgressStyleModel",
          "model_module_version": "1.5.0",
          "state": {
            "_view_name": "StyleView",
            "_model_name": "ProgressStyleModel",
            "description_width": "",
            "_view_module": "@jupyter-widgets/base",
            "_model_module_version": "1.5.0",
            "_view_count": null,
            "_view_module_version": "1.2.0",
            "bar_color": null,
            "_model_module": "@jupyter-widgets/controls"
          }
        },
        "acb887f12d3c4336a980a0e45d0f2413": {
          "model_module": "@jupyter-widgets/base",
          "model_name": "LayoutModel",
          "model_module_version": "1.2.0",
          "state": {
            "_view_name": "LayoutView",
            "grid_template_rows": null,
            "right": null,
            "justify_content": null,
            "_view_module": "@jupyter-widgets/base",
            "overflow": null,
            "_model_module_version": "1.2.0",
            "_view_count": null,
            "flex_flow": null,
            "width": null,
            "min_width": null,
            "border": null,
            "align_items": null,
            "bottom": null,
            "_model_module": "@jupyter-widgets/base",
            "top": null,
            "grid_column": null,
            "overflow_y": null,
            "overflow_x": null,
            "grid_auto_flow": null,
            "grid_area": null,
            "grid_template_columns": null,
            "flex": null,
            "_model_name": "LayoutModel",
            "justify_items": null,
            "grid_row": null,
            "max_height": null,
            "align_content": null,
            "visibility": null,
            "align_self": null,
            "height": null,
            "min_height": null,
            "padding": null,
            "grid_auto_rows": null,
            "grid_gap": null,
            "max_width": null,
            "order": null,
            "_view_module_version": "1.2.0",
            "grid_template_areas": null,
            "object_position": null,
            "object_fit": null,
            "grid_auto_columns": null,
            "margin": null,
            "display": null,
            "left": null
          }
        },
        "6f4a94a24efe4fd7a68e91f420ebd576": {
          "model_module": "@jupyter-widgets/controls",
          "model_name": "DescriptionStyleModel",
          "model_module_version": "1.5.0",
          "state": {
            "_view_name": "StyleView",
            "_model_name": "DescriptionStyleModel",
            "description_width": "",
            "_view_module": "@jupyter-widgets/base",
            "_model_module_version": "1.5.0",
            "_view_count": null,
            "_view_module_version": "1.2.0",
            "_model_module": "@jupyter-widgets/controls"
          }
        },
        "8776168431d44261bb04274df1bdc681": {
          "model_module": "@jupyter-widgets/base",
          "model_name": "LayoutModel",
          "model_module_version": "1.2.0",
          "state": {
            "_view_name": "LayoutView",
            "grid_template_rows": null,
            "right": null,
            "justify_content": null,
            "_view_module": "@jupyter-widgets/base",
            "overflow": null,
            "_model_module_version": "1.2.0",
            "_view_count": null,
            "flex_flow": null,
            "width": null,
            "min_width": null,
            "border": null,
            "align_items": null,
            "bottom": null,
            "_model_module": "@jupyter-widgets/base",
            "top": null,
            "grid_column": null,
            "overflow_y": null,
            "overflow_x": null,
            "grid_auto_flow": null,
            "grid_area": null,
            "grid_template_columns": null,
            "flex": null,
            "_model_name": "LayoutModel",
            "justify_items": null,
            "grid_row": null,
            "max_height": null,
            "align_content": null,
            "visibility": null,
            "align_self": null,
            "height": null,
            "min_height": null,
            "padding": null,
            "grid_auto_rows": null,
            "grid_gap": null,
            "max_width": null,
            "order": null,
            "_view_module_version": "1.2.0",
            "grid_template_areas": null,
            "object_position": null,
            "object_fit": null,
            "grid_auto_columns": null,
            "margin": null,
            "display": null,
            "left": null
          }
        },
        "b77f993957f74579b22bdd87bc47bd74": {
          "model_module": "@jupyter-widgets/controls",
          "model_name": "HBoxModel",
          "model_module_version": "1.5.0",
          "state": {
            "_view_name": "HBoxView",
            "_dom_classes": [],
            "_model_name": "HBoxModel",
            "_view_module": "@jupyter-widgets/controls",
            "_model_module_version": "1.5.0",
            "_view_count": null,
            "_view_module_version": "1.5.0",
            "box_style": "",
            "layout": "IPY_MODEL_d9b250c0874a4af8899a2d4b0e736aef",
            "_model_module": "@jupyter-widgets/controls",
            "children": [
              "IPY_MODEL_a72d14bee5884ed5aff5190032f21424",
              "IPY_MODEL_2092d8dc34f74741bdacc49767657f90",
              "IPY_MODEL_24d8409dbc14484aa9867418f9167c84"
            ]
          }
        },
        "d9b250c0874a4af8899a2d4b0e736aef": {
          "model_module": "@jupyter-widgets/base",
          "model_name": "LayoutModel",
          "model_module_version": "1.2.0",
          "state": {
            "_view_name": "LayoutView",
            "grid_template_rows": null,
            "right": null,
            "justify_content": null,
            "_view_module": "@jupyter-widgets/base",
            "overflow": null,
            "_model_module_version": "1.2.0",
            "_view_count": null,
            "flex_flow": null,
            "width": null,
            "min_width": null,
            "border": null,
            "align_items": null,
            "bottom": null,
            "_model_module": "@jupyter-widgets/base",
            "top": null,
            "grid_column": null,
            "overflow_y": null,
            "overflow_x": null,
            "grid_auto_flow": null,
            "grid_area": null,
            "grid_template_columns": null,
            "flex": null,
            "_model_name": "LayoutModel",
            "justify_items": null,
            "grid_row": null,
            "max_height": null,
            "align_content": null,
            "visibility": null,
            "align_self": null,
            "height": null,
            "min_height": null,
            "padding": null,
            "grid_auto_rows": null,
            "grid_gap": null,
            "max_width": null,
            "order": null,
            "_view_module_version": "1.2.0",
            "grid_template_areas": null,
            "object_position": null,
            "object_fit": null,
            "grid_auto_columns": null,
            "margin": null,
            "display": null,
            "left": null
          }
        },
        "a72d14bee5884ed5aff5190032f21424": {
          "model_module": "@jupyter-widgets/controls",
          "model_name": "HTMLModel",
          "model_module_version": "1.5.0",
          "state": {
            "_view_name": "HTMLView",
            "style": "IPY_MODEL_3af4d1ecd6c940318180d1cf7da2a7dc",
            "_dom_classes": [],
            "description": "",
            "_model_name": "HTMLModel",
            "placeholder": "​",
            "_view_module": "@jupyter-widgets/controls",
            "_model_module_version": "1.5.0",
            "value": "Downloading: 100%",
            "_view_count": null,
            "_view_module_version": "1.5.0",
            "description_tooltip": null,
            "_model_module": "@jupyter-widgets/controls",
            "layout": "IPY_MODEL_acf68973f02045769069c8c1da6672b8"
          }
        },
        "2092d8dc34f74741bdacc49767657f90": {
          "model_module": "@jupyter-widgets/controls",
          "model_name": "FloatProgressModel",
          "model_module_version": "1.5.0",
          "state": {
            "_view_name": "ProgressView",
            "style": "IPY_MODEL_f4065df212b44d0eb3de38aa08431d76",
            "_dom_classes": [],
            "description": "",
            "_model_name": "FloatProgressModel",
            "bar_style": "success",
            "max": 570,
            "_view_module": "@jupyter-widgets/controls",
            "_model_module_version": "1.5.0",
            "value": 570,
            "_view_count": null,
            "_view_module_version": "1.5.0",
            "orientation": "horizontal",
            "min": 0,
            "description_tooltip": null,
            "_model_module": "@jupyter-widgets/controls",
            "layout": "IPY_MODEL_758e1a5d7eba4a41a0c72378502c08ef"
          }
        },
        "24d8409dbc14484aa9867418f9167c84": {
          "model_module": "@jupyter-widgets/controls",
          "model_name": "HTMLModel",
          "model_module_version": "1.5.0",
          "state": {
            "_view_name": "HTMLView",
            "style": "IPY_MODEL_77bf980052e14db382a0856956dd4ff9",
            "_dom_classes": [],
            "description": "",
            "_model_name": "HTMLModel",
            "placeholder": "​",
            "_view_module": "@jupyter-widgets/controls",
            "_model_module_version": "1.5.0",
            "value": " 570/570 [00:00&lt;00:00, 13.2kB/s]",
            "_view_count": null,
            "_view_module_version": "1.5.0",
            "description_tooltip": null,
            "_model_module": "@jupyter-widgets/controls",
            "layout": "IPY_MODEL_d66dc66092a54edc86c27b887e69b11d"
          }
        },
        "3af4d1ecd6c940318180d1cf7da2a7dc": {
          "model_module": "@jupyter-widgets/controls",
          "model_name": "DescriptionStyleModel",
          "model_module_version": "1.5.0",
          "state": {
            "_view_name": "StyleView",
            "_model_name": "DescriptionStyleModel",
            "description_width": "",
            "_view_module": "@jupyter-widgets/base",
            "_model_module_version": "1.5.0",
            "_view_count": null,
            "_view_module_version": "1.2.0",
            "_model_module": "@jupyter-widgets/controls"
          }
        },
        "acf68973f02045769069c8c1da6672b8": {
          "model_module": "@jupyter-widgets/base",
          "model_name": "LayoutModel",
          "model_module_version": "1.2.0",
          "state": {
            "_view_name": "LayoutView",
            "grid_template_rows": null,
            "right": null,
            "justify_content": null,
            "_view_module": "@jupyter-widgets/base",
            "overflow": null,
            "_model_module_version": "1.2.0",
            "_view_count": null,
            "flex_flow": null,
            "width": null,
            "min_width": null,
            "border": null,
            "align_items": null,
            "bottom": null,
            "_model_module": "@jupyter-widgets/base",
            "top": null,
            "grid_column": null,
            "overflow_y": null,
            "overflow_x": null,
            "grid_auto_flow": null,
            "grid_area": null,
            "grid_template_columns": null,
            "flex": null,
            "_model_name": "LayoutModel",
            "justify_items": null,
            "grid_row": null,
            "max_height": null,
            "align_content": null,
            "visibility": null,
            "align_self": null,
            "height": null,
            "min_height": null,
            "padding": null,
            "grid_auto_rows": null,
            "grid_gap": null,
            "max_width": null,
            "order": null,
            "_view_module_version": "1.2.0",
            "grid_template_areas": null,
            "object_position": null,
            "object_fit": null,
            "grid_auto_columns": null,
            "margin": null,
            "display": null,
            "left": null
          }
        },
        "f4065df212b44d0eb3de38aa08431d76": {
          "model_module": "@jupyter-widgets/controls",
          "model_name": "ProgressStyleModel",
          "model_module_version": "1.5.0",
          "state": {
            "_view_name": "StyleView",
            "_model_name": "ProgressStyleModel",
            "description_width": "",
            "_view_module": "@jupyter-widgets/base",
            "_model_module_version": "1.5.0",
            "_view_count": null,
            "_view_module_version": "1.2.0",
            "bar_color": null,
            "_model_module": "@jupyter-widgets/controls"
          }
        },
        "758e1a5d7eba4a41a0c72378502c08ef": {
          "model_module": "@jupyter-widgets/base",
          "model_name": "LayoutModel",
          "model_module_version": "1.2.0",
          "state": {
            "_view_name": "LayoutView",
            "grid_template_rows": null,
            "right": null,
            "justify_content": null,
            "_view_module": "@jupyter-widgets/base",
            "overflow": null,
            "_model_module_version": "1.2.0",
            "_view_count": null,
            "flex_flow": null,
            "width": null,
            "min_width": null,
            "border": null,
            "align_items": null,
            "bottom": null,
            "_model_module": "@jupyter-widgets/base",
            "top": null,
            "grid_column": null,
            "overflow_y": null,
            "overflow_x": null,
            "grid_auto_flow": null,
            "grid_area": null,
            "grid_template_columns": null,
            "flex": null,
            "_model_name": "LayoutModel",
            "justify_items": null,
            "grid_row": null,
            "max_height": null,
            "align_content": null,
            "visibility": null,
            "align_self": null,
            "height": null,
            "min_height": null,
            "padding": null,
            "grid_auto_rows": null,
            "grid_gap": null,
            "max_width": null,
            "order": null,
            "_view_module_version": "1.2.0",
            "grid_template_areas": null,
            "object_position": null,
            "object_fit": null,
            "grid_auto_columns": null,
            "margin": null,
            "display": null,
            "left": null
          }
        },
        "77bf980052e14db382a0856956dd4ff9": {
          "model_module": "@jupyter-widgets/controls",
          "model_name": "DescriptionStyleModel",
          "model_module_version": "1.5.0",
          "state": {
            "_view_name": "StyleView",
            "_model_name": "DescriptionStyleModel",
            "description_width": "",
            "_view_module": "@jupyter-widgets/base",
            "_model_module_version": "1.5.0",
            "_view_count": null,
            "_view_module_version": "1.2.0",
            "_model_module": "@jupyter-widgets/controls"
          }
        },
        "d66dc66092a54edc86c27b887e69b11d": {
          "model_module": "@jupyter-widgets/base",
          "model_name": "LayoutModel",
          "model_module_version": "1.2.0",
          "state": {
            "_view_name": "LayoutView",
            "grid_template_rows": null,
            "right": null,
            "justify_content": null,
            "_view_module": "@jupyter-widgets/base",
            "overflow": null,
            "_model_module_version": "1.2.0",
            "_view_count": null,
            "flex_flow": null,
            "width": null,
            "min_width": null,
            "border": null,
            "align_items": null,
            "bottom": null,
            "_model_module": "@jupyter-widgets/base",
            "top": null,
            "grid_column": null,
            "overflow_y": null,
            "overflow_x": null,
            "grid_auto_flow": null,
            "grid_area": null,
            "grid_template_columns": null,
            "flex": null,
            "_model_name": "LayoutModel",
            "justify_items": null,
            "grid_row": null,
            "max_height": null,
            "align_content": null,
            "visibility": null,
            "align_self": null,
            "height": null,
            "min_height": null,
            "padding": null,
            "grid_auto_rows": null,
            "grid_gap": null,
            "max_width": null,
            "order": null,
            "_view_module_version": "1.2.0",
            "grid_template_areas": null,
            "object_position": null,
            "object_fit": null,
            "grid_auto_columns": null,
            "margin": null,
            "display": null,
            "left": null
          }
        },
        "cde98e3c83c94869b2a6b08458a99c72": {
          "model_module": "@jupyter-widgets/controls",
          "model_name": "HBoxModel",
          "model_module_version": "1.5.0",
          "state": {
            "_view_name": "HBoxView",
            "_dom_classes": [],
            "_model_name": "HBoxModel",
            "_view_module": "@jupyter-widgets/controls",
            "_model_module_version": "1.5.0",
            "_view_count": null,
            "_view_module_version": "1.5.0",
            "box_style": "",
            "layout": "IPY_MODEL_50a92530679d4b258141df75ba070199",
            "_model_module": "@jupyter-widgets/controls",
            "children": [
              "IPY_MODEL_f3510b7fac5a48c19094cad7e0977fe0",
              "IPY_MODEL_34ae418694404b53905076c86ffb7e23",
              "IPY_MODEL_4b1832196e58493c82137a6d779fcb5b"
            ]
          }
        },
        "50a92530679d4b258141df75ba070199": {
          "model_module": "@jupyter-widgets/base",
          "model_name": "LayoutModel",
          "model_module_version": "1.2.0",
          "state": {
            "_view_name": "LayoutView",
            "grid_template_rows": null,
            "right": null,
            "justify_content": null,
            "_view_module": "@jupyter-widgets/base",
            "overflow": null,
            "_model_module_version": "1.2.0",
            "_view_count": null,
            "flex_flow": null,
            "width": null,
            "min_width": null,
            "border": null,
            "align_items": null,
            "bottom": null,
            "_model_module": "@jupyter-widgets/base",
            "top": null,
            "grid_column": null,
            "overflow_y": null,
            "overflow_x": null,
            "grid_auto_flow": null,
            "grid_area": null,
            "grid_template_columns": null,
            "flex": null,
            "_model_name": "LayoutModel",
            "justify_items": null,
            "grid_row": null,
            "max_height": null,
            "align_content": null,
            "visibility": null,
            "align_self": null,
            "height": null,
            "min_height": null,
            "padding": null,
            "grid_auto_rows": null,
            "grid_gap": null,
            "max_width": null,
            "order": null,
            "_view_module_version": "1.2.0",
            "grid_template_areas": null,
            "object_position": null,
            "object_fit": null,
            "grid_auto_columns": null,
            "margin": null,
            "display": null,
            "left": null
          }
        },
        "f3510b7fac5a48c19094cad7e0977fe0": {
          "model_module": "@jupyter-widgets/controls",
          "model_name": "HTMLModel",
          "model_module_version": "1.5.0",
          "state": {
            "_view_name": "HTMLView",
            "style": "IPY_MODEL_809c35107977421289d175ea1c13c948",
            "_dom_classes": [],
            "description": "",
            "_model_name": "HTMLModel",
            "placeholder": "​",
            "_view_module": "@jupyter-widgets/controls",
            "_model_module_version": "1.5.0",
            "value": "Downloading: 100%",
            "_view_count": null,
            "_view_module_version": "1.5.0",
            "description_tooltip": null,
            "_model_module": "@jupyter-widgets/controls",
            "layout": "IPY_MODEL_0eedaffa6aa6491fac6c48ad6ea1dd89"
          }
        },
        "34ae418694404b53905076c86ffb7e23": {
          "model_module": "@jupyter-widgets/controls",
          "model_name": "FloatProgressModel",
          "model_module_version": "1.5.0",
          "state": {
            "_view_name": "ProgressView",
            "style": "IPY_MODEL_2d6c5a972f624f68958d330be75bb3b4",
            "_dom_classes": [],
            "description": "",
            "_model_name": "FloatProgressModel",
            "bar_style": "success",
            "max": 526681800,
            "_view_module": "@jupyter-widgets/controls",
            "_model_module_version": "1.5.0",
            "value": 526681800,
            "_view_count": null,
            "_view_module_version": "1.5.0",
            "orientation": "horizontal",
            "min": 0,
            "description_tooltip": null,
            "_model_module": "@jupyter-widgets/controls",
            "layout": "IPY_MODEL_8aef4fee2b9f4062be7733239865627a"
          }
        },
        "4b1832196e58493c82137a6d779fcb5b": {
          "model_module": "@jupyter-widgets/controls",
          "model_name": "HTMLModel",
          "model_module_version": "1.5.0",
          "state": {
            "_view_name": "HTMLView",
            "style": "IPY_MODEL_6b8ca90c50224603899d04729b345d18",
            "_dom_classes": [],
            "description": "",
            "_model_name": "HTMLModel",
            "placeholder": "​",
            "_view_module": "@jupyter-widgets/controls",
            "_model_module_version": "1.5.0",
            "value": " 502M/502M [00:13&lt;00:00, 40.5MB/s]",
            "_view_count": null,
            "_view_module_version": "1.5.0",
            "description_tooltip": null,
            "_model_module": "@jupyter-widgets/controls",
            "layout": "IPY_MODEL_e353fd7dd6754386a019f52e10adc73d"
          }
        },
        "809c35107977421289d175ea1c13c948": {
          "model_module": "@jupyter-widgets/controls",
          "model_name": "DescriptionStyleModel",
          "model_module_version": "1.5.0",
          "state": {
            "_view_name": "StyleView",
            "_model_name": "DescriptionStyleModel",
            "description_width": "",
            "_view_module": "@jupyter-widgets/base",
            "_model_module_version": "1.5.0",
            "_view_count": null,
            "_view_module_version": "1.2.0",
            "_model_module": "@jupyter-widgets/controls"
          }
        },
        "0eedaffa6aa6491fac6c48ad6ea1dd89": {
          "model_module": "@jupyter-widgets/base",
          "model_name": "LayoutModel",
          "model_module_version": "1.2.0",
          "state": {
            "_view_name": "LayoutView",
            "grid_template_rows": null,
            "right": null,
            "justify_content": null,
            "_view_module": "@jupyter-widgets/base",
            "overflow": null,
            "_model_module_version": "1.2.0",
            "_view_count": null,
            "flex_flow": null,
            "width": null,
            "min_width": null,
            "border": null,
            "align_items": null,
            "bottom": null,
            "_model_module": "@jupyter-widgets/base",
            "top": null,
            "grid_column": null,
            "overflow_y": null,
            "overflow_x": null,
            "grid_auto_flow": null,
            "grid_area": null,
            "grid_template_columns": null,
            "flex": null,
            "_model_name": "LayoutModel",
            "justify_items": null,
            "grid_row": null,
            "max_height": null,
            "align_content": null,
            "visibility": null,
            "align_self": null,
            "height": null,
            "min_height": null,
            "padding": null,
            "grid_auto_rows": null,
            "grid_gap": null,
            "max_width": null,
            "order": null,
            "_view_module_version": "1.2.0",
            "grid_template_areas": null,
            "object_position": null,
            "object_fit": null,
            "grid_auto_columns": null,
            "margin": null,
            "display": null,
            "left": null
          }
        },
        "2d6c5a972f624f68958d330be75bb3b4": {
          "model_module": "@jupyter-widgets/controls",
          "model_name": "ProgressStyleModel",
          "model_module_version": "1.5.0",
          "state": {
            "_view_name": "StyleView",
            "_model_name": "ProgressStyleModel",
            "description_width": "",
            "_view_module": "@jupyter-widgets/base",
            "_model_module_version": "1.5.0",
            "_view_count": null,
            "_view_module_version": "1.2.0",
            "bar_color": null,
            "_model_module": "@jupyter-widgets/controls"
          }
        },
        "8aef4fee2b9f4062be7733239865627a": {
          "model_module": "@jupyter-widgets/base",
          "model_name": "LayoutModel",
          "model_module_version": "1.2.0",
          "state": {
            "_view_name": "LayoutView",
            "grid_template_rows": null,
            "right": null,
            "justify_content": null,
            "_view_module": "@jupyter-widgets/base",
            "overflow": null,
            "_model_module_version": "1.2.0",
            "_view_count": null,
            "flex_flow": null,
            "width": null,
            "min_width": null,
            "border": null,
            "align_items": null,
            "bottom": null,
            "_model_module": "@jupyter-widgets/base",
            "top": null,
            "grid_column": null,
            "overflow_y": null,
            "overflow_x": null,
            "grid_auto_flow": null,
            "grid_area": null,
            "grid_template_columns": null,
            "flex": null,
            "_model_name": "LayoutModel",
            "justify_items": null,
            "grid_row": null,
            "max_height": null,
            "align_content": null,
            "visibility": null,
            "align_self": null,
            "height": null,
            "min_height": null,
            "padding": null,
            "grid_auto_rows": null,
            "grid_gap": null,
            "max_width": null,
            "order": null,
            "_view_module_version": "1.2.0",
            "grid_template_areas": null,
            "object_position": null,
            "object_fit": null,
            "grid_auto_columns": null,
            "margin": null,
            "display": null,
            "left": null
          }
        },
        "6b8ca90c50224603899d04729b345d18": {
          "model_module": "@jupyter-widgets/controls",
          "model_name": "DescriptionStyleModel",
          "model_module_version": "1.5.0",
          "state": {
            "_view_name": "StyleView",
            "_model_name": "DescriptionStyleModel",
            "description_width": "",
            "_view_module": "@jupyter-widgets/base",
            "_model_module_version": "1.5.0",
            "_view_count": null,
            "_view_module_version": "1.2.0",
            "_model_module": "@jupyter-widgets/controls"
          }
        },
        "e353fd7dd6754386a019f52e10adc73d": {
          "model_module": "@jupyter-widgets/base",
          "model_name": "LayoutModel",
          "model_module_version": "1.2.0",
          "state": {
            "_view_name": "LayoutView",
            "grid_template_rows": null,
            "right": null,
            "justify_content": null,
            "_view_module": "@jupyter-widgets/base",
            "overflow": null,
            "_model_module_version": "1.2.0",
            "_view_count": null,
            "flex_flow": null,
            "width": null,
            "min_width": null,
            "border": null,
            "align_items": null,
            "bottom": null,
            "_model_module": "@jupyter-widgets/base",
            "top": null,
            "grid_column": null,
            "overflow_y": null,
            "overflow_x": null,
            "grid_auto_flow": null,
            "grid_area": null,
            "grid_template_columns": null,
            "flex": null,
            "_model_name": "LayoutModel",
            "justify_items": null,
            "grid_row": null,
            "max_height": null,
            "align_content": null,
            "visibility": null,
            "align_self": null,
            "height": null,
            "min_height": null,
            "padding": null,
            "grid_auto_rows": null,
            "grid_gap": null,
            "max_width": null,
            "order": null,
            "_view_module_version": "1.2.0",
            "grid_template_areas": null,
            "object_position": null,
            "object_fit": null,
            "grid_auto_columns": null,
            "margin": null,
            "display": null,
            "left": null
          }
        }
      }
    }
  },
  "cells": [
    {
      "cell_type": "markdown",
      "metadata": {
        "id": "view-in-github",
        "colab_type": "text"
      },
      "source": [
        "<a href=\"https://colab.research.google.com/github/sillver-0/BERT-pl/blob/main/BERT%2B.ipynb\" target=\"_parent\"><img src=\"https://colab.research.google.com/assets/colab-badge.svg\" alt=\"Open In Colab\"/></a>"
      ]
    },
    {
      "cell_type": "code",
      "metadata": {
        "id": "x1xJU3dwjk2y",
        "colab": {
          "base_uri": "https://localhost:8080/"
        },
        "outputId": "4d6f35f3-cadb-423d-d920-a26fee0865d2"
      },
      "source": [
        "from google.colab import auth\n",
        "auth.authenticate_user()\n",
        "\n",
        "from google.colab import drive\n",
        "drive.mount('/content/gdrive')"
      ],
      "execution_count": null,
      "outputs": [
        {
          "output_type": "stream",
          "name": "stdout",
          "text": [
            "Mounted at /content/gdrive\n"
          ]
        }
      ]
    },
    {
      "cell_type": "code",
      "metadata": {
        "id": "u40UnFLSj7bJ",
        "colab": {
          "base_uri": "https://localhost:8080/"
        },
        "outputId": "31896de6-500e-4dc8-e40e-67768c75488e"
      },
      "source": [
        "!pip install transformers"
      ],
      "execution_count": null,
      "outputs": [
        {
          "output_type": "stream",
          "name": "stdout",
          "text": [
            "Collecting transformers\n",
            "  Downloading transformers-4.11.3-py3-none-any.whl (2.9 MB)\n",
            "\u001b[K     |████████████████████████████████| 2.9 MB 5.4 MB/s \n",
            "\u001b[?25hCollecting huggingface-hub>=0.0.17\n",
            "  Downloading huggingface_hub-0.0.19-py3-none-any.whl (56 kB)\n",
            "\u001b[K     |████████████████████████████████| 56 kB 4.6 MB/s \n",
            "\u001b[?25hRequirement already satisfied: packaging>=20.0 in /usr/local/lib/python3.7/dist-packages (from transformers) (21.0)\n",
            "Requirement already satisfied: filelock in /usr/local/lib/python3.7/dist-packages (from transformers) (3.3.0)\n",
            "Collecting sacremoses\n",
            "  Downloading sacremoses-0.0.46-py3-none-any.whl (895 kB)\n",
            "\u001b[K     |████████████████████████████████| 895 kB 49.7 MB/s \n",
            "\u001b[?25hCollecting pyyaml>=5.1\n",
            "  Downloading PyYAML-6.0-cp37-cp37m-manylinux_2_5_x86_64.manylinux1_x86_64.manylinux_2_12_x86_64.manylinux2010_x86_64.whl (596 kB)\n",
            "\u001b[K     |████████████████████████████████| 596 kB 71.8 MB/s \n",
            "\u001b[?25hRequirement already satisfied: regex!=2019.12.17 in /usr/local/lib/python3.7/dist-packages (from transformers) (2019.12.20)\n",
            "Requirement already satisfied: requests in /usr/local/lib/python3.7/dist-packages (from transformers) (2.23.0)\n",
            "Requirement already satisfied: numpy>=1.17 in /usr/local/lib/python3.7/dist-packages (from transformers) (1.19.5)\n",
            "Collecting tokenizers<0.11,>=0.10.1\n",
            "  Downloading tokenizers-0.10.3-cp37-cp37m-manylinux_2_5_x86_64.manylinux1_x86_64.manylinux_2_12_x86_64.manylinux2010_x86_64.whl (3.3 MB)\n",
            "\u001b[K     |████████████████████████████████| 3.3 MB 47.8 MB/s \n",
            "\u001b[?25hRequirement already satisfied: importlib-metadata in /usr/local/lib/python3.7/dist-packages (from transformers) (4.8.1)\n",
            "Requirement already satisfied: tqdm>=4.27 in /usr/local/lib/python3.7/dist-packages (from transformers) (4.62.3)\n",
            "Requirement already satisfied: typing-extensions in /usr/local/lib/python3.7/dist-packages (from huggingface-hub>=0.0.17->transformers) (3.7.4.3)\n",
            "Requirement already satisfied: pyparsing>=2.0.2 in /usr/local/lib/python3.7/dist-packages (from packaging>=20.0->transformers) (2.4.7)\n",
            "Requirement already satisfied: zipp>=0.5 in /usr/local/lib/python3.7/dist-packages (from importlib-metadata->transformers) (3.6.0)\n",
            "Requirement already satisfied: idna<3,>=2.5 in /usr/local/lib/python3.7/dist-packages (from requests->transformers) (2.10)\n",
            "Requirement already satisfied: chardet<4,>=3.0.2 in /usr/local/lib/python3.7/dist-packages (from requests->transformers) (3.0.4)\n",
            "Requirement already satisfied: certifi>=2017.4.17 in /usr/local/lib/python3.7/dist-packages (from requests->transformers) (2021.5.30)\n",
            "Requirement already satisfied: urllib3!=1.25.0,!=1.25.1,<1.26,>=1.21.1 in /usr/local/lib/python3.7/dist-packages (from requests->transformers) (1.24.3)\n",
            "Requirement already satisfied: click in /usr/local/lib/python3.7/dist-packages (from sacremoses->transformers) (7.1.2)\n",
            "Requirement already satisfied: joblib in /usr/local/lib/python3.7/dist-packages (from sacremoses->transformers) (1.0.1)\n",
            "Requirement already satisfied: six in /usr/local/lib/python3.7/dist-packages (from sacremoses->transformers) (1.15.0)\n",
            "Installing collected packages: pyyaml, tokenizers, sacremoses, huggingface-hub, transformers\n",
            "  Attempting uninstall: pyyaml\n",
            "    Found existing installation: PyYAML 3.13\n",
            "    Uninstalling PyYAML-3.13:\n",
            "      Successfully uninstalled PyYAML-3.13\n",
            "Successfully installed huggingface-hub-0.0.19 pyyaml-6.0 sacremoses-0.0.46 tokenizers-0.10.3 transformers-4.11.3\n"
          ]
        }
      ]
    },
    {
      "cell_type": "markdown",
      "metadata": {
        "id": "-jAMq18u7khx"
      },
      "source": [
        "**BERT 훈련**"
      ]
    },
    {
      "cell_type": "code",
      "metadata": {
        "id": "WP46A1JBkJEV"
      },
      "source": [
        "import tensorflow as tf\n",
        "import numpy as np\n",
        "import pandas as pd\n",
        "#from transformers import *\n",
        "import json\n",
        "from tqdm import tqdm\n",
        "import os"
      ],
      "execution_count": null,
      "outputs": []
    },
    {
      "cell_type": "code",
      "metadata": {
        "id": "n8aZQxV-49Sg"
      },
      "source": [
        "import transformers"
      ],
      "execution_count": null,
      "outputs": []
    },
    {
      "cell_type": "code",
      "metadata": {
        "id": "nO4wLHWI5Iyt"
      },
      "source": [
        "from transformers import BertTokenizer"
      ],
      "execution_count": null,
      "outputs": []
    },
    {
      "cell_type": "code",
      "metadata": {
        "id": "QFX9zFN5kY0x",
        "colab": {
          "base_uri": "https://localhost:8080/",
          "height": 206
        },
        "outputId": "6a5e2936-687e-41b7-c730-ae905994b492"
      },
      "source": [
        "data = pd.read_csv('/content/gdrive/My Drive/Colab Notebooks/csv/1116label.csv')\n",
        "data.head()"
      ],
      "execution_count": null,
      "outputs": [
        {
          "output_type": "execute_result",
          "data": {
            "text/html": [
              "<div>\n",
              "<style scoped>\n",
              "    .dataframe tbody tr th:only-of-type {\n",
              "        vertical-align: middle;\n",
              "    }\n",
              "\n",
              "    .dataframe tbody tr th {\n",
              "        vertical-align: top;\n",
              "    }\n",
              "\n",
              "    .dataframe thead th {\n",
              "        text-align: right;\n",
              "    }\n",
              "</style>\n",
              "<table border=\"1\" class=\"dataframe\">\n",
              "  <thead>\n",
              "    <tr style=\"text-align: right;\">\n",
              "      <th></th>\n",
              "      <th>review</th>\n",
              "      <th>rate</th>\n",
              "    </tr>\n",
              "  </thead>\n",
              "  <tbody>\n",
              "    <tr>\n",
              "      <th>0</th>\n",
              "      <td>I've tried a few antidepressants over the year...</td>\n",
              "      <td>1</td>\n",
              "    </tr>\n",
              "    <tr>\n",
              "      <th>1</th>\n",
              "      <td>I was on this pill for almost two years. It do...</td>\n",
              "      <td>0</td>\n",
              "    </tr>\n",
              "    <tr>\n",
              "      <th>2</th>\n",
              "      <td>Holy Hell is exactly how I feel. I had been ta...</td>\n",
              "      <td>0</td>\n",
              "    </tr>\n",
              "    <tr>\n",
              "      <th>3</th>\n",
              "      <td>This is a waste of money.  Did not curb my app...</td>\n",
              "      <td>0</td>\n",
              "    </tr>\n",
              "    <tr>\n",
              "      <th>4</th>\n",
              "      <td>No problems, watch what you eat.</td>\n",
              "      <td>1</td>\n",
              "    </tr>\n",
              "  </tbody>\n",
              "</table>\n",
              "</div>"
            ],
            "text/plain": [
              "                                              review  rate\n",
              "0  I've tried a few antidepressants over the year...     1\n",
              "1  I was on this pill for almost two years. It do...     0\n",
              "2  Holy Hell is exactly how I feel. I had been ta...     0\n",
              "3  This is a waste of money.  Did not curb my app...     0\n",
              "4                   No problems, watch what you eat.     1"
            ]
          },
          "metadata": {},
          "execution_count": 6
        }
      ]
    },
    {
      "cell_type": "code",
      "metadata": {
        "id": "txpaPEBbrAzZ",
        "colab": {
          "base_uri": "https://localhost:8080/"
        },
        "outputId": "1c76a5d3-7a30-4695-dc7d-aaaf0d040522"
      },
      "source": [
        "print(len(data))"
      ],
      "execution_count": null,
      "outputs": [
        {
          "output_type": "stream",
          "name": "stdout",
          "text": [
            "19633\n"
          ]
        }
      ]
    },
    {
      "cell_type": "code",
      "metadata": {
        "id": "OHML8wBGkvLU",
        "colab": {
          "base_uri": "https://localhost:8080/",
          "height": 464,
          "referenced_widgets": [
            "cda74ba2ba98488e870e24a4029f441c",
            "22b94b43891a4d5cbdd278bebb3f925f",
            "bb3181a0cbce4a44b08a450b2965ba5d",
            "322a2bfd331343f7b97f1b470bcf5fbb",
            "0789dba25fe5404a9537952d31ba1450",
            "ab90170f6acb496096e7ba6e1d55f45e",
            "c23604fa5d7b4e6283784a9a68be9491",
            "4ddb468111f14ee2b46375f3e34d3bf6",
            "f448e227d834402e9c42f8da88e74dc5",
            "90c3f1b24e48428eb1e56127e8c8c192",
            "a0da2721e29e44f185cb1fb594bbe323",
            "2244fd9489374a55892c06e8063daedb",
            "0e991264293d434fb17e278ca5d4c429",
            "b8d3e9d798fb49c3ad23edd3d383436c",
            "2f048973504c419386855271721d5b3d",
            "d4a56c3956364e7f8855a0f210da2faf",
            "97856b53dc5a46c0a1a35bbd785b769b",
            "3a458b1417624852b6ac5e6c99fcb7ad",
            "ae30400d375245ad85d53e22c56acd30",
            "ec09337b33274c68a20e919751dcbe69",
            "0446d17d7cf141f08f10bd54f4f7f74c",
            "e36abbf7a46a4b9da01f937c193faa8f",
            "4babefa0b602468182f53898ae25a2db",
            "8afa47f1825f4a7796bb0a299b394bf3",
            "7c87ce79978e42f0be011bab19294120",
            "ae3c173a697e499bb18432d3dcea88a5",
            "04e9d92047d3433a81838d9a44ad999f",
            "72fe2f4c400e414b91bc6903c0bedc28",
            "37133ccae345412abdfb718ec502388e",
            "d599daf2ab944e34bf2ad9dd644d87ba",
            "acb887f12d3c4336a980a0e45d0f2413",
            "6f4a94a24efe4fd7a68e91f420ebd576",
            "8776168431d44261bb04274df1bdc681",
            "b77f993957f74579b22bdd87bc47bd74",
            "d9b250c0874a4af8899a2d4b0e736aef",
            "a72d14bee5884ed5aff5190032f21424",
            "2092d8dc34f74741bdacc49767657f90",
            "24d8409dbc14484aa9867418f9167c84",
            "3af4d1ecd6c940318180d1cf7da2a7dc",
            "acf68973f02045769069c8c1da6672b8",
            "f4065df212b44d0eb3de38aa08431d76",
            "758e1a5d7eba4a41a0c72378502c08ef",
            "77bf980052e14db382a0856956dd4ff9",
            "d66dc66092a54edc86c27b887e69b11d"
          ]
        },
        "outputId": "96a26337-7971-4b92-99b0-d7c10e15cd37"
      },
      "source": [
        "tokenizer = BertTokenizer.from_pretrained('bert-base-cased')"
      ],
      "execution_count": null,
      "outputs": [
        {
          "output_type": "stream",
          "name": "stderr",
          "text": [
            "DEBUG:filelock:Attempting to acquire lock 140247932073872 on /root/.cache/huggingface/transformers/6508e60ab3c1200bffa26c95f4b58ac6b6d95fba4db1f195f632fa3cd7bc64cc.437aa611e89f6fc6675a049d2b5545390adbc617e7d655286421c191d2be2791.lock\n",
            "DEBUG:filelock:Lock 140247932073872 acquired on /root/.cache/huggingface/transformers/6508e60ab3c1200bffa26c95f4b58ac6b6d95fba4db1f195f632fa3cd7bc64cc.437aa611e89f6fc6675a049d2b5545390adbc617e7d655286421c191d2be2791.lock\n"
          ]
        },
        {
          "output_type": "display_data",
          "data": {
            "application/vnd.jupyter.widget-view+json": {
              "model_id": "cda74ba2ba98488e870e24a4029f441c",
              "version_minor": 0,
              "version_major": 2
            },
            "text/plain": [
              "Downloading:   0%|          | 0.00/208k [00:00<?, ?B/s]"
            ]
          },
          "metadata": {}
        },
        {
          "output_type": "stream",
          "name": "stderr",
          "text": [
            "DEBUG:filelock:Attempting to release lock 140247932073872 on /root/.cache/huggingface/transformers/6508e60ab3c1200bffa26c95f4b58ac6b6d95fba4db1f195f632fa3cd7bc64cc.437aa611e89f6fc6675a049d2b5545390adbc617e7d655286421c191d2be2791.lock\n",
            "DEBUG:filelock:Lock 140247932073872 released on /root/.cache/huggingface/transformers/6508e60ab3c1200bffa26c95f4b58ac6b6d95fba4db1f195f632fa3cd7bc64cc.437aa611e89f6fc6675a049d2b5545390adbc617e7d655286421c191d2be2791.lock\n",
            "DEBUG:filelock:Attempting to acquire lock 140247928403792 on /root/.cache/huggingface/transformers/ec84e86ee39bfe112543192cf981deebf7e6cbe8c91b8f7f8f63c9be44366158.ec5c189f89475aac7d8cbd243960a0655cfadc3d0474da8ff2ed0bf1699c2a5f.lock\n",
            "DEBUG:filelock:Lock 140247928403792 acquired on /root/.cache/huggingface/transformers/ec84e86ee39bfe112543192cf981deebf7e6cbe8c91b8f7f8f63c9be44366158.ec5c189f89475aac7d8cbd243960a0655cfadc3d0474da8ff2ed0bf1699c2a5f.lock\n"
          ]
        },
        {
          "output_type": "display_data",
          "data": {
            "application/vnd.jupyter.widget-view+json": {
              "model_id": "2244fd9489374a55892c06e8063daedb",
              "version_minor": 0,
              "version_major": 2
            },
            "text/plain": [
              "Downloading:   0%|          | 0.00/29.0 [00:00<?, ?B/s]"
            ]
          },
          "metadata": {}
        },
        {
          "output_type": "stream",
          "name": "stderr",
          "text": [
            "DEBUG:filelock:Attempting to release lock 140247928403792 on /root/.cache/huggingface/transformers/ec84e86ee39bfe112543192cf981deebf7e6cbe8c91b8f7f8f63c9be44366158.ec5c189f89475aac7d8cbd243960a0655cfadc3d0474da8ff2ed0bf1699c2a5f.lock\n",
            "DEBUG:filelock:Lock 140247928403792 released on /root/.cache/huggingface/transformers/ec84e86ee39bfe112543192cf981deebf7e6cbe8c91b8f7f8f63c9be44366158.ec5c189f89475aac7d8cbd243960a0655cfadc3d0474da8ff2ed0bf1699c2a5f.lock\n",
            "DEBUG:filelock:Attempting to acquire lock 140247928000080 on /root/.cache/huggingface/transformers/226a307193a9f4344264cdc76a12988448a25345ba172f2c7421f3b6810fddad.3dab63143af66769bbb35e3811f75f7e16b2320e12b7935e216bd6159ce6d9a6.lock\n",
            "DEBUG:filelock:Lock 140247928000080 acquired on /root/.cache/huggingface/transformers/226a307193a9f4344264cdc76a12988448a25345ba172f2c7421f3b6810fddad.3dab63143af66769bbb35e3811f75f7e16b2320e12b7935e216bd6159ce6d9a6.lock\n"
          ]
        },
        {
          "output_type": "display_data",
          "data": {
            "application/vnd.jupyter.widget-view+json": {
              "model_id": "4babefa0b602468182f53898ae25a2db",
              "version_minor": 0,
              "version_major": 2
            },
            "text/plain": [
              "Downloading:   0%|          | 0.00/426k [00:00<?, ?B/s]"
            ]
          },
          "metadata": {}
        },
        {
          "output_type": "stream",
          "name": "stderr",
          "text": [
            "DEBUG:filelock:Attempting to release lock 140247928000080 on /root/.cache/huggingface/transformers/226a307193a9f4344264cdc76a12988448a25345ba172f2c7421f3b6810fddad.3dab63143af66769bbb35e3811f75f7e16b2320e12b7935e216bd6159ce6d9a6.lock\n",
            "DEBUG:filelock:Lock 140247928000080 released on /root/.cache/huggingface/transformers/226a307193a9f4344264cdc76a12988448a25345ba172f2c7421f3b6810fddad.3dab63143af66769bbb35e3811f75f7e16b2320e12b7935e216bd6159ce6d9a6.lock\n",
            "DEBUG:filelock:Attempting to acquire lock 140247919294608 on /root/.cache/huggingface/transformers/a803e0468a8fe090683bdc453f4fac622804f49de86d7cecaee92365d4a0f829.a64a22196690e0e82ead56f388a3ef3a50de93335926ccfa20610217db589307.lock\n",
            "DEBUG:filelock:Lock 140247919294608 acquired on /root/.cache/huggingface/transformers/a803e0468a8fe090683bdc453f4fac622804f49de86d7cecaee92365d4a0f829.a64a22196690e0e82ead56f388a3ef3a50de93335926ccfa20610217db589307.lock\n"
          ]
        },
        {
          "output_type": "display_data",
          "data": {
            "application/vnd.jupyter.widget-view+json": {
              "model_id": "b77f993957f74579b22bdd87bc47bd74",
              "version_minor": 0,
              "version_major": 2
            },
            "text/plain": [
              "Downloading:   0%|          | 0.00/570 [00:00<?, ?B/s]"
            ]
          },
          "metadata": {}
        },
        {
          "output_type": "stream",
          "name": "stderr",
          "text": [
            "DEBUG:filelock:Attempting to release lock 140247919294608 on /root/.cache/huggingface/transformers/a803e0468a8fe090683bdc453f4fac622804f49de86d7cecaee92365d4a0f829.a64a22196690e0e82ead56f388a3ef3a50de93335926ccfa20610217db589307.lock\n",
            "DEBUG:filelock:Lock 140247919294608 released on /root/.cache/huggingface/transformers/a803e0468a8fe090683bdc453f4fac622804f49de86d7cecaee92365d4a0f829.a64a22196690e0e82ead56f388a3ef3a50de93335926ccfa20610217db589307.lock\n"
          ]
        }
      ]
    },
    {
      "cell_type": "code",
      "metadata": {
        "id": "Vhj-iFy2mVoU",
        "colab": {
          "base_uri": "https://localhost:8080/"
        },
        "outputId": "c482dfa1-98e4-433f-f730-ac8d2ac86585"
      },
      "source": [
        "print(tokenizer.encode(\"Really good for lower back pain,  get me back working fast.  I'm a 49years old builder and highly recommended celebrex.  I would only use it for a few days and  always fixed the problem\"))"
      ],
      "execution_count": null,
      "outputs": [
        {
          "output_type": "stream",
          "name": "stdout",
          "text": [
            "[101, 8762, 1363, 1111, 2211, 1171, 2489, 117, 1243, 1143, 1171, 1684, 2698, 119, 146, 112, 182, 170, 3927, 4980, 7666, 1385, 15369, 1105, 3023, 6315, 172, 11194, 9730, 1775, 119, 146, 1156, 1178, 1329, 1122, 1111, 170, 1374, 1552, 1105, 1579, 4275, 1103, 2463, 102]\n"
          ]
        }
      ]
    },
    {
      "cell_type": "code",
      "metadata": {
        "id": "jvexZVRTmlzt",
        "colab": {
          "base_uri": "https://localhost:8080/"
        },
        "outputId": "dfbca256-31cd-451f-9d52-b840ac1bcf7c"
      },
      "source": [
        "print(tokenizer.tokenize(\"Really good for lower back pain,  get me back working fast.  I'm a 49years old builder and highly recommended celebrex.  I would only use it for a few days and  always fixed the problem\"))"
      ],
      "execution_count": null,
      "outputs": [
        {
          "output_type": "stream",
          "name": "stdout",
          "text": [
            "['Really', 'good', 'for', 'lower', 'back', 'pain', ',', 'get', 'me', 'back', 'working', 'fast', '.', 'I', \"'\", 'm', 'a', '49', '##ye', '##ars', 'old', 'builder', 'and', 'highly', 'recommended', 'c', '##ele', '##bre', '##x', '.', 'I', 'would', 'only', 'use', 'it', 'for', 'a', 'few', 'days', 'and', 'always', 'fixed', 'the', 'problem']\n"
          ]
        }
      ]
    },
    {
      "cell_type": "code",
      "metadata": {
        "id": "GAEKld51molj"
      },
      "source": [
        "def convert_data(data_df):\n",
        "    global tokenizer\n",
        "    \n",
        "    SEQ_LEN = 250\n",
        "    #SEQ_LEN : 버트에 들어갈 인풋의 길이\n",
        "    \n",
        "    tokens, masks, segments, targets = [], [], [], []\n",
        "    \n",
        "    for i in tqdm(range(len(data_df))):\n",
        "        # token : 문장을 토큰화함\n",
        "        token = tokenizer.encode(data_df[DATA_COLUMN][i], max_length=SEQ_LEN, truncation=True, padding='max_length')\n",
        "       \n",
        "        # 마스크는 토큰화한 문장에서 패딩이 아닌 부분은 1, 패딩인 부분은 0으로 통일\n",
        "        num_zeros = token.count(0)\n",
        "        mask = [1]*(SEQ_LEN-num_zeros) + [0]*num_zeros\n",
        "        \n",
        "        # 문장의 전후관계를 구분해주는 세그먼트는 문장이 1개밖에 없으므로 모두 0\n",
        "        segment = [0]*SEQ_LEN\n",
        "\n",
        "        # 버트 인풋으로 들어가는 token, mask, segment를 tokens, segments에 각각 저장\n",
        "        tokens.append(token)\n",
        "        masks.append(mask)\n",
        "        segments.append(segment)\n",
        "        \n",
        "        # 정답(긍정 : 1 부정 0)을 targets 변수에 저장해 줌\n",
        "        targets.append(data_df[LABEL_COLUMN][i])\n",
        "\n",
        "    # tokens, masks, segments, 정답 변수 targets를 numpy array로 지정    \n",
        "    tokens = np.array(tokens)\n",
        "    masks = np.array(masks)\n",
        "    segments = np.array(segments)\n",
        "    targets = np.array(targets)\n",
        "\n",
        "    return [tokens, masks, segments], targets\n",
        "\n",
        "# 위에 정의한 convert_data 함수를 불러오는 함수를 정의\n",
        "def load_data(pandas_dataframe):\n",
        "    data_df = pandas_dataframe\n",
        "    data_df[DATA_COLUMN] = data_df[DATA_COLUMN].astype(str)\n",
        "    data_df[LABEL_COLUMN] = data_df[LABEL_COLUMN].astype(int)\n",
        "    data_x, data_y = convert_data(data_df)\n",
        "    return data_x, data_y"
      ],
      "execution_count": null,
      "outputs": []
    },
    {
      "cell_type": "code",
      "metadata": {
        "id": "fzsQzEAt5uxc",
        "colab": {
          "base_uri": "https://localhost:8080/"
        },
        "outputId": "486fcb2c-3d02-45f7-d4c7-ce92fe346706"
      },
      "source": [
        "TPU = True\n",
        "if TPU:\n",
        "  resolver = tf.distribute.cluster_resolver.TPUClusterResolver(tpu = 'grpc://' + os.environ['COLAB_TPU_ADDR'])\n",
        "  tf.config.experimental_connect_to_cluster(resolver)\n",
        "  tf.tpu.experimental.initialize_tpu_system(resolver)\n",
        "else:\n",
        "  pass"
      ],
      "execution_count": null,
      "outputs": [
        {
          "output_type": "stream",
          "name": "stdout",
          "text": [
            "INFO:tensorflow:Clearing out eager caches\n"
          ]
        },
        {
          "output_type": "stream",
          "name": "stderr",
          "text": [
            "INFO:tensorflow:Clearing out eager caches\n"
          ]
        },
        {
          "output_type": "stream",
          "name": "stdout",
          "text": [
            "INFO:tensorflow:Initializing the TPU system: grpc://10.107.92.122:8470\n"
          ]
        },
        {
          "output_type": "stream",
          "name": "stderr",
          "text": [
            "INFO:tensorflow:Initializing the TPU system: grpc://10.107.92.122:8470\n"
          ]
        },
        {
          "output_type": "stream",
          "name": "stdout",
          "text": [
            "INFO:tensorflow:Finished initializing TPU system.\n"
          ]
        },
        {
          "output_type": "stream",
          "name": "stderr",
          "text": [
            "INFO:tensorflow:Finished initializing TPU system.\n"
          ]
        }
      ]
    },
    {
      "cell_type": "code",
      "metadata": {
        "id": "-vrfnxDS5gEs"
      },
      "source": [
        "from transformers import TFBertModel"
      ],
      "execution_count": null,
      "outputs": []
    },
    {
      "cell_type": "code",
      "metadata": {
        "id": "sHCJhHIM6A-_",
        "colab": {
          "base_uri": "https://localhost:8080/",
          "height": 237,
          "referenced_widgets": [
            "cde98e3c83c94869b2a6b08458a99c72",
            "50a92530679d4b258141df75ba070199",
            "f3510b7fac5a48c19094cad7e0977fe0",
            "34ae418694404b53905076c86ffb7e23",
            "4b1832196e58493c82137a6d779fcb5b",
            "809c35107977421289d175ea1c13c948",
            "0eedaffa6aa6491fac6c48ad6ea1dd89",
            "2d6c5a972f624f68958d330be75bb3b4",
            "8aef4fee2b9f4062be7733239865627a",
            "6b8ca90c50224603899d04729b345d18",
            "e353fd7dd6754386a019f52e10adc73d"
          ]
        },
        "outputId": "680f560f-641e-4e29-94ff-84269967a7a4"
      },
      "source": [
        "model = TFBertModel.from_pretrained('bert-base-cased')\n",
        "SEQ_LEN = 250\n",
        "token_inputs = tf.keras.layers.Input((SEQ_LEN,), dtype = tf.int32, name = 'input_word_ids')\n",
        "mask_inputs = tf.keras.layers.Input((SEQ_LEN,), dtype = tf.int32, name = 'input_masks')\n",
        "segment_inputs = tf.keras.layers.Input((SEQ_LEN), dtype = tf.int32, name = 'input_segment')\n",
        "\n",
        "bert_outputs = model([token_inputs, mask_inputs, segment_inputs])"
      ],
      "execution_count": null,
      "outputs": [
        {
          "output_type": "stream",
          "name": "stderr",
          "text": [
            "DEBUG:filelock:Attempting to acquire lock 140247913353680 on /root/.cache/huggingface/transformers/01800f4158e284e2447020e0124bc3f6aea3ac49848e744594f7cce8ee5ac0a4.a7137b2090d9302d722735af604b4c142ec9d1bfc31be7cbbe230aea9d5cfb76.h5.lock\n",
            "DEBUG:filelock:Lock 140247913353680 acquired on /root/.cache/huggingface/transformers/01800f4158e284e2447020e0124bc3f6aea3ac49848e744594f7cce8ee5ac0a4.a7137b2090d9302d722735af604b4c142ec9d1bfc31be7cbbe230aea9d5cfb76.h5.lock\n"
          ]
        },
        {
          "output_type": "display_data",
          "data": {
            "application/vnd.jupyter.widget-view+json": {
              "model_id": "cde98e3c83c94869b2a6b08458a99c72",
              "version_minor": 0,
              "version_major": 2
            },
            "text/plain": [
              "Downloading:   0%|          | 0.00/502M [00:00<?, ?B/s]"
            ]
          },
          "metadata": {}
        },
        {
          "output_type": "stream",
          "name": "stderr",
          "text": [
            "DEBUG:filelock:Attempting to release lock 140247913353680 on /root/.cache/huggingface/transformers/01800f4158e284e2447020e0124bc3f6aea3ac49848e744594f7cce8ee5ac0a4.a7137b2090d9302d722735af604b4c142ec9d1bfc31be7cbbe230aea9d5cfb76.h5.lock\n",
            "DEBUG:filelock:Lock 140247913353680 released on /root/.cache/huggingface/transformers/01800f4158e284e2447020e0124bc3f6aea3ac49848e744594f7cce8ee5ac0a4.a7137b2090d9302d722735af604b4c142ec9d1bfc31be7cbbe230aea9d5cfb76.h5.lock\n",
            "Some layers from the model checkpoint at bert-base-cased were not used when initializing TFBertModel: ['mlm___cls', 'nsp___cls']\n",
            "- This IS expected if you are initializing TFBertModel from the checkpoint of a model trained on another task or with another architecture (e.g. initializing a BertForSequenceClassification model from a BertForPreTraining model).\n",
            "- This IS NOT expected if you are initializing TFBertModel from the checkpoint of a model that you expect to be exactly identical (initializing a BertForSequenceClassification model from a BertForSequenceClassification model).\n",
            "All the layers of TFBertModel were initialized from the model checkpoint at bert-base-cased.\n",
            "If your task is similar to the task the model of the checkpoint was trained on, you can already use TFBertModel for predictions without further training.\n"
          ]
        }
      ]
    },
    {
      "cell_type": "code",
      "metadata": {
        "id": "r5fPy1tt6d28",
        "colab": {
          "base_uri": "https://localhost:8080/"
        },
        "outputId": "a9258dba-7629-493d-def6-138f73097ed4"
      },
      "source": [
        "bert_outputs = bert_outputs[1]\n",
        "sentiment_first = tf.keras.layers.Dense(1, activation = 'sigmoid', kernel_initializer = tf.keras.initializers.TruncatedNormal(stddev = 0.02))(bert_outputs)\n",
        "sentiment_model = tf.keras.Model([token_inputs, mask_inputs, segment_inputs], sentiment_first)\n",
        "sentiment_model.compile(optimizer = tf.keras.optimizers.Adam(lr = 1.0e-5), loss = tf.keras.losses.BinaryCrossentropy(), metrics = ['accuracy'])"
      ],
      "execution_count": null,
      "outputs": [
        {
          "output_type": "stream",
          "name": "stderr",
          "text": [
            "/usr/local/lib/python3.7/dist-packages/keras/optimizer_v2/optimizer_v2.py:356: UserWarning: The `lr` argument is deprecated, use `learning_rate` instead.\n",
            "  \"The `lr` argument is deprecated, use `learning_rate` instead.\")\n"
          ]
        }
      ]
    },
    {
      "cell_type": "code",
      "metadata": {
        "id": "IabOY0oA7OrF",
        "colab": {
          "base_uri": "https://localhost:8080/"
        },
        "outputId": "4ab83d03-5222-44df-aeb0-bce21bac8aa4"
      },
      "source": [
        "sentiment_model.summary()"
      ],
      "execution_count": null,
      "outputs": [
        {
          "output_type": "stream",
          "name": "stdout",
          "text": [
            "Model: \"model\"\n",
            "__________________________________________________________________________________________________\n",
            "Layer (type)                    Output Shape         Param #     Connected to                     \n",
            "==================================================================================================\n",
            "input_word_ids (InputLayer)     [(None, 250)]        0                                            \n",
            "__________________________________________________________________________________________________\n",
            "input_masks (InputLayer)        [(None, 250)]        0                                            \n",
            "__________________________________________________________________________________________________\n",
            "input_segment (InputLayer)      [(None, 250)]        0                                            \n",
            "__________________________________________________________________________________________________\n",
            "tf_bert_model (TFBertModel)     TFBaseModelOutputWit 108310272   input_word_ids[0][0]             \n",
            "                                                                 input_masks[0][0]                \n",
            "                                                                 input_segment[0][0]              \n",
            "__________________________________________________________________________________________________\n",
            "dense (Dense)                   (None, 1)            769         tf_bert_model[0][1]              \n",
            "==================================================================================================\n",
            "Total params: 108,311,041\n",
            "Trainable params: 108,311,041\n",
            "Non-trainable params: 0\n",
            "__________________________________________________________________________________________________\n"
          ]
        }
      ]
    },
    {
      "cell_type": "code",
      "metadata": {
        "colab": {
          "base_uri": "https://localhost:8080/"
        },
        "id": "ZMNIsL6b6IZO",
        "outputId": "a92221ee-51b0-477f-efaf-e047aacc2674"
      },
      "source": [
        "!pip install tensorflow-addons"
      ],
      "execution_count": null,
      "outputs": [
        {
          "output_type": "stream",
          "name": "stdout",
          "text": [
            "Collecting tensorflow-addons\n",
            "  Downloading tensorflow_addons-0.14.0-cp37-cp37m-manylinux_2_12_x86_64.manylinux2010_x86_64.whl (1.1 MB)\n",
            "\u001b[?25l\r\u001b[K     |▎                               | 10 kB 24.4 MB/s eta 0:00:01\r\u001b[K     |▋                               | 20 kB 29.6 MB/s eta 0:00:01\r\u001b[K     |▉                               | 30 kB 12.8 MB/s eta 0:00:01\r\u001b[K     |█▏                              | 40 kB 9.8 MB/s eta 0:00:01\r\u001b[K     |█▌                              | 51 kB 5.2 MB/s eta 0:00:01\r\u001b[K     |█▊                              | 61 kB 5.6 MB/s eta 0:00:01\r\u001b[K     |██                              | 71 kB 5.9 MB/s eta 0:00:01\r\u001b[K     |██▍                             | 81 kB 6.7 MB/s eta 0:00:01\r\u001b[K     |██▋                             | 92 kB 6.9 MB/s eta 0:00:01\r\u001b[K     |███                             | 102 kB 5.3 MB/s eta 0:00:01\r\u001b[K     |███▎                            | 112 kB 5.3 MB/s eta 0:00:01\r\u001b[K     |███▌                            | 122 kB 5.3 MB/s eta 0:00:01\r\u001b[K     |███▉                            | 133 kB 5.3 MB/s eta 0:00:01\r\u001b[K     |████▏                           | 143 kB 5.3 MB/s eta 0:00:01\r\u001b[K     |████▍                           | 153 kB 5.3 MB/s eta 0:00:01\r\u001b[K     |████▊                           | 163 kB 5.3 MB/s eta 0:00:01\r\u001b[K     |█████                           | 174 kB 5.3 MB/s eta 0:00:01\r\u001b[K     |█████▎                          | 184 kB 5.3 MB/s eta 0:00:01\r\u001b[K     |█████▋                          | 194 kB 5.3 MB/s eta 0:00:01\r\u001b[K     |██████                          | 204 kB 5.3 MB/s eta 0:00:01\r\u001b[K     |██████▏                         | 215 kB 5.3 MB/s eta 0:00:01\r\u001b[K     |██████▌                         | 225 kB 5.3 MB/s eta 0:00:01\r\u001b[K     |██████▉                         | 235 kB 5.3 MB/s eta 0:00:01\r\u001b[K     |███████                         | 245 kB 5.3 MB/s eta 0:00:01\r\u001b[K     |███████▍                        | 256 kB 5.3 MB/s eta 0:00:01\r\u001b[K     |███████▊                        | 266 kB 5.3 MB/s eta 0:00:01\r\u001b[K     |████████                        | 276 kB 5.3 MB/s eta 0:00:01\r\u001b[K     |████████▎                       | 286 kB 5.3 MB/s eta 0:00:01\r\u001b[K     |████████▋                       | 296 kB 5.3 MB/s eta 0:00:01\r\u001b[K     |████████▉                       | 307 kB 5.3 MB/s eta 0:00:01\r\u001b[K     |█████████▏                      | 317 kB 5.3 MB/s eta 0:00:01\r\u001b[K     |█████████▌                      | 327 kB 5.3 MB/s eta 0:00:01\r\u001b[K     |█████████▊                      | 337 kB 5.3 MB/s eta 0:00:01\r\u001b[K     |██████████                      | 348 kB 5.3 MB/s eta 0:00:01\r\u001b[K     |██████████▍                     | 358 kB 5.3 MB/s eta 0:00:01\r\u001b[K     |██████████▋                     | 368 kB 5.3 MB/s eta 0:00:01\r\u001b[K     |███████████                     | 378 kB 5.3 MB/s eta 0:00:01\r\u001b[K     |███████████▎                    | 389 kB 5.3 MB/s eta 0:00:01\r\u001b[K     |███████████▌                    | 399 kB 5.3 MB/s eta 0:00:01\r\u001b[K     |███████████▉                    | 409 kB 5.3 MB/s eta 0:00:01\r\u001b[K     |████████████▏                   | 419 kB 5.3 MB/s eta 0:00:01\r\u001b[K     |████████████▍                   | 430 kB 5.3 MB/s eta 0:00:01\r\u001b[K     |████████████▊                   | 440 kB 5.3 MB/s eta 0:00:01\r\u001b[K     |█████████████                   | 450 kB 5.3 MB/s eta 0:00:01\r\u001b[K     |█████████████▎                  | 460 kB 5.3 MB/s eta 0:00:01\r\u001b[K     |█████████████▋                  | 471 kB 5.3 MB/s eta 0:00:01\r\u001b[K     |██████████████                  | 481 kB 5.3 MB/s eta 0:00:01\r\u001b[K     |██████████████▏                 | 491 kB 5.3 MB/s eta 0:00:01\r\u001b[K     |██████████████▌                 | 501 kB 5.3 MB/s eta 0:00:01\r\u001b[K     |██████████████▉                 | 512 kB 5.3 MB/s eta 0:00:01\r\u001b[K     |███████████████                 | 522 kB 5.3 MB/s eta 0:00:01\r\u001b[K     |███████████████▍                | 532 kB 5.3 MB/s eta 0:00:01\r\u001b[K     |███████████████▊                | 542 kB 5.3 MB/s eta 0:00:01\r\u001b[K     |████████████████                | 552 kB 5.3 MB/s eta 0:00:01\r\u001b[K     |████████████████▎               | 563 kB 5.3 MB/s eta 0:00:01\r\u001b[K     |████████████████▋               | 573 kB 5.3 MB/s eta 0:00:01\r\u001b[K     |████████████████▉               | 583 kB 5.3 MB/s eta 0:00:01\r\u001b[K     |█████████████████▏              | 593 kB 5.3 MB/s eta 0:00:01\r\u001b[K     |█████████████████▌              | 604 kB 5.3 MB/s eta 0:00:01\r\u001b[K     |█████████████████▊              | 614 kB 5.3 MB/s eta 0:00:01\r\u001b[K     |██████████████████              | 624 kB 5.3 MB/s eta 0:00:01\r\u001b[K     |██████████████████▍             | 634 kB 5.3 MB/s eta 0:00:01\r\u001b[K     |██████████████████▋             | 645 kB 5.3 MB/s eta 0:00:01\r\u001b[K     |███████████████████             | 655 kB 5.3 MB/s eta 0:00:01\r\u001b[K     |███████████████████▎            | 665 kB 5.3 MB/s eta 0:00:01\r\u001b[K     |███████████████████▌            | 675 kB 5.3 MB/s eta 0:00:01\r\u001b[K     |███████████████████▉            | 686 kB 5.3 MB/s eta 0:00:01\r\u001b[K     |████████████████████▏           | 696 kB 5.3 MB/s eta 0:00:01\r\u001b[K     |████████████████████▍           | 706 kB 5.3 MB/s eta 0:00:01\r\u001b[K     |████████████████████▊           | 716 kB 5.3 MB/s eta 0:00:01\r\u001b[K     |█████████████████████           | 727 kB 5.3 MB/s eta 0:00:01\r\u001b[K     |█████████████████████▎          | 737 kB 5.3 MB/s eta 0:00:01\r\u001b[K     |█████████████████████▋          | 747 kB 5.3 MB/s eta 0:00:01\r\u001b[K     |██████████████████████          | 757 kB 5.3 MB/s eta 0:00:01\r\u001b[K     |██████████████████████▏         | 768 kB 5.3 MB/s eta 0:00:01\r\u001b[K     |██████████████████████▌         | 778 kB 5.3 MB/s eta 0:00:01\r\u001b[K     |██████████████████████▉         | 788 kB 5.3 MB/s eta 0:00:01\r\u001b[K     |███████████████████████         | 798 kB 5.3 MB/s eta 0:00:01\r\u001b[K     |███████████████████████▍        | 808 kB 5.3 MB/s eta 0:00:01\r\u001b[K     |███████████████████████▊        | 819 kB 5.3 MB/s eta 0:00:01\r\u001b[K     |████████████████████████        | 829 kB 5.3 MB/s eta 0:00:01\r\u001b[K     |████████████████████████▎       | 839 kB 5.3 MB/s eta 0:00:01\r\u001b[K     |████████████████████████▋       | 849 kB 5.3 MB/s eta 0:00:01\r\u001b[K     |████████████████████████▉       | 860 kB 5.3 MB/s eta 0:00:01\r\u001b[K     |█████████████████████████▏      | 870 kB 5.3 MB/s eta 0:00:01\r\u001b[K     |█████████████████████████▍      | 880 kB 5.3 MB/s eta 0:00:01\r\u001b[K     |█████████████████████████▊      | 890 kB 5.3 MB/s eta 0:00:01\r\u001b[K     |██████████████████████████      | 901 kB 5.3 MB/s eta 0:00:01\r\u001b[K     |██████████████████████████▎     | 911 kB 5.3 MB/s eta 0:00:01\r\u001b[K     |██████████████████████████▋     | 921 kB 5.3 MB/s eta 0:00:01\r\u001b[K     |███████████████████████████     | 931 kB 5.3 MB/s eta 0:00:01\r\u001b[K     |███████████████████████████▏    | 942 kB 5.3 MB/s eta 0:00:01\r\u001b[K     |███████████████████████████▌    | 952 kB 5.3 MB/s eta 0:00:01\r\u001b[K     |███████████████████████████▉    | 962 kB 5.3 MB/s eta 0:00:01\r\u001b[K     |████████████████████████████    | 972 kB 5.3 MB/s eta 0:00:01\r\u001b[K     |████████████████████████████▍   | 983 kB 5.3 MB/s eta 0:00:01\r\u001b[K     |████████████████████████████▊   | 993 kB 5.3 MB/s eta 0:00:01\r\u001b[K     |█████████████████████████████   | 1.0 MB 5.3 MB/s eta 0:00:01\r\u001b[K     |█████████████████████████████▎  | 1.0 MB 5.3 MB/s eta 0:00:01\r\u001b[K     |█████████████████████████████▋  | 1.0 MB 5.3 MB/s eta 0:00:01\r\u001b[K     |█████████████████████████████▉  | 1.0 MB 5.3 MB/s eta 0:00:01\r\u001b[K     |██████████████████████████████▏ | 1.0 MB 5.3 MB/s eta 0:00:01\r\u001b[K     |██████████████████████████████▌ | 1.1 MB 5.3 MB/s eta 0:00:01\r\u001b[K     |██████████████████████████████▊ | 1.1 MB 5.3 MB/s eta 0:00:01\r\u001b[K     |███████████████████████████████ | 1.1 MB 5.3 MB/s eta 0:00:01\r\u001b[K     |███████████████████████████████▍| 1.1 MB 5.3 MB/s eta 0:00:01\r\u001b[K     |███████████████████████████████▋| 1.1 MB 5.3 MB/s eta 0:00:01\r\u001b[K     |████████████████████████████████| 1.1 MB 5.3 MB/s eta 0:00:01\r\u001b[K     |████████████████████████████████| 1.1 MB 5.3 MB/s \n",
            "\u001b[?25hRequirement already satisfied: typeguard>=2.7 in /usr/local/lib/python3.7/dist-packages (from tensorflow-addons) (2.7.1)\n",
            "Installing collected packages: tensorflow-addons\n",
            "Successfully installed tensorflow-addons-0.14.0\n"
          ]
        }
      ]
    },
    {
      "cell_type": "code",
      "metadata": {
        "id": "gxAbijpr7SEi"
      },
      "source": [
        "import tensorflow_addons as tfa"
      ],
      "execution_count": null,
      "outputs": []
    },
    {
      "cell_type": "code",
      "metadata": {
        "id": "jwtqMlqr7cKD"
      },
      "source": [
        "def create_sentiment_bert():\n",
        "  model = TFBertModel.from_pretrained('bert-base-cased')\n",
        "  token_inputs = tf.keras.layers.Input((SEQ_LEN,), dtype = tf.int32, name = 'input_word_ids')\n",
        "  mask_inputs = tf.keras.layers.Input((SEQ_LEN,), dtype = tf.int32, name = 'input_masks')\n",
        "  segment_inputs = tf.keras.layers.Input((SEQ_LEN,), dtype = tf.int32, name = 'input_segment')\n",
        "  bert_outputs = model([token_inputs, mask_inputs, segment_inputs])\n",
        "\n",
        "  bert_outputs = bert_outputs[1]\n",
        "  sentiment_first = tf.keras.layers.Dense(1, activation = 'sigmoid', kernel_initializer=tf.keras.initializers.TruncatedNormal(stddev = 0.02))(bert_outputs)\n",
        "  sentiment_model = tf.keras.Model([token_inputs, mask_inputs, segment_inputs], sentiment_first)\n",
        "\n",
        "  sentiment_model.compile(optimizer = tf.keras.optimizers.Adam(lr = 1.0e-5), loss = tf.keras.losses.BinaryCrossentropy(), metrics = ['accuracy'])\n",
        "\n",
        "  return sentiment_model"
      ],
      "execution_count": null,
      "outputs": []
    },
    {
      "cell_type": "code",
      "metadata": {
        "id": "M8OvA_elPzMm"
      },
      "source": [
        "from sklearn.model_selection import KFold\n",
        "kfold = KFold(n_splits = 5, shuffle = True, random_state = 10)"
      ],
      "execution_count": null,
      "outputs": []
    },
    {
      "cell_type": "code",
      "metadata": {
        "id": "8AAQ_xfnBQhZ",
        "colab": {
          "base_uri": "https://localhost:8080/"
        },
        "outputId": "bd2c2f83-d637-453e-bbce-fa7b048a5b80"
      },
      "source": [
        "results = []\n",
        "n_iter = 0\n",
        "\n",
        "for train_index, val_index in kfold.split(data):\n",
        "  n_iter += 1\n",
        "  \n",
        "  train_df = data.iloc[train_index]\n",
        "  val_df = data.iloc[val_index]\n",
        "  \n",
        "  train_df1 = train_df.reset_index()\n",
        "  val_df1 = val_df.reset_index()\n",
        "\n",
        "  SEQ_LEN = 250\n",
        "  BATCH_SIZE = 32\n",
        "  # 긍부정 문장을 포함하고 있는 칼럼\n",
        "  DATA_COLUMN = \"review\"\n",
        "  # 긍정인지 부정인지를 (1=긍정,0=부정) 포함하고 있는 칼럼\n",
        "  LABEL_COLUMN = \"rate\"\n",
        "  train_X, train_y = load_data(train_df1)\n",
        "  val_X, val_y = load_data(val_df1)\n",
        "\n",
        "  if TPU:\n",
        "    strategy = tf.distribute.experimental.TPUStrategy(resolver)\n",
        "\n",
        "    with strategy.scope():\n",
        "      var_name1 = 'Model_' + str(n_iter)\n",
        "      var_name2 = 'Hist_' + str(n_iter)\n",
        "      vars()[var_name1] = create_sentiment_bert()\n",
        "      vars()[var_name2] = vars()[var_name1].fit(train_X, train_y, epochs = 10, shuffle = True, batch_size = 32, validation_data = (val_X, val_y))\n",
        "\n",
        "      k_accuracy = '%.4f' %(vars()[var_name1].evaluate(val_X, val_y)[1])\n",
        "      results.append(k_accuracy)\n",
        "\n",
        "  else:\n",
        "    var_name1 = 'Model_' + str(n_iter)\n",
        "    var_name2 = 'Hist_' + str(n_iter)\n",
        "    vars()[var_name1] = create_sentiment_bert()\n",
        "    vars()[var_name2] = vars()[var_name1].fit(train_X, train_y, epochs = 10, shuffle = True, batch_size = 32, validation_data = (val_X, val_y))\n",
        "    \n",
        "    k_accuracy = '%.4f' %(vars()[var_name1].evaluate(val_X, val_y)[1])\n",
        "    results.append(k_accuracy)"
      ],
      "execution_count": null,
      "outputs": [
        {
          "output_type": "stream",
          "name": "stderr",
          "text": [
            "100%|██████████| 15706/15706 [00:33<00:00, 469.32it/s]\n",
            "100%|██████████| 3927/3927 [00:08<00:00, 466.80it/s]\n",
            "WARNING:absl:`tf.distribute.experimental.TPUStrategy` is deprecated, please use  the non experimental symbol `tf.distribute.TPUStrategy` instead.\n"
          ]
        },
        {
          "output_type": "stream",
          "name": "stdout",
          "text": [
            "INFO:tensorflow:Found TPU system:\n"
          ]
        },
        {
          "output_type": "stream",
          "name": "stderr",
          "text": [
            "INFO:tensorflow:Found TPU system:\n"
          ]
        },
        {
          "output_type": "stream",
          "name": "stdout",
          "text": [
            "INFO:tensorflow:*** Num TPU Cores: 8\n"
          ]
        },
        {
          "output_type": "stream",
          "name": "stderr",
          "text": [
            "INFO:tensorflow:*** Num TPU Cores: 8\n"
          ]
        },
        {
          "output_type": "stream",
          "name": "stdout",
          "text": [
            "INFO:tensorflow:*** Num TPU Workers: 1\n"
          ]
        },
        {
          "output_type": "stream",
          "name": "stderr",
          "text": [
            "INFO:tensorflow:*** Num TPU Workers: 1\n"
          ]
        },
        {
          "output_type": "stream",
          "name": "stdout",
          "text": [
            "INFO:tensorflow:*** Num TPU Cores Per Worker: 8\n"
          ]
        },
        {
          "output_type": "stream",
          "name": "stderr",
          "text": [
            "INFO:tensorflow:*** Num TPU Cores Per Worker: 8\n"
          ]
        },
        {
          "output_type": "stream",
          "name": "stdout",
          "text": [
            "INFO:tensorflow:*** Available Device: _DeviceAttributes(/job:localhost/replica:0/task:0/device:CPU:0, CPU, 0, 0)\n"
          ]
        },
        {
          "output_type": "stream",
          "name": "stderr",
          "text": [
            "INFO:tensorflow:*** Available Device: _DeviceAttributes(/job:localhost/replica:0/task:0/device:CPU:0, CPU, 0, 0)\n"
          ]
        },
        {
          "output_type": "stream",
          "name": "stdout",
          "text": [
            "INFO:tensorflow:*** Available Device: _DeviceAttributes(/job:worker/replica:0/task:0/device:CPU:0, CPU, 0, 0)\n"
          ]
        },
        {
          "output_type": "stream",
          "name": "stderr",
          "text": [
            "INFO:tensorflow:*** Available Device: _DeviceAttributes(/job:worker/replica:0/task:0/device:CPU:0, CPU, 0, 0)\n"
          ]
        },
        {
          "output_type": "stream",
          "name": "stdout",
          "text": [
            "INFO:tensorflow:*** Available Device: _DeviceAttributes(/job:worker/replica:0/task:0/device:TPU:0, TPU, 0, 0)\n"
          ]
        },
        {
          "output_type": "stream",
          "name": "stderr",
          "text": [
            "INFO:tensorflow:*** Available Device: _DeviceAttributes(/job:worker/replica:0/task:0/device:TPU:0, TPU, 0, 0)\n"
          ]
        },
        {
          "output_type": "stream",
          "name": "stdout",
          "text": [
            "INFO:tensorflow:*** Available Device: _DeviceAttributes(/job:worker/replica:0/task:0/device:TPU:1, TPU, 0, 0)\n"
          ]
        },
        {
          "output_type": "stream",
          "name": "stderr",
          "text": [
            "INFO:tensorflow:*** Available Device: _DeviceAttributes(/job:worker/replica:0/task:0/device:TPU:1, TPU, 0, 0)\n"
          ]
        },
        {
          "output_type": "stream",
          "name": "stdout",
          "text": [
            "INFO:tensorflow:*** Available Device: _DeviceAttributes(/job:worker/replica:0/task:0/device:TPU:2, TPU, 0, 0)\n"
          ]
        },
        {
          "output_type": "stream",
          "name": "stderr",
          "text": [
            "INFO:tensorflow:*** Available Device: _DeviceAttributes(/job:worker/replica:0/task:0/device:TPU:2, TPU, 0, 0)\n"
          ]
        },
        {
          "output_type": "stream",
          "name": "stdout",
          "text": [
            "INFO:tensorflow:*** Available Device: _DeviceAttributes(/job:worker/replica:0/task:0/device:TPU:3, TPU, 0, 0)\n"
          ]
        },
        {
          "output_type": "stream",
          "name": "stderr",
          "text": [
            "INFO:tensorflow:*** Available Device: _DeviceAttributes(/job:worker/replica:0/task:0/device:TPU:3, TPU, 0, 0)\n"
          ]
        },
        {
          "output_type": "stream",
          "name": "stdout",
          "text": [
            "INFO:tensorflow:*** Available Device: _DeviceAttributes(/job:worker/replica:0/task:0/device:TPU:4, TPU, 0, 0)\n"
          ]
        },
        {
          "output_type": "stream",
          "name": "stderr",
          "text": [
            "INFO:tensorflow:*** Available Device: _DeviceAttributes(/job:worker/replica:0/task:0/device:TPU:4, TPU, 0, 0)\n"
          ]
        },
        {
          "output_type": "stream",
          "name": "stdout",
          "text": [
            "INFO:tensorflow:*** Available Device: _DeviceAttributes(/job:worker/replica:0/task:0/device:TPU:5, TPU, 0, 0)\n"
          ]
        },
        {
          "output_type": "stream",
          "name": "stderr",
          "text": [
            "INFO:tensorflow:*** Available Device: _DeviceAttributes(/job:worker/replica:0/task:0/device:TPU:5, TPU, 0, 0)\n"
          ]
        },
        {
          "output_type": "stream",
          "name": "stdout",
          "text": [
            "INFO:tensorflow:*** Available Device: _DeviceAttributes(/job:worker/replica:0/task:0/device:TPU:6, TPU, 0, 0)\n"
          ]
        },
        {
          "output_type": "stream",
          "name": "stderr",
          "text": [
            "INFO:tensorflow:*** Available Device: _DeviceAttributes(/job:worker/replica:0/task:0/device:TPU:6, TPU, 0, 0)\n"
          ]
        },
        {
          "output_type": "stream",
          "name": "stdout",
          "text": [
            "INFO:tensorflow:*** Available Device: _DeviceAttributes(/job:worker/replica:0/task:0/device:TPU:7, TPU, 0, 0)\n"
          ]
        },
        {
          "output_type": "stream",
          "name": "stderr",
          "text": [
            "INFO:tensorflow:*** Available Device: _DeviceAttributes(/job:worker/replica:0/task:0/device:TPU:7, TPU, 0, 0)\n"
          ]
        },
        {
          "output_type": "stream",
          "name": "stdout",
          "text": [
            "INFO:tensorflow:*** Available Device: _DeviceAttributes(/job:worker/replica:0/task:0/device:TPU_SYSTEM:0, TPU_SYSTEM, 0, 0)\n"
          ]
        },
        {
          "output_type": "stream",
          "name": "stderr",
          "text": [
            "INFO:tensorflow:*** Available Device: _DeviceAttributes(/job:worker/replica:0/task:0/device:TPU_SYSTEM:0, TPU_SYSTEM, 0, 0)\n"
          ]
        },
        {
          "output_type": "stream",
          "name": "stdout",
          "text": [
            "INFO:tensorflow:*** Available Device: _DeviceAttributes(/job:worker/replica:0/task:0/device:XLA_CPU:0, XLA_CPU, 0, 0)\n"
          ]
        },
        {
          "output_type": "stream",
          "name": "stderr",
          "text": [
            "INFO:tensorflow:*** Available Device: _DeviceAttributes(/job:worker/replica:0/task:0/device:XLA_CPU:0, XLA_CPU, 0, 0)\n",
            "Some layers from the model checkpoint at bert-base-cased were not used when initializing TFBertModel: ['mlm___cls', 'nsp___cls']\n",
            "- This IS expected if you are initializing TFBertModel from the checkpoint of a model trained on another task or with another architecture (e.g. initializing a BertForSequenceClassification model from a BertForPreTraining model).\n",
            "- This IS NOT expected if you are initializing TFBertModel from the checkpoint of a model that you expect to be exactly identical (initializing a BertForSequenceClassification model from a BertForSequenceClassification model).\n",
            "All the layers of TFBertModel were initialized from the model checkpoint at bert-base-cased.\n",
            "If your task is similar to the task the model of the checkpoint was trained on, you can already use TFBertModel for predictions without further training.\n",
            "/usr/local/lib/python3.7/dist-packages/keras/optimizer_v2/optimizer_v2.py:356: UserWarning: The `lr` argument is deprecated, use `learning_rate` instead.\n",
            "  \"The `lr` argument is deprecated, use `learning_rate` instead.\")\n"
          ]
        },
        {
          "output_type": "stream",
          "name": "stdout",
          "text": [
            "Epoch 1/10\n"
          ]
        },
        {
          "output_type": "stream",
          "name": "stderr",
          "text": [
            "INFO:absl:TPU has inputs with dynamic shapes: [<tf.Tensor 'Const:0' shape=() dtype=int32>, <tf.Tensor 'cond_8/Identity:0' shape=(None, 250) dtype=int64>, <tf.Tensor 'cond_8/Identity_1:0' shape=(None, 250) dtype=int64>, <tf.Tensor 'cond_8/Identity_2:0' shape=(None, 250) dtype=int64>, <tf.Tensor 'cond_8/Identity_3:0' shape=(None,) dtype=int64>]\n",
            "INFO:absl:TPU has inputs with dynamic shapes: [<tf.Tensor 'Const:0' shape=() dtype=int32>, <tf.Tensor 'cond_8/Identity:0' shape=(None, 250) dtype=int64>, <tf.Tensor 'cond_8/Identity_1:0' shape=(None, 250) dtype=int64>, <tf.Tensor 'cond_8/Identity_2:0' shape=(None, 250) dtype=int64>, <tf.Tensor 'cond_8/Identity_3:0' shape=(None,) dtype=int64>]\n"
          ]
        },
        {
          "output_type": "stream",
          "name": "stdout",
          "text": [
            "491/491 [==============================] - ETA: 0s - loss: 0.4050 - accuracy: 0.8307"
          ]
        },
        {
          "output_type": "stream",
          "name": "stderr",
          "text": [
            "INFO:absl:TPU has inputs with dynamic shapes: [<tf.Tensor 'Const:0' shape=() dtype=int32>, <tf.Tensor 'cond_8/Identity:0' shape=(None, 250) dtype=int64>, <tf.Tensor 'cond_8/Identity_1:0' shape=(None, 250) dtype=int64>, <tf.Tensor 'cond_8/Identity_2:0' shape=(None, 250) dtype=int64>, <tf.Tensor 'cond_8/Identity_3:0' shape=(None,) dtype=int64>]\n"
          ]
        },
        {
          "output_type": "stream",
          "name": "stdout",
          "text": [
            "491/491 [==============================] - 161s 157ms/step - loss: 0.4050 - accuracy: 0.8307 - val_loss: 0.3418 - val_accuracy: 0.8717\n",
            "Epoch 2/10\n",
            "491/491 [==============================] - 56s 113ms/step - loss: 0.2872 - accuracy: 0.8989 - val_loss: 0.3461 - val_accuracy: 0.8793\n",
            "Epoch 3/10\n",
            "491/491 [==============================] - 56s 114ms/step - loss: 0.2270 - accuracy: 0.9287 - val_loss: 0.3565 - val_accuracy: 0.8737\n",
            "Epoch 4/10\n",
            "491/491 [==============================] - 56s 113ms/step - loss: 0.1885 - accuracy: 0.9445 - val_loss: 0.3661 - val_accuracy: 0.8732\n",
            "Epoch 5/10\n",
            "491/491 [==============================] - 56s 114ms/step - loss: 0.1604 - accuracy: 0.9564 - val_loss: 0.3853 - val_accuracy: 0.8765\n",
            "Epoch 6/10\n",
            "491/491 [==============================] - 56s 114ms/step - loss: 0.1444 - accuracy: 0.9610 - val_loss: 0.4067 - val_accuracy: 0.8717\n",
            "Epoch 7/10\n",
            "491/491 [==============================] - 56s 113ms/step - loss: 0.1269 - accuracy: 0.9668 - val_loss: 0.4355 - val_accuracy: 0.8711\n",
            "Epoch 8/10\n",
            "491/491 [==============================] - 56s 114ms/step - loss: 0.1194 - accuracy: 0.9692 - val_loss: 0.4431 - val_accuracy: 0.8760\n",
            "Epoch 9/10\n",
            "491/491 [==============================] - 56s 114ms/step - loss: 0.1063 - accuracy: 0.9721 - val_loss: 0.4842 - val_accuracy: 0.8678\n",
            "Epoch 10/10\n",
            "491/491 [==============================] - 56s 114ms/step - loss: 0.0956 - accuracy: 0.9740 - val_loss: 0.4706 - val_accuracy: 0.8780\n",
            "123/123 [==============================] - 5s 35ms/step - loss: 0.4706 - accuracy: 0.8780\n"
          ]
        },
        {
          "output_type": "stream",
          "name": "stderr",
          "text": [
            "100%|██████████| 15706/15706 [00:34<00:00, 458.61it/s]\n",
            "100%|██████████| 3927/3927 [00:08<00:00, 460.50it/s]\n",
            "WARNING:absl:`tf.distribute.experimental.TPUStrategy` is deprecated, please use  the non experimental symbol `tf.distribute.TPUStrategy` instead.\n"
          ]
        },
        {
          "output_type": "stream",
          "name": "stdout",
          "text": [
            "INFO:tensorflow:Found TPU system:\n"
          ]
        },
        {
          "output_type": "stream",
          "name": "stderr",
          "text": [
            "INFO:tensorflow:Found TPU system:\n"
          ]
        },
        {
          "output_type": "stream",
          "name": "stdout",
          "text": [
            "INFO:tensorflow:*** Num TPU Cores: 8\n"
          ]
        },
        {
          "output_type": "stream",
          "name": "stderr",
          "text": [
            "INFO:tensorflow:*** Num TPU Cores: 8\n"
          ]
        },
        {
          "output_type": "stream",
          "name": "stdout",
          "text": [
            "INFO:tensorflow:*** Num TPU Workers: 1\n"
          ]
        },
        {
          "output_type": "stream",
          "name": "stderr",
          "text": [
            "INFO:tensorflow:*** Num TPU Workers: 1\n"
          ]
        },
        {
          "output_type": "stream",
          "name": "stdout",
          "text": [
            "INFO:tensorflow:*** Num TPU Cores Per Worker: 8\n"
          ]
        },
        {
          "output_type": "stream",
          "name": "stderr",
          "text": [
            "INFO:tensorflow:*** Num TPU Cores Per Worker: 8\n"
          ]
        },
        {
          "output_type": "stream",
          "name": "stdout",
          "text": [
            "INFO:tensorflow:*** Available Device: _DeviceAttributes(/job:localhost/replica:0/task:0/device:CPU:0, CPU, 0, 0)\n"
          ]
        },
        {
          "output_type": "stream",
          "name": "stderr",
          "text": [
            "INFO:tensorflow:*** Available Device: _DeviceAttributes(/job:localhost/replica:0/task:0/device:CPU:0, CPU, 0, 0)\n"
          ]
        },
        {
          "output_type": "stream",
          "name": "stdout",
          "text": [
            "INFO:tensorflow:*** Available Device: _DeviceAttributes(/job:worker/replica:0/task:0/device:CPU:0, CPU, 0, 0)\n"
          ]
        },
        {
          "output_type": "stream",
          "name": "stderr",
          "text": [
            "INFO:tensorflow:*** Available Device: _DeviceAttributes(/job:worker/replica:0/task:0/device:CPU:0, CPU, 0, 0)\n"
          ]
        },
        {
          "output_type": "stream",
          "name": "stdout",
          "text": [
            "INFO:tensorflow:*** Available Device: _DeviceAttributes(/job:worker/replica:0/task:0/device:TPU:0, TPU, 0, 0)\n"
          ]
        },
        {
          "output_type": "stream",
          "name": "stderr",
          "text": [
            "INFO:tensorflow:*** Available Device: _DeviceAttributes(/job:worker/replica:0/task:0/device:TPU:0, TPU, 0, 0)\n"
          ]
        },
        {
          "output_type": "stream",
          "name": "stdout",
          "text": [
            "INFO:tensorflow:*** Available Device: _DeviceAttributes(/job:worker/replica:0/task:0/device:TPU:1, TPU, 0, 0)\n"
          ]
        },
        {
          "output_type": "stream",
          "name": "stderr",
          "text": [
            "INFO:tensorflow:*** Available Device: _DeviceAttributes(/job:worker/replica:0/task:0/device:TPU:1, TPU, 0, 0)\n"
          ]
        },
        {
          "output_type": "stream",
          "name": "stdout",
          "text": [
            "INFO:tensorflow:*** Available Device: _DeviceAttributes(/job:worker/replica:0/task:0/device:TPU:2, TPU, 0, 0)\n"
          ]
        },
        {
          "output_type": "stream",
          "name": "stderr",
          "text": [
            "INFO:tensorflow:*** Available Device: _DeviceAttributes(/job:worker/replica:0/task:0/device:TPU:2, TPU, 0, 0)\n"
          ]
        },
        {
          "output_type": "stream",
          "name": "stdout",
          "text": [
            "INFO:tensorflow:*** Available Device: _DeviceAttributes(/job:worker/replica:0/task:0/device:TPU:3, TPU, 0, 0)\n"
          ]
        },
        {
          "output_type": "stream",
          "name": "stderr",
          "text": [
            "INFO:tensorflow:*** Available Device: _DeviceAttributes(/job:worker/replica:0/task:0/device:TPU:3, TPU, 0, 0)\n"
          ]
        },
        {
          "output_type": "stream",
          "name": "stdout",
          "text": [
            "INFO:tensorflow:*** Available Device: _DeviceAttributes(/job:worker/replica:0/task:0/device:TPU:4, TPU, 0, 0)\n"
          ]
        },
        {
          "output_type": "stream",
          "name": "stderr",
          "text": [
            "INFO:tensorflow:*** Available Device: _DeviceAttributes(/job:worker/replica:0/task:0/device:TPU:4, TPU, 0, 0)\n"
          ]
        },
        {
          "output_type": "stream",
          "name": "stdout",
          "text": [
            "INFO:tensorflow:*** Available Device: _DeviceAttributes(/job:worker/replica:0/task:0/device:TPU:5, TPU, 0, 0)\n"
          ]
        },
        {
          "output_type": "stream",
          "name": "stderr",
          "text": [
            "INFO:tensorflow:*** Available Device: _DeviceAttributes(/job:worker/replica:0/task:0/device:TPU:5, TPU, 0, 0)\n"
          ]
        },
        {
          "output_type": "stream",
          "name": "stdout",
          "text": [
            "INFO:tensorflow:*** Available Device: _DeviceAttributes(/job:worker/replica:0/task:0/device:TPU:6, TPU, 0, 0)\n"
          ]
        },
        {
          "output_type": "stream",
          "name": "stderr",
          "text": [
            "INFO:tensorflow:*** Available Device: _DeviceAttributes(/job:worker/replica:0/task:0/device:TPU:6, TPU, 0, 0)\n"
          ]
        },
        {
          "output_type": "stream",
          "name": "stdout",
          "text": [
            "INFO:tensorflow:*** Available Device: _DeviceAttributes(/job:worker/replica:0/task:0/device:TPU:7, TPU, 0, 0)\n"
          ]
        },
        {
          "output_type": "stream",
          "name": "stderr",
          "text": [
            "INFO:tensorflow:*** Available Device: _DeviceAttributes(/job:worker/replica:0/task:0/device:TPU:7, TPU, 0, 0)\n"
          ]
        },
        {
          "output_type": "stream",
          "name": "stdout",
          "text": [
            "INFO:tensorflow:*** Available Device: _DeviceAttributes(/job:worker/replica:0/task:0/device:TPU_SYSTEM:0, TPU_SYSTEM, 0, 0)\n"
          ]
        },
        {
          "output_type": "stream",
          "name": "stderr",
          "text": [
            "INFO:tensorflow:*** Available Device: _DeviceAttributes(/job:worker/replica:0/task:0/device:TPU_SYSTEM:0, TPU_SYSTEM, 0, 0)\n"
          ]
        },
        {
          "output_type": "stream",
          "name": "stdout",
          "text": [
            "INFO:tensorflow:*** Available Device: _DeviceAttributes(/job:worker/replica:0/task:0/device:XLA_CPU:0, XLA_CPU, 0, 0)\n"
          ]
        },
        {
          "output_type": "stream",
          "name": "stderr",
          "text": [
            "INFO:tensorflow:*** Available Device: _DeviceAttributes(/job:worker/replica:0/task:0/device:XLA_CPU:0, XLA_CPU, 0, 0)\n",
            "Some layers from the model checkpoint at bert-base-cased were not used when initializing TFBertModel: ['mlm___cls', 'nsp___cls']\n",
            "- This IS expected if you are initializing TFBertModel from the checkpoint of a model trained on another task or with another architecture (e.g. initializing a BertForSequenceClassification model from a BertForPreTraining model).\n",
            "- This IS NOT expected if you are initializing TFBertModel from the checkpoint of a model that you expect to be exactly identical (initializing a BertForSequenceClassification model from a BertForSequenceClassification model).\n",
            "All the layers of TFBertModel were initialized from the model checkpoint at bert-base-cased.\n",
            "If your task is similar to the task the model of the checkpoint was trained on, you can already use TFBertModel for predictions without further training.\n"
          ]
        },
        {
          "output_type": "stream",
          "name": "stdout",
          "text": [
            "Epoch 1/10\n"
          ]
        },
        {
          "output_type": "stream",
          "name": "stderr",
          "text": [
            "INFO:absl:TPU has inputs with dynamic shapes: [<tf.Tensor 'Const:0' shape=() dtype=int32>, <tf.Tensor 'cond_8/Identity:0' shape=(None, 250) dtype=int64>, <tf.Tensor 'cond_8/Identity_1:0' shape=(None, 250) dtype=int64>, <tf.Tensor 'cond_8/Identity_2:0' shape=(None, 250) dtype=int64>, <tf.Tensor 'cond_8/Identity_3:0' shape=(None,) dtype=int64>]\n",
            "INFO:absl:TPU has inputs with dynamic shapes: [<tf.Tensor 'Const:0' shape=() dtype=int32>, <tf.Tensor 'cond_8/Identity:0' shape=(None, 250) dtype=int64>, <tf.Tensor 'cond_8/Identity_1:0' shape=(None, 250) dtype=int64>, <tf.Tensor 'cond_8/Identity_2:0' shape=(None, 250) dtype=int64>, <tf.Tensor 'cond_8/Identity_3:0' shape=(None,) dtype=int64>]\n"
          ]
        },
        {
          "output_type": "stream",
          "name": "stdout",
          "text": [
            "491/491 [==============================] - ETA: 0s - loss: 0.4112 - accuracy: 0.8275"
          ]
        },
        {
          "output_type": "stream",
          "name": "stderr",
          "text": [
            "INFO:absl:TPU has inputs with dynamic shapes: [<tf.Tensor 'Const:0' shape=() dtype=int32>, <tf.Tensor 'cond_8/Identity:0' shape=(None, 250) dtype=int64>, <tf.Tensor 'cond_8/Identity_1:0' shape=(None, 250) dtype=int64>, <tf.Tensor 'cond_8/Identity_2:0' shape=(None, 250) dtype=int64>, <tf.Tensor 'cond_8/Identity_3:0' shape=(None,) dtype=int64>]\n"
          ]
        },
        {
          "output_type": "stream",
          "name": "stdout",
          "text": [
            "491/491 [==============================] - 165s 157ms/step - loss: 0.4112 - accuracy: 0.8275 - val_loss: 0.3288 - val_accuracy: 0.8775\n",
            "Epoch 2/10\n",
            "491/491 [==============================] - 56s 114ms/step - loss: 0.2923 - accuracy: 0.8962 - val_loss: 0.3105 - val_accuracy: 0.8910\n",
            "Epoch 3/10\n",
            "491/491 [==============================] - 56s 114ms/step - loss: 0.2330 - accuracy: 0.9255 - val_loss: 0.3349 - val_accuracy: 0.8818\n",
            "Epoch 4/10\n",
            "491/491 [==============================] - 56s 114ms/step - loss: 0.1881 - accuracy: 0.9436 - val_loss: 0.3602 - val_accuracy: 0.8768\n",
            "Epoch 5/10\n",
            "491/491 [==============================] - 56s 114ms/step - loss: 0.1519 - accuracy: 0.9573 - val_loss: 0.3829 - val_accuracy: 0.8790\n",
            "Epoch 6/10\n",
            "491/491 [==============================] - 56s 114ms/step - loss: 0.1258 - accuracy: 0.9650 - val_loss: 0.4302 - val_accuracy: 0.8760\n",
            "Epoch 7/10\n",
            "491/491 [==============================] - 56s 114ms/step - loss: 0.1122 - accuracy: 0.9698 - val_loss: 0.4546 - val_accuracy: 0.8762\n",
            "Epoch 8/10\n",
            "491/491 [==============================] - 56s 115ms/step - loss: 0.0997 - accuracy: 0.9707 - val_loss: 0.4851 - val_accuracy: 0.8683\n",
            "Epoch 9/10\n",
            "491/491 [==============================] - 56s 114ms/step - loss: 0.0805 - accuracy: 0.9773 - val_loss: 0.4706 - val_accuracy: 0.8729\n",
            "Epoch 10/10\n",
            "491/491 [==============================] - 56s 114ms/step - loss: 0.0678 - accuracy: 0.9794 - val_loss: 0.5062 - val_accuracy: 0.8727\n",
            "123/123 [==============================] - 5s 35ms/step - loss: 0.5062 - accuracy: 0.8727\n"
          ]
        },
        {
          "output_type": "stream",
          "name": "stderr",
          "text": [
            "100%|██████████| 15706/15706 [00:34<00:00, 461.10it/s]\n",
            "100%|██████████| 3927/3927 [00:08<00:00, 466.70it/s]\n",
            "WARNING:absl:`tf.distribute.experimental.TPUStrategy` is deprecated, please use  the non experimental symbol `tf.distribute.TPUStrategy` instead.\n"
          ]
        },
        {
          "output_type": "stream",
          "name": "stdout",
          "text": [
            "INFO:tensorflow:Found TPU system:\n"
          ]
        },
        {
          "output_type": "stream",
          "name": "stderr",
          "text": [
            "INFO:tensorflow:Found TPU system:\n"
          ]
        },
        {
          "output_type": "stream",
          "name": "stdout",
          "text": [
            "INFO:tensorflow:*** Num TPU Cores: 8\n"
          ]
        },
        {
          "output_type": "stream",
          "name": "stderr",
          "text": [
            "INFO:tensorflow:*** Num TPU Cores: 8\n"
          ]
        },
        {
          "output_type": "stream",
          "name": "stdout",
          "text": [
            "INFO:tensorflow:*** Num TPU Workers: 1\n"
          ]
        },
        {
          "output_type": "stream",
          "name": "stderr",
          "text": [
            "INFO:tensorflow:*** Num TPU Workers: 1\n"
          ]
        },
        {
          "output_type": "stream",
          "name": "stdout",
          "text": [
            "INFO:tensorflow:*** Num TPU Cores Per Worker: 8\n"
          ]
        },
        {
          "output_type": "stream",
          "name": "stderr",
          "text": [
            "INFO:tensorflow:*** Num TPU Cores Per Worker: 8\n"
          ]
        },
        {
          "output_type": "stream",
          "name": "stdout",
          "text": [
            "INFO:tensorflow:*** Available Device: _DeviceAttributes(/job:localhost/replica:0/task:0/device:CPU:0, CPU, 0, 0)\n"
          ]
        },
        {
          "output_type": "stream",
          "name": "stderr",
          "text": [
            "INFO:tensorflow:*** Available Device: _DeviceAttributes(/job:localhost/replica:0/task:0/device:CPU:0, CPU, 0, 0)\n"
          ]
        },
        {
          "output_type": "stream",
          "name": "stdout",
          "text": [
            "INFO:tensorflow:*** Available Device: _DeviceAttributes(/job:worker/replica:0/task:0/device:CPU:0, CPU, 0, 0)\n"
          ]
        },
        {
          "output_type": "stream",
          "name": "stderr",
          "text": [
            "INFO:tensorflow:*** Available Device: _DeviceAttributes(/job:worker/replica:0/task:0/device:CPU:0, CPU, 0, 0)\n"
          ]
        },
        {
          "output_type": "stream",
          "name": "stdout",
          "text": [
            "INFO:tensorflow:*** Available Device: _DeviceAttributes(/job:worker/replica:0/task:0/device:TPU:0, TPU, 0, 0)\n"
          ]
        },
        {
          "output_type": "stream",
          "name": "stderr",
          "text": [
            "INFO:tensorflow:*** Available Device: _DeviceAttributes(/job:worker/replica:0/task:0/device:TPU:0, TPU, 0, 0)\n"
          ]
        },
        {
          "output_type": "stream",
          "name": "stdout",
          "text": [
            "INFO:tensorflow:*** Available Device: _DeviceAttributes(/job:worker/replica:0/task:0/device:TPU:1, TPU, 0, 0)\n"
          ]
        },
        {
          "output_type": "stream",
          "name": "stderr",
          "text": [
            "INFO:tensorflow:*** Available Device: _DeviceAttributes(/job:worker/replica:0/task:0/device:TPU:1, TPU, 0, 0)\n"
          ]
        },
        {
          "output_type": "stream",
          "name": "stdout",
          "text": [
            "INFO:tensorflow:*** Available Device: _DeviceAttributes(/job:worker/replica:0/task:0/device:TPU:2, TPU, 0, 0)\n"
          ]
        },
        {
          "output_type": "stream",
          "name": "stderr",
          "text": [
            "INFO:tensorflow:*** Available Device: _DeviceAttributes(/job:worker/replica:0/task:0/device:TPU:2, TPU, 0, 0)\n"
          ]
        },
        {
          "output_type": "stream",
          "name": "stdout",
          "text": [
            "INFO:tensorflow:*** Available Device: _DeviceAttributes(/job:worker/replica:0/task:0/device:TPU:3, TPU, 0, 0)\n"
          ]
        },
        {
          "output_type": "stream",
          "name": "stderr",
          "text": [
            "INFO:tensorflow:*** Available Device: _DeviceAttributes(/job:worker/replica:0/task:0/device:TPU:3, TPU, 0, 0)\n"
          ]
        },
        {
          "output_type": "stream",
          "name": "stdout",
          "text": [
            "INFO:tensorflow:*** Available Device: _DeviceAttributes(/job:worker/replica:0/task:0/device:TPU:4, TPU, 0, 0)\n"
          ]
        },
        {
          "output_type": "stream",
          "name": "stderr",
          "text": [
            "INFO:tensorflow:*** Available Device: _DeviceAttributes(/job:worker/replica:0/task:0/device:TPU:4, TPU, 0, 0)\n"
          ]
        },
        {
          "output_type": "stream",
          "name": "stdout",
          "text": [
            "INFO:tensorflow:*** Available Device: _DeviceAttributes(/job:worker/replica:0/task:0/device:TPU:5, TPU, 0, 0)\n"
          ]
        },
        {
          "output_type": "stream",
          "name": "stderr",
          "text": [
            "INFO:tensorflow:*** Available Device: _DeviceAttributes(/job:worker/replica:0/task:0/device:TPU:5, TPU, 0, 0)\n"
          ]
        },
        {
          "output_type": "stream",
          "name": "stdout",
          "text": [
            "INFO:tensorflow:*** Available Device: _DeviceAttributes(/job:worker/replica:0/task:0/device:TPU:6, TPU, 0, 0)\n"
          ]
        },
        {
          "output_type": "stream",
          "name": "stderr",
          "text": [
            "INFO:tensorflow:*** Available Device: _DeviceAttributes(/job:worker/replica:0/task:0/device:TPU:6, TPU, 0, 0)\n"
          ]
        },
        {
          "output_type": "stream",
          "name": "stdout",
          "text": [
            "INFO:tensorflow:*** Available Device: _DeviceAttributes(/job:worker/replica:0/task:0/device:TPU:7, TPU, 0, 0)\n"
          ]
        },
        {
          "output_type": "stream",
          "name": "stderr",
          "text": [
            "INFO:tensorflow:*** Available Device: _DeviceAttributes(/job:worker/replica:0/task:0/device:TPU:7, TPU, 0, 0)\n"
          ]
        },
        {
          "output_type": "stream",
          "name": "stdout",
          "text": [
            "INFO:tensorflow:*** Available Device: _DeviceAttributes(/job:worker/replica:0/task:0/device:TPU_SYSTEM:0, TPU_SYSTEM, 0, 0)\n"
          ]
        },
        {
          "output_type": "stream",
          "name": "stderr",
          "text": [
            "INFO:tensorflow:*** Available Device: _DeviceAttributes(/job:worker/replica:0/task:0/device:TPU_SYSTEM:0, TPU_SYSTEM, 0, 0)\n"
          ]
        },
        {
          "output_type": "stream",
          "name": "stdout",
          "text": [
            "INFO:tensorflow:*** Available Device: _DeviceAttributes(/job:worker/replica:0/task:0/device:XLA_CPU:0, XLA_CPU, 0, 0)\n"
          ]
        },
        {
          "output_type": "stream",
          "name": "stderr",
          "text": [
            "INFO:tensorflow:*** Available Device: _DeviceAttributes(/job:worker/replica:0/task:0/device:XLA_CPU:0, XLA_CPU, 0, 0)\n",
            "Some layers from the model checkpoint at bert-base-cased were not used when initializing TFBertModel: ['mlm___cls', 'nsp___cls']\n",
            "- This IS expected if you are initializing TFBertModel from the checkpoint of a model trained on another task or with another architecture (e.g. initializing a BertForSequenceClassification model from a BertForPreTraining model).\n",
            "- This IS NOT expected if you are initializing TFBertModel from the checkpoint of a model that you expect to be exactly identical (initializing a BertForSequenceClassification model from a BertForSequenceClassification model).\n",
            "All the layers of TFBertModel were initialized from the model checkpoint at bert-base-cased.\n",
            "If your task is similar to the task the model of the checkpoint was trained on, you can already use TFBertModel for predictions without further training.\n"
          ]
        },
        {
          "output_type": "stream",
          "name": "stdout",
          "text": [
            "Epoch 1/10\n"
          ]
        },
        {
          "output_type": "stream",
          "name": "stderr",
          "text": [
            "INFO:absl:TPU has inputs with dynamic shapes: [<tf.Tensor 'Const:0' shape=() dtype=int32>, <tf.Tensor 'cond_8/Identity:0' shape=(None, 250) dtype=int64>, <tf.Tensor 'cond_8/Identity_1:0' shape=(None, 250) dtype=int64>, <tf.Tensor 'cond_8/Identity_2:0' shape=(None, 250) dtype=int64>, <tf.Tensor 'cond_8/Identity_3:0' shape=(None,) dtype=int64>]\n",
            "INFO:absl:TPU has inputs with dynamic shapes: [<tf.Tensor 'Const:0' shape=() dtype=int32>, <tf.Tensor 'cond_8/Identity:0' shape=(None, 250) dtype=int64>, <tf.Tensor 'cond_8/Identity_1:0' shape=(None, 250) dtype=int64>, <tf.Tensor 'cond_8/Identity_2:0' shape=(None, 250) dtype=int64>, <tf.Tensor 'cond_8/Identity_3:0' shape=(None,) dtype=int64>]\n"
          ]
        },
        {
          "output_type": "stream",
          "name": "stdout",
          "text": [
            "491/491 [==============================] - ETA: 0s - loss: 0.4123 - accuracy: 0.8305"
          ]
        },
        {
          "output_type": "stream",
          "name": "stderr",
          "text": [
            "INFO:absl:TPU has inputs with dynamic shapes: [<tf.Tensor 'Const:0' shape=() dtype=int32>, <tf.Tensor 'cond_8/Identity:0' shape=(None, 250) dtype=int64>, <tf.Tensor 'cond_8/Identity_1:0' shape=(None, 250) dtype=int64>, <tf.Tensor 'cond_8/Identity_2:0' shape=(None, 250) dtype=int64>, <tf.Tensor 'cond_8/Identity_3:0' shape=(None,) dtype=int64>]\n"
          ]
        },
        {
          "output_type": "stream",
          "name": "stdout",
          "text": [
            "491/491 [==============================] - 162s 156ms/step - loss: 0.4123 - accuracy: 0.8305 - val_loss: 0.3421 - val_accuracy: 0.8729\n",
            "Epoch 2/10\n",
            "491/491 [==============================] - 56s 114ms/step - loss: 0.2884 - accuracy: 0.8982 - val_loss: 0.3379 - val_accuracy: 0.8801\n",
            "Epoch 3/10\n",
            "491/491 [==============================] - 56s 114ms/step - loss: 0.2305 - accuracy: 0.9261 - val_loss: 0.3478 - val_accuracy: 0.8757\n",
            "Epoch 4/10\n",
            "491/491 [==============================] - 57s 116ms/step - loss: 0.1878 - accuracy: 0.9449 - val_loss: 0.3657 - val_accuracy: 0.8798\n",
            "Epoch 5/10\n",
            "491/491 [==============================] - 56s 114ms/step - loss: 0.1558 - accuracy: 0.9570 - val_loss: 0.4009 - val_accuracy: 0.8724\n",
            "Epoch 6/10\n",
            "491/491 [==============================] - 56s 114ms/step - loss: 0.1402 - accuracy: 0.9621 - val_loss: 0.4038 - val_accuracy: 0.8768\n",
            "Epoch 7/10\n",
            "491/491 [==============================] - 56s 114ms/step - loss: 0.1168 - accuracy: 0.9699 - val_loss: 0.4541 - val_accuracy: 0.8704\n",
            "Epoch 8/10\n",
            "491/491 [==============================] - 56s 114ms/step - loss: 0.1026 - accuracy: 0.9722 - val_loss: 0.4524 - val_accuracy: 0.8739\n",
            "Epoch 9/10\n",
            "491/491 [==============================] - 56s 114ms/step - loss: 0.0892 - accuracy: 0.9745 - val_loss: 0.5591 - val_accuracy: 0.8571\n",
            "Epoch 10/10\n",
            "491/491 [==============================] - 56s 114ms/step - loss: 0.0765 - accuracy: 0.9763 - val_loss: 0.5458 - val_accuracy: 0.8602\n",
            "123/123 [==============================] - 5s 35ms/step - loss: 0.5458 - accuracy: 0.8602\n"
          ]
        },
        {
          "output_type": "stream",
          "name": "stderr",
          "text": [
            "100%|██████████| 15707/15707 [00:33<00:00, 462.80it/s]\n",
            "100%|██████████| 3926/3926 [00:08<00:00, 463.59it/s]\n",
            "WARNING:absl:`tf.distribute.experimental.TPUStrategy` is deprecated, please use  the non experimental symbol `tf.distribute.TPUStrategy` instead.\n"
          ]
        },
        {
          "output_type": "stream",
          "name": "stdout",
          "text": [
            "INFO:tensorflow:Found TPU system:\n"
          ]
        },
        {
          "output_type": "stream",
          "name": "stderr",
          "text": [
            "INFO:tensorflow:Found TPU system:\n"
          ]
        },
        {
          "output_type": "stream",
          "name": "stdout",
          "text": [
            "INFO:tensorflow:*** Num TPU Cores: 8\n"
          ]
        },
        {
          "output_type": "stream",
          "name": "stderr",
          "text": [
            "INFO:tensorflow:*** Num TPU Cores: 8\n"
          ]
        },
        {
          "output_type": "stream",
          "name": "stdout",
          "text": [
            "INFO:tensorflow:*** Num TPU Workers: 1\n"
          ]
        },
        {
          "output_type": "stream",
          "name": "stderr",
          "text": [
            "INFO:tensorflow:*** Num TPU Workers: 1\n"
          ]
        },
        {
          "output_type": "stream",
          "name": "stdout",
          "text": [
            "INFO:tensorflow:*** Num TPU Cores Per Worker: 8\n"
          ]
        },
        {
          "output_type": "stream",
          "name": "stderr",
          "text": [
            "INFO:tensorflow:*** Num TPU Cores Per Worker: 8\n"
          ]
        },
        {
          "output_type": "stream",
          "name": "stdout",
          "text": [
            "INFO:tensorflow:*** Available Device: _DeviceAttributes(/job:localhost/replica:0/task:0/device:CPU:0, CPU, 0, 0)\n"
          ]
        },
        {
          "output_type": "stream",
          "name": "stderr",
          "text": [
            "INFO:tensorflow:*** Available Device: _DeviceAttributes(/job:localhost/replica:0/task:0/device:CPU:0, CPU, 0, 0)\n"
          ]
        },
        {
          "output_type": "stream",
          "name": "stdout",
          "text": [
            "INFO:tensorflow:*** Available Device: _DeviceAttributes(/job:worker/replica:0/task:0/device:CPU:0, CPU, 0, 0)\n"
          ]
        },
        {
          "output_type": "stream",
          "name": "stderr",
          "text": [
            "INFO:tensorflow:*** Available Device: _DeviceAttributes(/job:worker/replica:0/task:0/device:CPU:0, CPU, 0, 0)\n"
          ]
        },
        {
          "output_type": "stream",
          "name": "stdout",
          "text": [
            "INFO:tensorflow:*** Available Device: _DeviceAttributes(/job:worker/replica:0/task:0/device:TPU:0, TPU, 0, 0)\n"
          ]
        },
        {
          "output_type": "stream",
          "name": "stderr",
          "text": [
            "INFO:tensorflow:*** Available Device: _DeviceAttributes(/job:worker/replica:0/task:0/device:TPU:0, TPU, 0, 0)\n"
          ]
        },
        {
          "output_type": "stream",
          "name": "stdout",
          "text": [
            "INFO:tensorflow:*** Available Device: _DeviceAttributes(/job:worker/replica:0/task:0/device:TPU:1, TPU, 0, 0)\n"
          ]
        },
        {
          "output_type": "stream",
          "name": "stderr",
          "text": [
            "INFO:tensorflow:*** Available Device: _DeviceAttributes(/job:worker/replica:0/task:0/device:TPU:1, TPU, 0, 0)\n"
          ]
        },
        {
          "output_type": "stream",
          "name": "stdout",
          "text": [
            "INFO:tensorflow:*** Available Device: _DeviceAttributes(/job:worker/replica:0/task:0/device:TPU:2, TPU, 0, 0)\n"
          ]
        },
        {
          "output_type": "stream",
          "name": "stderr",
          "text": [
            "INFO:tensorflow:*** Available Device: _DeviceAttributes(/job:worker/replica:0/task:0/device:TPU:2, TPU, 0, 0)\n"
          ]
        },
        {
          "output_type": "stream",
          "name": "stdout",
          "text": [
            "INFO:tensorflow:*** Available Device: _DeviceAttributes(/job:worker/replica:0/task:0/device:TPU:3, TPU, 0, 0)\n"
          ]
        },
        {
          "output_type": "stream",
          "name": "stderr",
          "text": [
            "INFO:tensorflow:*** Available Device: _DeviceAttributes(/job:worker/replica:0/task:0/device:TPU:3, TPU, 0, 0)\n"
          ]
        },
        {
          "output_type": "stream",
          "name": "stdout",
          "text": [
            "INFO:tensorflow:*** Available Device: _DeviceAttributes(/job:worker/replica:0/task:0/device:TPU:4, TPU, 0, 0)\n"
          ]
        },
        {
          "output_type": "stream",
          "name": "stderr",
          "text": [
            "INFO:tensorflow:*** Available Device: _DeviceAttributes(/job:worker/replica:0/task:0/device:TPU:4, TPU, 0, 0)\n"
          ]
        },
        {
          "output_type": "stream",
          "name": "stdout",
          "text": [
            "INFO:tensorflow:*** Available Device: _DeviceAttributes(/job:worker/replica:0/task:0/device:TPU:5, TPU, 0, 0)\n"
          ]
        },
        {
          "output_type": "stream",
          "name": "stderr",
          "text": [
            "INFO:tensorflow:*** Available Device: _DeviceAttributes(/job:worker/replica:0/task:0/device:TPU:5, TPU, 0, 0)\n"
          ]
        },
        {
          "output_type": "stream",
          "name": "stdout",
          "text": [
            "INFO:tensorflow:*** Available Device: _DeviceAttributes(/job:worker/replica:0/task:0/device:TPU:6, TPU, 0, 0)\n"
          ]
        },
        {
          "output_type": "stream",
          "name": "stderr",
          "text": [
            "INFO:tensorflow:*** Available Device: _DeviceAttributes(/job:worker/replica:0/task:0/device:TPU:6, TPU, 0, 0)\n"
          ]
        },
        {
          "output_type": "stream",
          "name": "stdout",
          "text": [
            "INFO:tensorflow:*** Available Device: _DeviceAttributes(/job:worker/replica:0/task:0/device:TPU:7, TPU, 0, 0)\n"
          ]
        },
        {
          "output_type": "stream",
          "name": "stderr",
          "text": [
            "INFO:tensorflow:*** Available Device: _DeviceAttributes(/job:worker/replica:0/task:0/device:TPU:7, TPU, 0, 0)\n"
          ]
        },
        {
          "output_type": "stream",
          "name": "stdout",
          "text": [
            "INFO:tensorflow:*** Available Device: _DeviceAttributes(/job:worker/replica:0/task:0/device:TPU_SYSTEM:0, TPU_SYSTEM, 0, 0)\n"
          ]
        },
        {
          "output_type": "stream",
          "name": "stderr",
          "text": [
            "INFO:tensorflow:*** Available Device: _DeviceAttributes(/job:worker/replica:0/task:0/device:TPU_SYSTEM:0, TPU_SYSTEM, 0, 0)\n"
          ]
        },
        {
          "output_type": "stream",
          "name": "stdout",
          "text": [
            "INFO:tensorflow:*** Available Device: _DeviceAttributes(/job:worker/replica:0/task:0/device:XLA_CPU:0, XLA_CPU, 0, 0)\n"
          ]
        },
        {
          "output_type": "stream",
          "name": "stderr",
          "text": [
            "INFO:tensorflow:*** Available Device: _DeviceAttributes(/job:worker/replica:0/task:0/device:XLA_CPU:0, XLA_CPU, 0, 0)\n",
            "Some layers from the model checkpoint at bert-base-cased were not used when initializing TFBertModel: ['mlm___cls', 'nsp___cls']\n",
            "- This IS expected if you are initializing TFBertModel from the checkpoint of a model trained on another task or with another architecture (e.g. initializing a BertForSequenceClassification model from a BertForPreTraining model).\n",
            "- This IS NOT expected if you are initializing TFBertModel from the checkpoint of a model that you expect to be exactly identical (initializing a BertForSequenceClassification model from a BertForSequenceClassification model).\n",
            "All the layers of TFBertModel were initialized from the model checkpoint at bert-base-cased.\n",
            "If your task is similar to the task the model of the checkpoint was trained on, you can already use TFBertModel for predictions without further training.\n"
          ]
        },
        {
          "output_type": "stream",
          "name": "stdout",
          "text": [
            "Epoch 1/10\n"
          ]
        },
        {
          "output_type": "stream",
          "name": "stderr",
          "text": [
            "INFO:absl:TPU has inputs with dynamic shapes: [<tf.Tensor 'Const:0' shape=() dtype=int32>, <tf.Tensor 'cond_8/Identity:0' shape=(None, 250) dtype=int64>, <tf.Tensor 'cond_8/Identity_1:0' shape=(None, 250) dtype=int64>, <tf.Tensor 'cond_8/Identity_2:0' shape=(None, 250) dtype=int64>, <tf.Tensor 'cond_8/Identity_3:0' shape=(None,) dtype=int64>]\n",
            "INFO:absl:TPU has inputs with dynamic shapes: [<tf.Tensor 'Const:0' shape=() dtype=int32>, <tf.Tensor 'cond_8/Identity:0' shape=(None, 250) dtype=int64>, <tf.Tensor 'cond_8/Identity_1:0' shape=(None, 250) dtype=int64>, <tf.Tensor 'cond_8/Identity_2:0' shape=(None, 250) dtype=int64>, <tf.Tensor 'cond_8/Identity_3:0' shape=(None,) dtype=int64>]\n"
          ]
        },
        {
          "output_type": "stream",
          "name": "stdout",
          "text": [
            "491/491 [==============================] - ETA: 0s - loss: 0.4130 - accuracy: 0.8277"
          ]
        },
        {
          "output_type": "stream",
          "name": "stderr",
          "text": [
            "INFO:absl:TPU has inputs with dynamic shapes: [<tf.Tensor 'Const:0' shape=() dtype=int32>, <tf.Tensor 'cond_8/Identity:0' shape=(None, 250) dtype=int64>, <tf.Tensor 'cond_8/Identity_1:0' shape=(None, 250) dtype=int64>, <tf.Tensor 'cond_8/Identity_2:0' shape=(None, 250) dtype=int64>, <tf.Tensor 'cond_8/Identity_3:0' shape=(None,) dtype=int64>]\n"
          ]
        },
        {
          "output_type": "stream",
          "name": "stdout",
          "text": [
            "491/491 [==============================] - 164s 159ms/step - loss: 0.4130 - accuracy: 0.8277 - val_loss: 0.3315 - val_accuracy: 0.8737\n",
            "Epoch 2/10\n",
            "491/491 [==============================] - 57s 116ms/step - loss: 0.2885 - accuracy: 0.8991 - val_loss: 0.3369 - val_accuracy: 0.8818\n",
            "Epoch 3/10\n",
            "491/491 [==============================] - 56s 114ms/step - loss: 0.2320 - accuracy: 0.9257 - val_loss: 0.3421 - val_accuracy: 0.8782\n",
            "Epoch 4/10\n",
            "491/491 [==============================] - 56s 115ms/step - loss: 0.1910 - accuracy: 0.9432 - val_loss: 0.3588 - val_accuracy: 0.8813\n",
            "Epoch 5/10\n",
            "491/491 [==============================] - 57s 115ms/step - loss: 0.1569 - accuracy: 0.9551 - val_loss: 0.4067 - val_accuracy: 0.8744\n",
            "Epoch 6/10\n",
            "491/491 [==============================] - 56s 115ms/step - loss: 0.1378 - accuracy: 0.9614 - val_loss: 0.4420 - val_accuracy: 0.8752\n",
            "Epoch 7/10\n",
            "491/491 [==============================] - 56s 115ms/step - loss: 0.1150 - accuracy: 0.9664 - val_loss: 0.4529 - val_accuracy: 0.8782\n",
            "Epoch 8/10\n",
            "491/491 [==============================] - 57s 115ms/step - loss: 0.0957 - accuracy: 0.9715 - val_loss: 0.5196 - val_accuracy: 0.8696\n",
            "Epoch 9/10\n",
            "491/491 [==============================] - 56s 115ms/step - loss: 0.0792 - accuracy: 0.9746 - val_loss: 0.5277 - val_accuracy: 0.8760\n",
            "Epoch 10/10\n",
            "491/491 [==============================] - 56s 115ms/step - loss: 0.0631 - accuracy: 0.9789 - val_loss: 0.5455 - val_accuracy: 0.8678\n",
            "123/123 [==============================] - 5s 35ms/step - loss: 0.5455 - accuracy: 0.8678\n"
          ]
        },
        {
          "output_type": "stream",
          "name": "stderr",
          "text": [
            "100%|██████████| 15707/15707 [00:34<00:00, 460.47it/s]\n",
            "100%|██████████| 3926/3926 [00:08<00:00, 467.43it/s]\n",
            "WARNING:absl:`tf.distribute.experimental.TPUStrategy` is deprecated, please use  the non experimental symbol `tf.distribute.TPUStrategy` instead.\n"
          ]
        },
        {
          "output_type": "stream",
          "name": "stdout",
          "text": [
            "INFO:tensorflow:Found TPU system:\n"
          ]
        },
        {
          "output_type": "stream",
          "name": "stderr",
          "text": [
            "INFO:tensorflow:Found TPU system:\n"
          ]
        },
        {
          "output_type": "stream",
          "name": "stdout",
          "text": [
            "INFO:tensorflow:*** Num TPU Cores: 8\n"
          ]
        },
        {
          "output_type": "stream",
          "name": "stderr",
          "text": [
            "INFO:tensorflow:*** Num TPU Cores: 8\n"
          ]
        },
        {
          "output_type": "stream",
          "name": "stdout",
          "text": [
            "INFO:tensorflow:*** Num TPU Workers: 1\n"
          ]
        },
        {
          "output_type": "stream",
          "name": "stderr",
          "text": [
            "INFO:tensorflow:*** Num TPU Workers: 1\n"
          ]
        },
        {
          "output_type": "stream",
          "name": "stdout",
          "text": [
            "INFO:tensorflow:*** Num TPU Cores Per Worker: 8\n"
          ]
        },
        {
          "output_type": "stream",
          "name": "stderr",
          "text": [
            "INFO:tensorflow:*** Num TPU Cores Per Worker: 8\n"
          ]
        },
        {
          "output_type": "stream",
          "name": "stdout",
          "text": [
            "INFO:tensorflow:*** Available Device: _DeviceAttributes(/job:localhost/replica:0/task:0/device:CPU:0, CPU, 0, 0)\n"
          ]
        },
        {
          "output_type": "stream",
          "name": "stderr",
          "text": [
            "INFO:tensorflow:*** Available Device: _DeviceAttributes(/job:localhost/replica:0/task:0/device:CPU:0, CPU, 0, 0)\n"
          ]
        },
        {
          "output_type": "stream",
          "name": "stdout",
          "text": [
            "INFO:tensorflow:*** Available Device: _DeviceAttributes(/job:worker/replica:0/task:0/device:CPU:0, CPU, 0, 0)\n"
          ]
        },
        {
          "output_type": "stream",
          "name": "stderr",
          "text": [
            "INFO:tensorflow:*** Available Device: _DeviceAttributes(/job:worker/replica:0/task:0/device:CPU:0, CPU, 0, 0)\n"
          ]
        },
        {
          "output_type": "stream",
          "name": "stdout",
          "text": [
            "INFO:tensorflow:*** Available Device: _DeviceAttributes(/job:worker/replica:0/task:0/device:TPU:0, TPU, 0, 0)\n"
          ]
        },
        {
          "output_type": "stream",
          "name": "stderr",
          "text": [
            "INFO:tensorflow:*** Available Device: _DeviceAttributes(/job:worker/replica:0/task:0/device:TPU:0, TPU, 0, 0)\n"
          ]
        },
        {
          "output_type": "stream",
          "name": "stdout",
          "text": [
            "INFO:tensorflow:*** Available Device: _DeviceAttributes(/job:worker/replica:0/task:0/device:TPU:1, TPU, 0, 0)\n"
          ]
        },
        {
          "output_type": "stream",
          "name": "stderr",
          "text": [
            "INFO:tensorflow:*** Available Device: _DeviceAttributes(/job:worker/replica:0/task:0/device:TPU:1, TPU, 0, 0)\n"
          ]
        },
        {
          "output_type": "stream",
          "name": "stdout",
          "text": [
            "INFO:tensorflow:*** Available Device: _DeviceAttributes(/job:worker/replica:0/task:0/device:TPU:2, TPU, 0, 0)\n"
          ]
        },
        {
          "output_type": "stream",
          "name": "stderr",
          "text": [
            "INFO:tensorflow:*** Available Device: _DeviceAttributes(/job:worker/replica:0/task:0/device:TPU:2, TPU, 0, 0)\n"
          ]
        },
        {
          "output_type": "stream",
          "name": "stdout",
          "text": [
            "INFO:tensorflow:*** Available Device: _DeviceAttributes(/job:worker/replica:0/task:0/device:TPU:3, TPU, 0, 0)\n"
          ]
        },
        {
          "output_type": "stream",
          "name": "stderr",
          "text": [
            "INFO:tensorflow:*** Available Device: _DeviceAttributes(/job:worker/replica:0/task:0/device:TPU:3, TPU, 0, 0)\n"
          ]
        },
        {
          "output_type": "stream",
          "name": "stdout",
          "text": [
            "INFO:tensorflow:*** Available Device: _DeviceAttributes(/job:worker/replica:0/task:0/device:TPU:4, TPU, 0, 0)\n"
          ]
        },
        {
          "output_type": "stream",
          "name": "stderr",
          "text": [
            "INFO:tensorflow:*** Available Device: _DeviceAttributes(/job:worker/replica:0/task:0/device:TPU:4, TPU, 0, 0)\n"
          ]
        },
        {
          "output_type": "stream",
          "name": "stdout",
          "text": [
            "INFO:tensorflow:*** Available Device: _DeviceAttributes(/job:worker/replica:0/task:0/device:TPU:5, TPU, 0, 0)\n"
          ]
        },
        {
          "output_type": "stream",
          "name": "stderr",
          "text": [
            "INFO:tensorflow:*** Available Device: _DeviceAttributes(/job:worker/replica:0/task:0/device:TPU:5, TPU, 0, 0)\n"
          ]
        },
        {
          "output_type": "stream",
          "name": "stdout",
          "text": [
            "INFO:tensorflow:*** Available Device: _DeviceAttributes(/job:worker/replica:0/task:0/device:TPU:6, TPU, 0, 0)\n"
          ]
        },
        {
          "output_type": "stream",
          "name": "stderr",
          "text": [
            "INFO:tensorflow:*** Available Device: _DeviceAttributes(/job:worker/replica:0/task:0/device:TPU:6, TPU, 0, 0)\n"
          ]
        },
        {
          "output_type": "stream",
          "name": "stdout",
          "text": [
            "INFO:tensorflow:*** Available Device: _DeviceAttributes(/job:worker/replica:0/task:0/device:TPU:7, TPU, 0, 0)\n"
          ]
        },
        {
          "output_type": "stream",
          "name": "stderr",
          "text": [
            "INFO:tensorflow:*** Available Device: _DeviceAttributes(/job:worker/replica:0/task:0/device:TPU:7, TPU, 0, 0)\n"
          ]
        },
        {
          "output_type": "stream",
          "name": "stdout",
          "text": [
            "INFO:tensorflow:*** Available Device: _DeviceAttributes(/job:worker/replica:0/task:0/device:TPU_SYSTEM:0, TPU_SYSTEM, 0, 0)\n"
          ]
        },
        {
          "output_type": "stream",
          "name": "stderr",
          "text": [
            "INFO:tensorflow:*** Available Device: _DeviceAttributes(/job:worker/replica:0/task:0/device:TPU_SYSTEM:0, TPU_SYSTEM, 0, 0)\n"
          ]
        },
        {
          "output_type": "stream",
          "name": "stdout",
          "text": [
            "INFO:tensorflow:*** Available Device: _DeviceAttributes(/job:worker/replica:0/task:0/device:XLA_CPU:0, XLA_CPU, 0, 0)\n"
          ]
        },
        {
          "output_type": "stream",
          "name": "stderr",
          "text": [
            "INFO:tensorflow:*** Available Device: _DeviceAttributes(/job:worker/replica:0/task:0/device:XLA_CPU:0, XLA_CPU, 0, 0)\n",
            "Some layers from the model checkpoint at bert-base-cased were not used when initializing TFBertModel: ['mlm___cls', 'nsp___cls']\n",
            "- This IS expected if you are initializing TFBertModel from the checkpoint of a model trained on another task or with another architecture (e.g. initializing a BertForSequenceClassification model from a BertForPreTraining model).\n",
            "- This IS NOT expected if you are initializing TFBertModel from the checkpoint of a model that you expect to be exactly identical (initializing a BertForSequenceClassification model from a BertForSequenceClassification model).\n",
            "All the layers of TFBertModel were initialized from the model checkpoint at bert-base-cased.\n",
            "If your task is similar to the task the model of the checkpoint was trained on, you can already use TFBertModel for predictions without further training.\n"
          ]
        },
        {
          "output_type": "stream",
          "name": "stdout",
          "text": [
            "Epoch 1/10\n"
          ]
        },
        {
          "output_type": "stream",
          "name": "stderr",
          "text": [
            "INFO:absl:TPU has inputs with dynamic shapes: [<tf.Tensor 'Const:0' shape=() dtype=int32>, <tf.Tensor 'cond_8/Identity:0' shape=(None, 250) dtype=int64>, <tf.Tensor 'cond_8/Identity_1:0' shape=(None, 250) dtype=int64>, <tf.Tensor 'cond_8/Identity_2:0' shape=(None, 250) dtype=int64>, <tf.Tensor 'cond_8/Identity_3:0' shape=(None,) dtype=int64>]\n",
            "INFO:absl:TPU has inputs with dynamic shapes: [<tf.Tensor 'Const:0' shape=() dtype=int32>, <tf.Tensor 'cond_8/Identity:0' shape=(None, 250) dtype=int64>, <tf.Tensor 'cond_8/Identity_1:0' shape=(None, 250) dtype=int64>, <tf.Tensor 'cond_8/Identity_2:0' shape=(None, 250) dtype=int64>, <tf.Tensor 'cond_8/Identity_3:0' shape=(None,) dtype=int64>]\n"
          ]
        },
        {
          "output_type": "stream",
          "name": "stdout",
          "text": [
            "491/491 [==============================] - ETA: 0s - loss: 0.4159 - accuracy: 0.8238"
          ]
        },
        {
          "output_type": "stream",
          "name": "stderr",
          "text": [
            "INFO:absl:TPU has inputs with dynamic shapes: [<tf.Tensor 'Const:0' shape=() dtype=int32>, <tf.Tensor 'cond_8/Identity:0' shape=(None, 250) dtype=int64>, <tf.Tensor 'cond_8/Identity_1:0' shape=(None, 250) dtype=int64>, <tf.Tensor 'cond_8/Identity_2:0' shape=(None, 250) dtype=int64>, <tf.Tensor 'cond_8/Identity_3:0' shape=(None,) dtype=int64>]\n"
          ]
        },
        {
          "output_type": "stream",
          "name": "stdout",
          "text": [
            "491/491 [==============================] - 169s 159ms/step - loss: 0.4159 - accuracy: 0.8238 - val_loss: 0.3401 - val_accuracy: 0.8752\n",
            "Epoch 2/10\n",
            "491/491 [==============================] - 56s 114ms/step - loss: 0.2911 - accuracy: 0.8991 - val_loss: 0.3347 - val_accuracy: 0.8798\n",
            "Epoch 3/10\n",
            "491/491 [==============================] - 56s 115ms/step - loss: 0.2336 - accuracy: 0.9255 - val_loss: 0.3534 - val_accuracy: 0.8818\n",
            "Epoch 4/10\n",
            "491/491 [==============================] - 57s 115ms/step - loss: 0.1906 - accuracy: 0.9440 - val_loss: 0.3709 - val_accuracy: 0.8772\n",
            "Epoch 5/10\n",
            "491/491 [==============================] - 57s 115ms/step - loss: 0.1581 - accuracy: 0.9562 - val_loss: 0.3840 - val_accuracy: 0.8760\n",
            "Epoch 6/10\n",
            "491/491 [==============================] - 57s 115ms/step - loss: 0.1373 - accuracy: 0.9625 - val_loss: 0.4126 - val_accuracy: 0.8686\n",
            "Epoch 7/10\n",
            "491/491 [==============================] - 57s 116ms/step - loss: 0.1161 - accuracy: 0.9682 - val_loss: 0.4749 - val_accuracy: 0.8663\n",
            "Epoch 8/10\n",
            "491/491 [==============================] - 57s 116ms/step - loss: 0.0970 - accuracy: 0.9734 - val_loss: 0.4338 - val_accuracy: 0.8698\n",
            "Epoch 9/10\n",
            "491/491 [==============================] - 56s 115ms/step - loss: 0.0854 - accuracy: 0.9756 - val_loss: 0.5055 - val_accuracy: 0.8704\n",
            "Epoch 10/10\n",
            "491/491 [==============================] - 57s 115ms/step - loss: 0.0695 - accuracy: 0.9790 - val_loss: 0.5568 - val_accuracy: 0.8726\n",
            "123/123 [==============================] - 5s 35ms/step - loss: 0.5568 - accuracy: 0.8726\n"
          ]
        }
      ]
    },
    {
      "cell_type": "code",
      "metadata": {
        "colab": {
          "base_uri": "https://localhost:8080/"
        },
        "id": "mdOY-0gs37zq",
        "outputId": "67d0739a-f8b8-46cb-c9e0-2a8ce5d4fd34"
      },
      "source": [
        "print('\\nK-fold cross validation Accuracy: {}'.format(results))\n",
        "#print(f'Mean-Precision: {sum(results) / len(results)}')"
      ],
      "execution_count": null,
      "outputs": [
        {
          "output_type": "stream",
          "name": "stdout",
          "text": [
            "\n",
            "K-fold cross validation Accuracy: ['0.8780', '0.8727', '0.8602', '0.8678', '0.8726']\n"
          ]
        }
      ]
    },
    {
      "cell_type": "code",
      "metadata": {
        "id": "Cp37aXtpQHYB",
        "colab": {
          "base_uri": "https://localhost:8080/"
        },
        "outputId": "1a4fb2c4-d021-416f-c3e0-32e45bdc20f1"
      },
      "source": [
        "print('\\nK-fold cross validation Accuracy: {}'.format(results))\n",
        "#print(f'Mean-Precision: {sum(results) / len(results)}')"
      ],
      "execution_count": null,
      "outputs": [
        {
          "output_type": "stream",
          "name": "stdout",
          "text": [
            "\n",
            "K-fold cross validation Accuracy: ['0.8780', '0.8727', '0.8602', '0.8678', '0.8726']\n"
          ]
        }
      ]
    },
    {
      "cell_type": "code",
      "metadata": {
        "id": "sXyPk_X2JOR3"
      },
      "source": [
        "#Hist1: val_acc = 0.8673\n",
        "#Hist2: val_acc = 0.8798\n",
        "#Hist3: val_acc = 0.8770\n",
        "#Hist4: val_acc = 0.8775\n",
        "#Hist5: val_acc = 0.8655"
      ],
      "execution_count": null,
      "outputs": []
    },
    {
      "cell_type": "code",
      "metadata": {
        "id": "1GqnTlkDtO7d",
        "colab": {
          "base_uri": "https://localhost:8080/"
        },
        "outputId": "362db3cb-e6e6-4005-c06c-da61c002b3f6"
      },
      "source": [
        "Hist_2.history"
      ],
      "execution_count": null,
      "outputs": [
        {
          "output_type": "execute_result",
          "data": {
            "text/plain": [
              "{'accuracy': [0.8189863562583923,\n",
              "  0.8944352269172668,\n",
              "  0.9249967932701111,\n",
              "  0.9437794089317322,\n",
              "  0.9574684500694275,\n",
              "  0.963326096534729,\n",
              "  0.969565749168396,\n",
              "  0.971284806728363,\n",
              "  0.9740862846374512,\n",
              "  0.9772061109542847],\n",
              " 'loss': [0.4225600063800812,\n",
              "  0.2946835458278656,\n",
              "  0.23350484669208527,\n",
              "  0.1874416619539261,\n",
              "  0.15297861397266388,\n",
              "  0.13338668644428253,\n",
              "  0.1170346587896347,\n",
              "  0.1088903471827507,\n",
              "  0.09831134229898453,\n",
              "  0.08711142092943192],\n",
              " 'val_accuracy': [0.8759867548942566,\n",
              "  0.8905016779899597,\n",
              "  0.8563789129257202,\n",
              "  0.8838807940483093,\n",
              "  0.8790425062179565,\n",
              "  0.8805704116821289,\n",
              "  0.8780239224433899,\n",
              "  0.8813343644142151,\n",
              "  0.8854086995124817,\n",
              "  0.8777692914009094],\n",
              " 'val_loss': [0.33390575647354126,\n",
              "  0.30323290824890137,\n",
              "  0.4030449092388153,\n",
              "  0.35188984870910645,\n",
              "  0.3869025707244873,\n",
              "  0.38123977184295654,\n",
              "  0.4193872809410095,\n",
              "  0.4218500852584839,\n",
              "  0.4229615032672882,\n",
              "  0.4549716114997864]}"
            ]
          },
          "metadata": {},
          "execution_count": 25
        }
      ]
    },
    {
      "cell_type": "code",
      "metadata": {
        "id": "NHrqeRBGNIvk",
        "colab": {
          "base_uri": "https://localhost:8080/"
        },
        "outputId": "71e9f23a-b69b-40d7-bf32-c5be687a050d"
      },
      "source": [
        "print(Hist_2.history['loss'])\n",
        "print(Hist_2.history['accuracy'])\n",
        "print(Hist_2.history['val_loss'])\n",
        "print(Hist_2.history['val_accuracy'])"
      ],
      "execution_count": null,
      "outputs": [
        {
          "output_type": "stream",
          "name": "stdout",
          "text": [
            "[0.4225600063800812, 0.2946835458278656, 0.23350484669208527, 0.1874416619539261, 0.15297861397266388, 0.13338668644428253, 0.1170346587896347, 0.1088903471827507, 0.09831134229898453, 0.08711142092943192]\n",
            "[0.8189863562583923, 0.8944352269172668, 0.9249967932701111, 0.9437794089317322, 0.9574684500694275, 0.963326096534729, 0.969565749168396, 0.971284806728363, 0.9740862846374512, 0.9772061109542847]\n",
            "[0.33390575647354126, 0.30323290824890137, 0.4030449092388153, 0.35188984870910645, 0.3869025707244873, 0.38123977184295654, 0.4193872809410095, 0.4218500852584839, 0.4229615032672882, 0.4549716114997864]\n",
            "[0.8759867548942566, 0.8905016779899597, 0.8563789129257202, 0.8838807940483093, 0.8790425062179565, 0.8805704116821289, 0.8780239224433899, 0.8813343644142151, 0.8854086995124817, 0.8777692914009094]\n"
          ]
        }
      ]
    },
    {
      "cell_type": "code",
      "metadata": {
        "id": "-iiwbwzuNVxI",
        "colab": {
          "base_uri": "https://localhost:8080/",
          "height": 279
        },
        "outputId": "a30a14bc-a4dc-4603-b608-98ea75dd520f"
      },
      "source": [
        "%matplotlib inline\n",
        "import matplotlib.pyplot as plt\n",
        "\n",
        "fig, loss_ax = plt.subplots()\n",
        "\n",
        "acc_ax = loss_ax.twinx()\n",
        "\n",
        "loss_ax.plot(Hist_5.history['loss'], 'y', label = 'train loss')\n",
        "loss_ax.plot(Hist_5.history['val_loss'], 'r--', label = 'val loss')\n",
        "\n",
        "acc_ax.plot(Hist_5.history['accuracy'], 'b-.', label = 'train acc')\n",
        "acc_ax.plot(Hist_5.history['val_accuracy'], 'g:', label = 'val acc')\n",
        "\n",
        "loss_ax.set_xlabel('epoch')\n",
        "loss_ax.set_ylabel('loss')\n",
        "acc_ax.set_ylabel('accuracy')\n",
        "\n",
        "loss_ax.legend(loc = 'upper left')\n",
        "acc_ax.legend(loc = 'lower left')\n",
        "\n",
        "#plt.show()\n",
        "plt.savefig('/content/gdrive/My Drive/Colab Notebooks/1016hist5_1.png', dpi = 1000)"
      ],
      "execution_count": null,
      "outputs": [
        {
          "output_type": "display_data",
          "data": {
            "image/png": "[encoded data removed]",
            "text/plain": [
              "<Figure size 432x288 with 2 Axes>"
            ]
          },
          "metadata": {
            "needs_background": "light"
          }
        }
      ]
    },
    {
      "cell_type": "markdown",
      "metadata": {
        "id": "Nzvz3YC27ugu"
      },
      "source": [
        "**훈련한 BERT모델로 긍부정 예측**"
      ]
    },
    {
      "cell_type": "code",
      "metadata": {
        "id": "_93f0oem9Jri"
      },
      "source": [
        "def predict_convert_data(data_df):\n",
        "  global tokenizer\n",
        "  tokens, masks, segments = [], [], []\n",
        "\n",
        "  for i in tqdm(range(len(data_df))):\n",
        "\n",
        "    token = tokenizer.encode(data_df[DATA_COLUMN][i], max_length = SEQ_LEN, truncation = True, padding = 'max_length')\n",
        "    num_zeros = token.count(0)\n",
        "    mask = [1]*(SEQ_LEN - num_zeros) + [0]*num_zeros\n",
        "    segment = [0]*SEQ_LEN\n",
        "\n",
        "    tokens.append(token)\n",
        "    masks.append(mask)\n",
        "    segments.append(segment)\n",
        "\n",
        "  tokens = np.array(tokens)\n",
        "  masks = np.array(masks)\n",
        "  segments = np.array(segments)\n",
        "\n",
        "  return [tokens, masks, segments]\n",
        "\n",
        "def predict_load_data(pandas_dataframe):\n",
        "  data_df = pandas_dataframe\n",
        "  data_df[DATA_COLUMN] = data_df[DATA_COLUMN].astype(str)\n",
        "  data_x = predict_convert_data(data_df)\n",
        "\n",
        "  return data_x"
      ],
      "execution_count": null,
      "outputs": []
    },
    {
      "cell_type": "code",
      "metadata": {
        "id": "d4VZ0EvIEHfW",
        "colab": {
          "base_uri": "https://localhost:8080/"
        },
        "outputId": "ddd8495f-794f-4128-c9f9-923aefb60914"
      },
      "source": [
        "#얘도 마지막거라서 의미 없음\n",
        "test_set = predict_load_data(val_df1)"
      ],
      "execution_count": null,
      "outputs": [
        {
          "output_type": "stream",
          "text": [
            "100%|██████████| 3926/3926 [00:07<00:00, 519.32it/s]\n"
          ],
          "name": "stderr"
        }
      ]
    },
    {
      "cell_type": "code",
      "metadata": {
        "id": "xP-zePiEEJQi",
        "colab": {
          "base_uri": "https://localhost:8080/"
        },
        "outputId": "3bb29667-946d-477a-b31a-6b019e9b23e8"
      },
      "source": [
        "test_set"
      ],
      "execution_count": null,
      "outputs": [
        {
          "output_type": "execute_result",
          "data": {
            "text/plain": [
              "[array([[  101,  3930,  5479, ...,     0,     0,     0],\n",
              "        [  101,   180,  4934, ...,     0,     0,     0],\n",
              "        [  101,   123,   119, ...,     0,     0,     0],\n",
              "        ...,\n",
              "        [  101,  2868,  2946, ...,     0,     0,     0],\n",
              "        [  101,   140,  5815, ...,     0,     0,     0],\n",
              "        [  101, 27652,  1106, ...,     0,     0,     0]]),\n",
              " array([[1, 1, 1, ..., 0, 0, 0],\n",
              "        [1, 1, 1, ..., 0, 0, 0],\n",
              "        [1, 1, 1, ..., 0, 0, 0],\n",
              "        ...,\n",
              "        [1, 1, 1, ..., 0, 0, 0],\n",
              "        [1, 1, 1, ..., 0, 0, 0],\n",
              "        [1, 1, 1, ..., 0, 0, 0]]),\n",
              " array([[0, 0, 0, ..., 0, 0, 0],\n",
              "        [0, 0, 0, ..., 0, 0, 0],\n",
              "        [0, 0, 0, ..., 0, 0, 0],\n",
              "        ...,\n",
              "        [0, 0, 0, ..., 0, 0, 0],\n",
              "        [0, 0, 0, ..., 0, 0, 0],\n",
              "        [0, 0, 0, ..., 0, 0, 0]])]"
            ]
          },
          "metadata": {
            "tags": []
          },
          "execution_count": 41
        }
      ]
    },
    {
      "cell_type": "code",
      "metadata": {
        "id": "xRyys_VwESo8",
        "colab": {
          "base_uri": "https://localhost:8080/"
        },
        "outputId": "ca925095-f98d-4b0e-945d-2df390121976"
      },
      "source": [
        "with strategy.scope():\n",
        "  preds = sentiment_model.predict(test_set)"
      ],
      "execution_count": null,
      "outputs": [
        {
          "output_type": "stream",
          "text": [
            "INFO:absl:TPU has inputs with dynamic shapes: [<tf.Tensor 'Const:0' shape=() dtype=int32>, <tf.Tensor 'cond_8/Identity:0' shape=(None, 250) dtype=int64>, <tf.Tensor 'cond_8/Identity_1:0' shape=(None, 250) dtype=int64>, <tf.Tensor 'cond_8/Identity_2:0' shape=(None, 250) dtype=int64>]\n"
          ],
          "name": "stderr"
        },
        {
          "output_type": "stream",
          "text": [
            "WARNING:tensorflow:The parameters `output_attentions`, `output_hidden_states` and `use_cache` cannot be updated when calling a model.They have to be set to True/False in the config object (i.e.: `config=XConfig.from_pretrained('name', output_attentions=True)`).\n"
          ],
          "name": "stdout"
        },
        {
          "output_type": "stream",
          "text": [
            "WARNING:tensorflow:The parameters `output_attentions`, `output_hidden_states` and `use_cache` cannot be updated when calling a model.They have to be set to True/False in the config object (i.e.: `config=XConfig.from_pretrained('name', output_attentions=True)`).\n"
          ],
          "name": "stderr"
        },
        {
          "output_type": "stream",
          "text": [
            "WARNING:tensorflow:The parameter `return_dict` cannot be set in graph mode and will always be set to `True`.\n"
          ],
          "name": "stdout"
        },
        {
          "output_type": "stream",
          "text": [
            "WARNING:tensorflow:The parameter `return_dict` cannot be set in graph mode and will always be set to `True`.\n"
          ],
          "name": "stderr"
        }
      ]
    },
    {
      "cell_type": "code",
      "metadata": {
        "id": "7QIX1bBSEWjf",
        "colab": {
          "base_uri": "https://localhost:8080/"
        },
        "outputId": "046676eb-1b11-44b6-888d-05541a6bf10e"
      },
      "source": [
        "preds"
      ],
      "execution_count": null,
      "outputs": [
        {
          "output_type": "execute_result",
          "data": {
            "text/plain": [
              "array([[0.61840266],\n",
              "       [0.61545134],\n",
              "       [0.6239005 ],\n",
              "       ...,\n",
              "       [0.6233344 ],\n",
              "       [0.61424005],\n",
              "       [0.612659  ]], dtype=float32)"
            ]
          },
          "metadata": {
            "tags": []
          },
          "execution_count": 43
        }
      ]
    },
    {
      "cell_type": "code",
      "metadata": {
        "id": "EoxP1TWUGdkF",
        "colab": {
          "base_uri": "https://localhost:8080/"
        },
        "outputId": "6061f7ac-8f61-49c5-d5ca-6bcf2e540838"
      },
      "source": [
        "from sklearn.metrics import classification_report\n",
        "y_true = val_df1['rate']\n",
        "print(classification_report(y_true, np.round(preds, 0)))"
      ],
      "execution_count": null,
      "outputs": [
        {
          "output_type": "stream",
          "text": [
            "              precision    recall  f1-score   support\n",
            "\n",
            "           0       0.00      0.00      0.00      1954\n",
            "           1       0.50      1.00      0.67      1972\n",
            "\n",
            "    accuracy                           0.50      3926\n",
            "   macro avg       0.25      0.50      0.33      3926\n",
            "weighted avg       0.25      0.50      0.34      3926\n",
            "\n"
          ],
          "name": "stdout"
        },
        {
          "output_type": "stream",
          "text": [
            "/usr/local/lib/python3.7/dist-packages/sklearn/metrics/_classification.py:1272: UndefinedMetricWarning: Precision and F-score are ill-defined and being set to 0.0 in labels with no predicted samples. Use `zero_division` parameter to control this behavior.\n",
            "  _warn_prf(average, modifier, msg_start, len(result))\n"
          ],
          "name": "stderr"
        }
      ]
    },
    {
      "cell_type": "code",
      "metadata": {
        "id": "kBuU62ezcboA"
      },
      "source": [
        "def compare_base_and_treat(base, treat):\n",
        "  labels = np.unique(base)\n",
        "  cm = confusion_matrix(base, treat, labels = labels)\n",
        "  d1 = {'class': labels}\n",
        "  corrects = []\n",
        "  for idx, label in enumerate(labels):\n",
        "    d1[label] = cm[:, idx]\n",
        "    corrects.append(cm[idx, idx])\n",
        "  d1['count'] = np.sum(cm, axis = 1)\n",
        "  d1['correct'] = np.array(corrects)\n",
        "  d1['correct_percent'] = np.round(d1[correct] / d1['count'] * 100, decimals = 1)\n",
        "  num_tot_count = np.sum(d1['count'])\n",
        "  num_tot_correct_count = np.sum(d1['correct'])\n",
        "  accuracy = round(num_tot_correct_count / num_tot_count * 100, 1)\n",
        "  if set([0, 1]) == set(labels):\n",
        "    f1 = round(f1_score(base, treat, average = 'binary'), 2)\n",
        "  else:\n",
        "    f1 = round(f1_score(base, treat, average = 'weighted'), 2)\n",
        "  \n",
        "  df = pd.DataFrame(d1)\n",
        "  print(df.to_string(index = False))\n",
        "  print('-'*65)\n",
        "  print(' total count: {} correct: {}({}%) f1_score: {}' .format(num_tot_count, num_tot_correct_count, accuracy, f1))\n",
        "  print('-'*65)\n",
        "\n",
        "  return (accuracy, f1, df)"
      ],
      "execution_count": null,
      "outputs": []
    },
    {
      "cell_type": "code",
      "metadata": {
        "id": "cNMraxzZGpYd"
      },
      "source": [
        "import logging\n",
        "tf.get_logger().setLevel(logging.ERROR)"
      ],
      "execution_count": null,
      "outputs": []
    },
    {
      "cell_type": "code",
      "metadata": {
        "id": "itItRpRhjdP8"
      },
      "source": [
        "def sentence_convert_data(data):\n",
        "  global tokenizer\n",
        "  tokens, masks, segments = [], [], []\n",
        "  token = tokenizer.encode(data, max_length = SEQ_LEN, truncation = True, padding = 'max_length')\n",
        "\n",
        "  num_zeros = token.count(0)\n",
        "  mask = [1]*(SEQ_LEN - num_zeros) + [0]*num_zeros\n",
        "  segment = [0]*SEQ_LEN\n",
        "\n",
        "  tokens.append(token)\n",
        "  masks.append(mask)\n",
        "  segments.append(segment)\n",
        "\n",
        "  tokens = np.array(tokens)\n",
        "  masks = np.array(masks)\n",
        "  segments = np.array(segments)\n",
        "\n",
        "  return [tokens, masks, segments]\n",
        "\n",
        "def evaluation_predict(sentence):\n",
        "  data_x = sentence_convert_data(sentence)\n",
        "  predict = Model_2.predict(data_x)\n",
        "  predict_value = np.ravel(predict)\n",
        "  predict_answer = np.round(predict_value, 0).item()\n",
        "\n",
        "  return [predict_answer, predict_value]"
      ],
      "execution_count": null,
      "outputs": []
    },
    {
      "cell_type": "code",
      "metadata": {
        "id": "EktdysSMWS4C"
      },
      "source": [
        "drugs = \"This is a waste of money.  Did not curb my appetite nor did it make me feel full.\""
      ],
      "execution_count": null,
      "outputs": []
    },
    {
      "cell_type": "code",
      "metadata": {
        "id": "q5c73a-JSygR",
        "colab": {
          "base_uri": "https://localhost:8080/"
        },
        "outputId": "9d6a4bb4-b8fe-438b-c750-b9790891868d"
      },
      "source": [
        "evaluation_predict(drugs)"
      ],
      "execution_count": null,
      "outputs": [
        {
          "output_type": "stream",
          "text": [
            "INFO:absl:TPU has inputs with dynamic shapes: [<tf.Tensor 'Const:0' shape=() dtype=int32>, <tf.Tensor 'cond_8/Identity:0' shape=(None, 250) dtype=int64>, <tf.Tensor 'cond_8/Identity_1:0' shape=(None, 250) dtype=int64>, <tf.Tensor 'cond_8/Identity_2:0' shape=(None, 250) dtype=int64>]\n"
          ],
          "name": "stderr"
        },
        {
          "output_type": "execute_result",
          "data": {
            "text/plain": [
              "[0.0, array([0.00121862], dtype=float32)]"
            ]
          },
          "metadata": {
            "tags": []
          },
          "execution_count": 51
        }
      ]
    },
    {
      "cell_type": "markdown",
      "metadata": {
        "id": "o0VPKdP0L1zj"
      },
      "source": [
        "비교를 위해 BERT로 celecoxib, naproxen, ibuprofen을 감성분석"
      ]
    },
    {
      "cell_type": "code",
      "metadata": {
        "id": "l78WyyQSS5Pg"
      },
      "source": [
        "celecoxib = pd.read_csv('/content/gdrive/My Drive/Colab Notebooks/csv/celecoxib.csv')"
      ],
      "execution_count": null,
      "outputs": []
    },
    {
      "cell_type": "code",
      "metadata": {
        "id": "0b6Yg8LXThOE",
        "colab": {
          "base_uri": "https://localhost:8080/"
        },
        "outputId": "3a8b8d76-eaba-47a9-f31e-befc4d0cb4d3"
      },
      "source": [
        "score_c = []\n",
        "pos = []\n",
        "pos_half = []\n",
        "neg = []\n",
        "neg_half = []\n",
        "eval_list = []\n",
        "\n",
        "for sentence in celecoxib['review']:\n",
        "  predict = evaluation_predict(sentence)      #리뷰를 bert로 예측\n",
        "  score = predict[1].tolist()[0]\n",
        "  score_c.append(score)\n",
        "\n",
        "  if predict[0] == 1:                         #예측 레이블이 1일 경우\n",
        "    eval_list.append(1)                       #label을 1로\n",
        "    if score >= 0.9:                          #레이블이 1인 것 중에 예측 점수가 0.9 이상일 경우\n",
        "      pos.append(score)                       #긍정 리스트에 예측 점수 추가\n",
        "    elif (score >= 0.5 and score < 0.9):      #예측 점수가 0.5 이상 0.9 미만일 경우\n",
        "      pos_half.append(score)                  #긍정_절반(중립에 가까운 긍정)에 예측 점수 추가\n",
        "  elif predict[0] == 0:                       #예측 레이블이 0일 경우\n",
        "    eval_list.append(0)                       #label을 0으로\n",
        "    if (score < 0.5 and score > 0.1):         #레이블이 0인 것 중에 예측 점수가 0.1 초과 0.5 미만일 경우\n",
        "      neg_half.append(-(1-score))             #부정_절반(중립에 가까운 부정)에 예측 점수 추가 (편의를 위해 -(1-score)로)\n",
        "    elif score <= 0.1:                        #예측 점수가 0.1 이하일 경우\n",
        "      neg.append(-(1-score))                  #부정 리스트에 예측 점수 추가\n",
        "'''\n",
        "all = pos + neg\n",
        "pos_per = pos / all * 100\n",
        "neg_per = neg / all * 100\n",
        "\n",
        "print('celecoxib 긍정 확률: {:.2f}%'.format(pos_per))\n",
        "print('celecoxib 부정 확률: {:.2f}%'.format(neg_per))\n",
        "'''\n",
        "\n",
        "print(len(neg))\n",
        "print(sum(neg))\n",
        "print(sum(neg) / len(neg))\n",
        "print(len(neg_half))\n",
        "print(sum(neg_half))\n",
        "print(sum(neg_half) / len(neg_half))\n",
        "print(len(pos_half))\n",
        "print(sum(pos_half))\n",
        "print(sum(pos_half) / len(pos_half))\n",
        "print(len(pos))\n",
        "print(sum(pos))\n",
        "print(sum(pos) / len(pos))"
      ],
      "execution_count": null,
      "outputs": [
        {
          "output_type": "stream",
          "text": [
            "253\n",
            "-248.59520760178566\n",
            "-0.9825897533667417\n",
            "45\n",
            "-33.79148241877556\n",
            "-0.7509218315283458\n",
            "41\n",
            "31.84522181749344\n",
            "0.7767127272559375\n",
            "265\n",
            "260.9464285373688\n",
            "0.9847035039145992\n"
          ],
          "name": "stdout"
        }
      ]
    },
    {
      "cell_type": "code",
      "metadata": {
        "id": "Irlb5HfCpCe2",
        "colab": {
          "base_uri": "https://localhost:8080/",
          "height": 206
        },
        "outputId": "cebb2322-1f6f-4b90-a914-0d8c7df06db8"
      },
      "source": [
        "celecoxib['rating'] = eval_list\n",
        "celecoxib.head()"
      ],
      "execution_count": null,
      "outputs": [
        {
          "output_type": "execute_result",
          "data": {
            "text/html": [
              "<div>\n",
              "<style scoped>\n",
              "    .dataframe tbody tr th:only-of-type {\n",
              "        vertical-align: middle;\n",
              "    }\n",
              "\n",
              "    .dataframe tbody tr th {\n",
              "        vertical-align: top;\n",
              "    }\n",
              "\n",
              "    .dataframe thead th {\n",
              "        text-align: right;\n",
              "    }\n",
              "</style>\n",
              "<table border=\"1\" class=\"dataframe\">\n",
              "  <thead>\n",
              "    <tr style=\"text-align: right;\">\n",
              "      <th></th>\n",
              "      <th>review</th>\n",
              "      <th>rating</th>\n",
              "    </tr>\n",
              "  </thead>\n",
              "  <tbody>\n",
              "    <tr>\n",
              "      <th>0</th>\n",
              "      <td>dosen't seem to help</td>\n",
              "      <td>0</td>\n",
              "    </tr>\n",
              "    <tr>\n",
              "      <th>1</th>\n",
              "      <td>Female diagnosed with Reactive Arthritis 2014 ...</td>\n",
              "      <td>1</td>\n",
              "    </tr>\n",
              "    <tr>\n",
              "      <th>2</th>\n",
              "      <td>Took these capsules as prescribed by doctor wh...</td>\n",
              "      <td>0</td>\n",
              "    </tr>\n",
              "    <tr>\n",
              "      <th>3</th>\n",
              "      <td>Have yet to have an issue. Helped get me off o...</td>\n",
              "      <td>1</td>\n",
              "    </tr>\n",
              "    <tr>\n",
              "      <th>4</th>\n",
              "      <td>Really good for lower back pain,  get me back ...</td>\n",
              "      <td>1</td>\n",
              "    </tr>\n",
              "  </tbody>\n",
              "</table>\n",
              "</div>"
            ],
            "text/plain": [
              "                                              review  rating\n",
              "0                               dosen't seem to help       0\n",
              "1  Female diagnosed with Reactive Arthritis 2014 ...       1\n",
              "2  Took these capsules as prescribed by doctor wh...       0\n",
              "3  Have yet to have an issue. Helped get me off o...       1\n",
              "4  Really good for lower back pain,  get me back ...       1"
            ]
          },
          "metadata": {
            "tags": []
          },
          "execution_count": 54
        }
      ]
    },
    {
      "cell_type": "code",
      "metadata": {
        "id": "jNDiFxlrpWp4"
      },
      "source": [
        "celecoxib.to_csv('/content/gdrive/My Drive/Colab Notebooks/csv/0730celecoxib.csv')"
      ],
      "execution_count": null,
      "outputs": []
    },
    {
      "cell_type": "code",
      "metadata": {
        "id": "WGxFBuEVXDsu",
        "colab": {
          "base_uri": "https://localhost:8080/"
        },
        "outputId": "135a0aba-a13f-417c-af24-3a29a9972332"
      },
      "source": [
        "test_c = []\n",
        "for k in range(len(score_c)):\n",
        "  test_c.append(round(score_c[k], 2))\n",
        "print(test_c[:5])"
      ],
      "execution_count": null,
      "outputs": [
        {
          "output_type": "stream",
          "text": [
            "[0.01, 1.0, 0.0, 1.0, 1.0]\n"
          ],
          "name": "stdout"
        }
      ]
    },
    {
      "cell_type": "code",
      "metadata": {
        "id": "bnbGWByGXeoV"
      },
      "source": [
        "%matplotlib inline\n",
        "import matplotlib.pyplot as plt"
      ],
      "execution_count": null,
      "outputs": []
    },
    {
      "cell_type": "code",
      "metadata": {
        "id": "Ze7whcb2XaVQ",
        "colab": {
          "base_uri": "https://localhost:8080/",
          "height": 295
        },
        "outputId": "58a24e84-3c52-4e80-be9b-e2ef75b243e9"
      },
      "source": [
        "xx = range(1, len(test_c) + 1)\n",
        "plt.bar(xx, test_c)\n",
        "plt.title('Celecoxib score')\n",
        "plt.ylabel('score')\n",
        "plt.xlabel('review num')\n",
        "plt.show()"
      ],
      "execution_count": null,
      "outputs": [
        {
          "output_type": "display_data",
          "data": {
            "image/png": "[encoded data removed]",
            "text/plain": [
              "<Figure size 432x288 with 1 Axes>"
            ]
          },
          "metadata": {
            "tags": [],
            "needs_background": "light"
          }
        }
      ]
    },
    {
      "cell_type": "code",
      "metadata": {
        "id": "4tni8YWJYwIk",
        "colab": {
          "base_uri": "https://localhost:8080/"
        },
        "outputId": "0a9a9223-83ad-486e-fdb6-3281efa71f66"
      },
      "source": [
        "score_list_c = []\n",
        "for k in range(len(score_c)):\n",
        "  score_list_c.append(round(score_c[k], 1))\n",
        "print(score_list_c[:5])"
      ],
      "execution_count": null,
      "outputs": [
        {
          "output_type": "stream",
          "text": [
            "[0.0, 1.0, 0.0, 1.0, 1.0]\n"
          ],
          "name": "stdout"
        }
      ]
    },
    {
      "cell_type": "code",
      "metadata": {
        "id": "U5kggeXKY-NY",
        "colab": {
          "base_uri": "https://localhost:8080/"
        },
        "outputId": "caa64e96-ede4-483e-c9fb-a5b7fdf51899"
      },
      "source": [
        "from collections import Counter\n",
        "score_cc = Counter(score_list_c)\n",
        "score_cc"
      ],
      "execution_count": null,
      "outputs": [
        {
          "output_type": "execute_result",
          "data": {
            "text/plain": [
              "Counter({0.0: 228,\n",
              "         0.1: 36,\n",
              "         0.2: 16,\n",
              "         0.3: 8,\n",
              "         0.4: 4,\n",
              "         0.5: 7,\n",
              "         0.6: 4,\n",
              "         0.7: 9,\n",
              "         0.8: 11,\n",
              "         0.9: 41,\n",
              "         1.0: 240})"
            ]
          },
          "metadata": {
            "tags": []
          },
          "execution_count": 60
        }
      ]
    },
    {
      "cell_type": "code",
      "metadata": {
        "id": "gHmPC9U9ZDLT",
        "colab": {
          "base_uri": "https://localhost:8080/",
          "height": 306
        },
        "outputId": "4537cd81-63f4-4db3-d2f5-53637539d534"
      },
      "source": [
        "cel_data =pd.Series(score_cc)\n",
        "cel = cel_data.sort_index()\n",
        "cel.plot(kind = 'bar', grid = True, title = 'Celecoxib score')"
      ],
      "execution_count": null,
      "outputs": [
        {
          "output_type": "execute_result",
          "data": {
            "text/plain": [
              "<matplotlib.axes._subplots.AxesSubplot at 0x7f5d2c158990>"
            ]
          },
          "metadata": {
            "tags": []
          },
          "execution_count": 61
        },
        {
          "output_type": "display_data",
          "data": {
            "image/png": "[encoded data removed]",
            "text/plain": [
              "<Figure size 432x288 with 1 Axes>"
            ]
          },
          "metadata": {
            "tags": [],
            "needs_background": "light"
          }
        }
      ]
    },
    {
      "cell_type": "code",
      "metadata": {
        "id": "GsDoQYKbZL-_"
      },
      "source": [
        "naproxen = pd.read_csv('/content/gdrive/My Drive/Colab Notebooks/csv/naproxen.csv')"
      ],
      "execution_count": null,
      "outputs": []
    },
    {
      "cell_type": "code",
      "metadata": {
        "id": "xhRqaWiAXmjl",
        "colab": {
          "base_uri": "https://localhost:8080/"
        },
        "outputId": "2726a439-2b29-4f76-e1d4-6b5df11a4565"
      },
      "source": [
        "score_n = []\n",
        "pos = []\n",
        "pos_half = []\n",
        "neg = []\n",
        "neg_half = []\n",
        "n_eval_list = []\n",
        "\n",
        "for sentence in naproxen['review']:\n",
        "  predict = evaluation_predict(sentence)\n",
        "  score = predict[1].tolist()[0]\n",
        "  score_n.append(score)\n",
        "\n",
        "  if predict[0] == 1:\n",
        "    n_eval_list.append(1)\n",
        "    if score >= 0.9:\n",
        "      pos.append(score)\n",
        "    elif (score >= 0.5 and score < 0.9):\n",
        "      pos_half.append(score)\n",
        "  elif predict[0] == 0:\n",
        "    n_eval_list.append(0)\n",
        "    if (score < 0.5 and score > 0.1):\n",
        "      neg_half.append(-(1-score))\n",
        "    elif score <= 0.1:\n",
        "      neg.append(-(1-score))\n",
        "'''\n",
        "all = pos + neg\n",
        "pos_per = pos / all * 100\n",
        "neg_per = neg / all * 100\n",
        "\n",
        "print('naproxen 긍정 확률: {:.2f}%'.format(pos_per))\n",
        "print('naproxen 부정 확률: {:.2f}%'.format(neg_per))\n",
        "'''\n",
        "print(len(neg))\n",
        "print(sum(neg))\n",
        "print(sum(neg) / len(neg))\n",
        "print(len(neg_half))\n",
        "print(sum(neg_half))\n",
        "print(sum(neg_half) / len(neg_half))\n",
        "print(len(pos_half))\n",
        "print(sum(pos_half))\n",
        "print(sum(pos_half) / len(pos_half))\n",
        "print(len(pos))\n",
        "print(sum(pos))\n",
        "print(sum(pos) / len(pos))"
      ],
      "execution_count": null,
      "outputs": [
        {
          "output_type": "stream",
          "text": [
            "309\n",
            "-303.8961842954159\n",
            "-0.9834827970725433\n",
            "43\n",
            "-32.96630421280861\n",
            "-0.766658237507177\n",
            "91\n",
            "69.23008167743683\n",
            "0.7607701283234817\n",
            "418\n",
            "411.8279153108597\n",
            "0.9852342471551667\n"
          ],
          "name": "stdout"
        }
      ]
    },
    {
      "cell_type": "code",
      "metadata": {
        "id": "0tTnRlrepIWM",
        "colab": {
          "base_uri": "https://localhost:8080/",
          "height": 206
        },
        "outputId": "307cac1b-4452-4784-b79a-99f52f69db06"
      },
      "source": [
        "naproxen['rating'] = n_eval_list\n",
        "naproxen.head()"
      ],
      "execution_count": null,
      "outputs": [
        {
          "output_type": "execute_result",
          "data": {
            "text/html": [
              "<div>\n",
              "<style scoped>\n",
              "    .dataframe tbody tr th:only-of-type {\n",
              "        vertical-align: middle;\n",
              "    }\n",
              "\n",
              "    .dataframe tbody tr th {\n",
              "        vertical-align: top;\n",
              "    }\n",
              "\n",
              "    .dataframe thead th {\n",
              "        text-align: right;\n",
              "    }\n",
              "</style>\n",
              "<table border=\"1\" class=\"dataframe\">\n",
              "  <thead>\n",
              "    <tr style=\"text-align: right;\">\n",
              "      <th></th>\n",
              "      <th>review</th>\n",
              "      <th>rating</th>\n",
              "    </tr>\n",
              "  </thead>\n",
              "  <tbody>\n",
              "    <tr>\n",
              "      <th>0</th>\n",
              "      <td>Amazing amazing amazing! They are like magic p...</td>\n",
              "      <td>1</td>\n",
              "    </tr>\n",
              "    <tr>\n",
              "      <th>1</th>\n",
              "      <td>These work really well for me, reading these r...</td>\n",
              "      <td>1</td>\n",
              "    </tr>\n",
              "    <tr>\n",
              "      <th>2</th>\n",
              "      <td>Naproxen works well for my migraines. I always...</td>\n",
              "      <td>1</td>\n",
              "    </tr>\n",
              "    <tr>\n",
              "      <th>3</th>\n",
              "      <td>Was prescribed prescription strength Naproxen ...</td>\n",
              "      <td>0</td>\n",
              "    </tr>\n",
              "    <tr>\n",
              "      <th>4</th>\n",
              "      <td>I took the naproxen after eating some food, bu...</td>\n",
              "      <td>0</td>\n",
              "    </tr>\n",
              "  </tbody>\n",
              "</table>\n",
              "</div>"
            ],
            "text/plain": [
              "                                              review  rating\n",
              "0  Amazing amazing amazing! They are like magic p...       1\n",
              "1  These work really well for me, reading these r...       1\n",
              "2  Naproxen works well for my migraines. I always...       1\n",
              "3  Was prescribed prescription strength Naproxen ...       0\n",
              "4  I took the naproxen after eating some food, bu...       0"
            ]
          },
          "metadata": {
            "tags": []
          },
          "execution_count": 64
        }
      ]
    },
    {
      "cell_type": "code",
      "metadata": {
        "id": "nr4lU9bmpeqP"
      },
      "source": [
        "naproxen.to_csv('/content/gdrive/My Drive/Colab Notebooks/csv/0730naproxen.csv')"
      ],
      "execution_count": null,
      "outputs": []
    },
    {
      "cell_type": "code",
      "metadata": {
        "id": "meI4IpLeXudi",
        "colab": {
          "base_uri": "https://localhost:8080/"
        },
        "outputId": "c6f05ef9-b625-4cb3-aba3-90c4294b5c0e"
      },
      "source": [
        "test_n = []\n",
        "for k in range(len(score_n)):\n",
        "  test_n.append(round(score_n[k], 2))\n",
        "print(test_n[:5])"
      ],
      "execution_count": null,
      "outputs": [
        {
          "output_type": "stream",
          "text": [
            "[0.99, 1.0, 0.93, 0.0, 0.02]\n"
          ],
          "name": "stdout"
        }
      ]
    },
    {
      "cell_type": "code",
      "metadata": {
        "id": "oRim2jzwXzsW",
        "colab": {
          "base_uri": "https://localhost:8080/",
          "height": 295
        },
        "outputId": "66698f19-b1aa-4447-fef7-4a43c7798c85"
      },
      "source": [
        "xx = range(1, len(test_n) + 1)\n",
        "plt.bar(xx, test_n)\n",
        "plt.title('Naproxen score')\n",
        "plt.ylabel('score')\n",
        "plt.xlabel('review num')\n",
        "plt.show()"
      ],
      "execution_count": null,
      "outputs": [
        {
          "output_type": "display_data",
          "data": {
            "image/png": "[encoded data removed]",
            "text/plain": [
              "<Figure size 432x288 with 1 Axes>"
            ]
          },
          "metadata": {
            "tags": [],
            "needs_background": "light"
          }
        }
      ]
    },
    {
      "cell_type": "code",
      "metadata": {
        "id": "w2L8NLXGX4VB",
        "colab": {
          "base_uri": "https://localhost:8080/"
        },
        "outputId": "0f1fb66d-4a84-4520-a3df-a91457412fc7"
      },
      "source": [
        "score_list_n = []\n",
        "for k in range(len(score_n)):\n",
        "  score_list_n.append(round(score_n[k], 1))\n",
        "print(score_list_n[:5])"
      ],
      "execution_count": null,
      "outputs": [
        {
          "output_type": "stream",
          "text": [
            "[1.0, 1.0, 0.9, 0.0, 0.0]\n"
          ],
          "name": "stdout"
        }
      ]
    },
    {
      "cell_type": "code",
      "metadata": {
        "id": "glOP3s6YX9mT",
        "colab": {
          "base_uri": "https://localhost:8080/"
        },
        "outputId": "7f6ccc2e-7c51-4ec5-88d7-b5f9636ef12b"
      },
      "source": [
        "score_nn = Counter(score_list_n)\n",
        "score_nn"
      ],
      "execution_count": null,
      "outputs": [
        {
          "output_type": "execute_result",
          "data": {
            "text/plain": [
              "Counter({0.0: 276,\n",
              "         0.1: 47,\n",
              "         0.2: 12,\n",
              "         0.3: 10,\n",
              "         0.4: 5,\n",
              "         0.5: 2,\n",
              "         0.6: 15,\n",
              "         0.7: 24,\n",
              "         0.8: 29,\n",
              "         0.9: 60,\n",
              "         1.0: 381})"
            ]
          },
          "metadata": {
            "tags": []
          },
          "execution_count": 69
        }
      ]
    },
    {
      "cell_type": "code",
      "metadata": {
        "id": "mXin0rXjYBGQ",
        "colab": {
          "base_uri": "https://localhost:8080/",
          "height": 306
        },
        "outputId": "2fb21c80-bfe7-490c-f90c-f4a80a9b7192"
      },
      "source": [
        "nap_data =pd.Series(score_nn)\n",
        "nap = nap_data.sort_index()\n",
        "nap.plot(kind = 'bar', grid = True, title = 'Naproxen score')"
      ],
      "execution_count": null,
      "outputs": [
        {
          "output_type": "execute_result",
          "data": {
            "text/plain": [
              "<matplotlib.axes._subplots.AxesSubplot at 0x7f5d277d4a50>"
            ]
          },
          "metadata": {
            "tags": []
          },
          "execution_count": 70
        },
        {
          "output_type": "display_data",
          "data": {
            "image/png": "[encoded data removed]",
            "text/plain": [
              "<Figure size 432x288 with 1 Axes>"
            ]
          },
          "metadata": {
            "tags": [],
            "needs_background": "light"
          }
        }
      ]
    },
    {
      "cell_type": "code",
      "metadata": {
        "id": "CFPwW1ENYJJA"
      },
      "source": [
        "ibuprofen = pd.read_csv('/content/gdrive/My Drive/Colab Notebooks/csv/ibuprofen.csv')"
      ],
      "execution_count": null,
      "outputs": []
    },
    {
      "cell_type": "code",
      "metadata": {
        "id": "lm1MpfQ_YNQx",
        "colab": {
          "base_uri": "https://localhost:8080/"
        },
        "outputId": "c7fda756-8849-41a8-856b-2f39aba55ac6"
      },
      "source": [
        "score_i = []\n",
        "pos = []\n",
        "pos_half = []\n",
        "neg = []\n",
        "neg_half = []\n",
        "i_eval_list = []\n",
        "\n",
        "for sentence in ibuprofen['review']:\n",
        "  predict = evaluation_predict(sentence)\n",
        "  score = predict[1].tolist()[0]\n",
        "  score_i.append(score)\n",
        "\n",
        "  if predict[0] == 1:\n",
        "    i_eval_list.append(1)\n",
        "    if score >= 0.9:\n",
        "      pos.append(score)\n",
        "    elif (score >= 0.5 and score < 0.9):\n",
        "      pos_half.append(score)\n",
        "  elif predict[0] == 0:\n",
        "    i_eval_list.append(0)\n",
        "    if (score < 0.5 and score > 0.1):\n",
        "      neg_half.append(-(1-score))\n",
        "    elif score <= 0.1:\n",
        "      neg.append(-(1-score))\n",
        "\n",
        "'''\n",
        "all = pos + neg\n",
        "pos_per = pos / all * 100\n",
        "neg_per = neg / all * 100\n",
        "\n",
        "print('ibuprofen 긍정 확률: {:.2f}%'.format(pos_per))\n",
        "print('ibuprofen 부정 확률: {:.2f}%'.format(neg_per))\n",
        "'''\n",
        "print(len(neg))\n",
        "print(sum(neg))\n",
        "print(sum(neg) / len(neg))\n",
        "print(len(neg_half))\n",
        "print(sum(neg_half))\n",
        "print(sum(neg_half) / len(neg_half))\n",
        "print(len(pos_half))\n",
        "print(sum(pos_half))\n",
        "print(sum(pos_half) / len(pos_half))\n",
        "print(len(pos))\n",
        "print(sum(pos))\n",
        "print(sum(pos) / len(pos))"
      ],
      "execution_count": null,
      "outputs": [
        {
          "output_type": "stream",
          "text": [
            "83\n",
            "-81.82603818178177\n",
            "-0.985855881708214\n",
            "24\n",
            "-17.33291122317314\n",
            "-0.7222046342988809\n",
            "31\n",
            "23.659591853618622\n",
            "0.7632126404393104\n",
            "147\n",
            "145.01055830717087\n",
            "0.9864663830419786\n"
          ],
          "name": "stdout"
        }
      ]
    },
    {
      "cell_type": "code",
      "metadata": {
        "id": "axTJo0McpNRK",
        "colab": {
          "base_uri": "https://localhost:8080/",
          "height": 206
        },
        "outputId": "28696566-1192-45a0-af59-5d5e2353028e"
      },
      "source": [
        "ibuprofen['rating'] = i_eval_list\n",
        "ibuprofen.head()"
      ],
      "execution_count": null,
      "outputs": [
        {
          "output_type": "execute_result",
          "data": {
            "text/html": [
              "<div>\n",
              "<style scoped>\n",
              "    .dataframe tbody tr th:only-of-type {\n",
              "        vertical-align: middle;\n",
              "    }\n",
              "\n",
              "    .dataframe tbody tr th {\n",
              "        vertical-align: top;\n",
              "    }\n",
              "\n",
              "    .dataframe thead th {\n",
              "        text-align: right;\n",
              "    }\n",
              "</style>\n",
              "<table border=\"1\" class=\"dataframe\">\n",
              "  <thead>\n",
              "    <tr style=\"text-align: right;\">\n",
              "      <th></th>\n",
              "      <th>review</th>\n",
              "      <th>rating</th>\n",
              "    </tr>\n",
              "  </thead>\n",
              "  <tbody>\n",
              "    <tr>\n",
              "      <th>0</th>\n",
              "      <td>I get frequent headaches. By frequent, I mean ...</td>\n",
              "      <td>1</td>\n",
              "    </tr>\n",
              "    <tr>\n",
              "      <th>1</th>\n",
              "      <td>it helped my cramps go for a couple of hours b...</td>\n",
              "      <td>0</td>\n",
              "    </tr>\n",
              "    <tr>\n",
              "      <th>2</th>\n",
              "      <td>I've had dehabilitating period pain since I st...</td>\n",
              "      <td>1</td>\n",
              "    </tr>\n",
              "    <tr>\n",
              "      <th>3</th>\n",
              "      <td>Advil works great for inflammation and pain bu...</td>\n",
              "      <td>1</td>\n",
              "    </tr>\n",
              "    <tr>\n",
              "      <th>4</th>\n",
              "      <td>Doesnt work at all for severe cramps :(((</td>\n",
              "      <td>0</td>\n",
              "    </tr>\n",
              "  </tbody>\n",
              "</table>\n",
              "</div>"
            ],
            "text/plain": [
              "                                              review  rating\n",
              "0  I get frequent headaches. By frequent, I mean ...       1\n",
              "1  it helped my cramps go for a couple of hours b...       0\n",
              "2  I've had dehabilitating period pain since I st...       1\n",
              "3  Advil works great for inflammation and pain bu...       1\n",
              "4          Doesnt work at all for severe cramps :(((       0"
            ]
          },
          "metadata": {
            "tags": []
          },
          "execution_count": 73
        }
      ]
    },
    {
      "cell_type": "code",
      "metadata": {
        "id": "VvkFBpFmpiwJ"
      },
      "source": [
        "ibuprofen.to_csv('/content/gdrive/My Drive/Colab Notebooks/csv/0730ibuprofen.csv')"
      ],
      "execution_count": null,
      "outputs": []
    },
    {
      "cell_type": "code",
      "metadata": {
        "id": "O3fdq76LYVzs",
        "colab": {
          "base_uri": "https://localhost:8080/"
        },
        "outputId": "3323b21e-8221-4cf6-fd19-6b9944b04f3c"
      },
      "source": [
        "test_i = []\n",
        "for k in range(len(score_i)):\n",
        "  test_i.append(round(score_i[k], 2))\n",
        "print(test_i[:5])"
      ],
      "execution_count": null,
      "outputs": [
        {
          "output_type": "stream",
          "text": [
            "[0.92, 0.0, 0.87, 0.83, 0.0]\n"
          ],
          "name": "stdout"
        }
      ]
    },
    {
      "cell_type": "code",
      "metadata": {
        "id": "dsZy6Zp8Yaod",
        "colab": {
          "base_uri": "https://localhost:8080/",
          "height": 295
        },
        "outputId": "0afeb6f9-b34e-4dce-8eec-cd675524f032"
      },
      "source": [
        "xx = range(1, len(test_i) + 1)\n",
        "plt.bar(xx, test_i)\n",
        "plt.title('Ibuprofen score')\n",
        "plt.ylabel('score')\n",
        "plt.xlabel('review num')\n",
        "plt.show()"
      ],
      "execution_count": null,
      "outputs": [
        {
          "output_type": "display_data",
          "data": {
            "image/png": "[encoded data removed]",
            "text/plain": [
              "<Figure size 432x288 with 1 Axes>"
            ]
          },
          "metadata": {
            "tags": [],
            "needs_background": "light"
          }
        }
      ]
    },
    {
      "cell_type": "code",
      "metadata": {
        "id": "UiZbaS6HYe9e",
        "colab": {
          "base_uri": "https://localhost:8080/"
        },
        "outputId": "ef1bff47-95c4-4453-dea7-7d2a4694ba51"
      },
      "source": [
        "score_list_i = []\n",
        "for k in range(len(score_i)):\n",
        "  score_list_i.append(round(score_i[k], 1))\n",
        "print(score_list_i[:5])"
      ],
      "execution_count": null,
      "outputs": [
        {
          "output_type": "stream",
          "text": [
            "[0.9, 0.0, 0.9, 0.8, 0.0]\n"
          ],
          "name": "stdout"
        }
      ]
    },
    {
      "cell_type": "code",
      "metadata": {
        "id": "kl-kYzrwYjg_",
        "colab": {
          "base_uri": "https://localhost:8080/"
        },
        "outputId": "232a2d59-86b1-4b06-97aa-a05c60465d3f"
      },
      "source": [
        "score_ii = Counter(score_list_i)\n",
        "score_ii"
      ],
      "execution_count": null,
      "outputs": [
        {
          "output_type": "execute_result",
          "data": {
            "text/plain": [
              "Counter({0.0: 78,\n",
              "         0.1: 11,\n",
              "         0.2: 6,\n",
              "         0.3: 3,\n",
              "         0.4: 8,\n",
              "         0.5: 4,\n",
              "         0.6: 4,\n",
              "         0.7: 5,\n",
              "         0.8: 7,\n",
              "         0.9: 22,\n",
              "         1.0: 137})"
            ]
          },
          "metadata": {
            "tags": []
          },
          "execution_count": 78
        }
      ]
    },
    {
      "cell_type": "code",
      "metadata": {
        "id": "7fqa9_anYnDK",
        "colab": {
          "base_uri": "https://localhost:8080/",
          "height": 306
        },
        "outputId": "0aee458a-651b-4aed-ec4a-b92fcf0fe977"
      },
      "source": [
        "ibu_data =pd.Series(score_ii)\n",
        "ibu = ibu_data.sort_index()\n",
        "ibu.plot(kind = 'bar', grid = True, title = 'Ibuprofen score')"
      ],
      "execution_count": null,
      "outputs": [
        {
          "output_type": "execute_result",
          "data": {
            "text/plain": [
              "<matplotlib.axes._subplots.AxesSubplot at 0x7f5d24810e10>"
            ]
          },
          "metadata": {
            "tags": []
          },
          "execution_count": 79
        },
        {
          "output_type": "display_data",
          "data": {
            "image/png": "[encoded data removed]",
            "text/plain": [
              "<Figure size 432x288 with 1 Axes>"
            ]
          },
          "metadata": {
            "tags": [],
            "needs_background": "light"
          }
        }
      ]
    },
    {
      "cell_type": "markdown",
      "metadata": {
        "id": "5KSmHOsfO6j4"
      },
      "source": [
        " BERT+ 알고리즘 이용하여 celecoxib, ibuprofen, naproxen 감성 분석"
      ]
    },
    {
      "cell_type": "code",
      "metadata": {
        "id": "yjCR5apqaQ4Q"
      },
      "source": [
        "import re\n",
        "\n",
        "sentence_list = []\n",
        "for sentence in celecoxib['review']:\n",
        "  sent_list = []\n",
        "  for sent in re.split('[.?!]\\s+', sentence):\n",
        "    sent_list.append(sent)\n",
        "  sentence_list.append(sent_list)"
      ],
      "execution_count": null,
      "outputs": []
    },
    {
      "cell_type": "code",
      "metadata": {
        "colab": {
          "base_uri": "https://localhost:8080/",
          "height": 206
        },
        "id": "JMgvFtSkTr0L",
        "outputId": "855e23db-ef3d-4f26-ed17-f498409a0d02"
      },
      "source": [
        "celecoxib['sentence'] = sentence_list\n",
        "celecoxib.head()"
      ],
      "execution_count": null,
      "outputs": [
        {
          "output_type": "execute_result",
          "data": {
            "text/html": [
              "<div>\n",
              "<style scoped>\n",
              "    .dataframe tbody tr th:only-of-type {\n",
              "        vertical-align: middle;\n",
              "    }\n",
              "\n",
              "    .dataframe tbody tr th {\n",
              "        vertical-align: top;\n",
              "    }\n",
              "\n",
              "    .dataframe thead th {\n",
              "        text-align: right;\n",
              "    }\n",
              "</style>\n",
              "<table border=\"1\" class=\"dataframe\">\n",
              "  <thead>\n",
              "    <tr style=\"text-align: right;\">\n",
              "      <th></th>\n",
              "      <th>review</th>\n",
              "      <th>rating</th>\n",
              "      <th>sentence</th>\n",
              "    </tr>\n",
              "  </thead>\n",
              "  <tbody>\n",
              "    <tr>\n",
              "      <th>0</th>\n",
              "      <td>dosen't seem to help</td>\n",
              "      <td>0</td>\n",
              "      <td>[dosen't seem to help]</td>\n",
              "    </tr>\n",
              "    <tr>\n",
              "      <th>1</th>\n",
              "      <td>Female diagnosed with Reactive Arthritis 2014 ...</td>\n",
              "      <td>1</td>\n",
              "      <td>[Female diagnosed with Reactive Arthritis 2014...</td>\n",
              "    </tr>\n",
              "    <tr>\n",
              "      <th>2</th>\n",
              "      <td>Took these capsules as prescribed by doctor wh...</td>\n",
              "      <td>0</td>\n",
              "      <td>[Took these capsules as prescribed by doctor w...</td>\n",
              "    </tr>\n",
              "    <tr>\n",
              "      <th>3</th>\n",
              "      <td>Have yet to have an issue. Helped get me off o...</td>\n",
              "      <td>1</td>\n",
              "      <td>[Have yet to have an issue, Helped get me off ...</td>\n",
              "    </tr>\n",
              "    <tr>\n",
              "      <th>4</th>\n",
              "      <td>Really good for lower back pain,  get me back ...</td>\n",
              "      <td>1</td>\n",
              "      <td>[Really good for lower back pain,  get me back...</td>\n",
              "    </tr>\n",
              "  </tbody>\n",
              "</table>\n",
              "</div>"
            ],
            "text/plain": [
              "                                              review  ...                                           sentence\n",
              "0                               dosen't seem to help  ...                             [dosen't seem to help]\n",
              "1  Female diagnosed with Reactive Arthritis 2014 ...  ...  [Female diagnosed with Reactive Arthritis 2014...\n",
              "2  Took these capsules as prescribed by doctor wh...  ...  [Took these capsules as prescribed by doctor w...\n",
              "3  Have yet to have an issue. Helped get me off o...  ...  [Have yet to have an issue, Helped get me off ...\n",
              "4  Really good for lower back pain,  get me back ...  ...  [Really good for lower back pain,  get me back...\n",
              "\n",
              "[5 rows x 3 columns]"
            ]
          },
          "metadata": {
            "tags": []
          },
          "execution_count": 81
        }
      ]
    },
    {
      "cell_type": "code",
      "metadata": {
        "colab": {
          "base_uri": "https://localhost:8080/",
          "height": 206
        },
        "id": "uYh6ue6mTtE2",
        "outputId": "7fe87060-1ff8-4d44-a553-4dcbede9310f"
      },
      "source": [
        "count = []\n",
        "for k in range(len(celecoxib)):\n",
        "  count.append(len(celecoxib['sentence'][k]))\n",
        "\n",
        "celecoxib['sent_count'] = count\n",
        "celecoxib.head()"
      ],
      "execution_count": null,
      "outputs": [
        {
          "output_type": "execute_result",
          "data": {
            "text/html": [
              "<div>\n",
              "<style scoped>\n",
              "    .dataframe tbody tr th:only-of-type {\n",
              "        vertical-align: middle;\n",
              "    }\n",
              "\n",
              "    .dataframe tbody tr th {\n",
              "        vertical-align: top;\n",
              "    }\n",
              "\n",
              "    .dataframe thead th {\n",
              "        text-align: right;\n",
              "    }\n",
              "</style>\n",
              "<table border=\"1\" class=\"dataframe\">\n",
              "  <thead>\n",
              "    <tr style=\"text-align: right;\">\n",
              "      <th></th>\n",
              "      <th>review</th>\n",
              "      <th>rating</th>\n",
              "      <th>sentence</th>\n",
              "      <th>sent_count</th>\n",
              "    </tr>\n",
              "  </thead>\n",
              "  <tbody>\n",
              "    <tr>\n",
              "      <th>0</th>\n",
              "      <td>dosen't seem to help</td>\n",
              "      <td>0</td>\n",
              "      <td>[dosen't seem to help]</td>\n",
              "      <td>1</td>\n",
              "    </tr>\n",
              "    <tr>\n",
              "      <th>1</th>\n",
              "      <td>Female diagnosed with Reactive Arthritis 2014 ...</td>\n",
              "      <td>1</td>\n",
              "      <td>[Female diagnosed with Reactive Arthritis 2014...</td>\n",
              "      <td>16</td>\n",
              "    </tr>\n",
              "    <tr>\n",
              "      <th>2</th>\n",
              "      <td>Took these capsules as prescribed by doctor wh...</td>\n",
              "      <td>0</td>\n",
              "      <td>[Took these capsules as prescribed by doctor w...</td>\n",
              "      <td>5</td>\n",
              "    </tr>\n",
              "    <tr>\n",
              "      <th>3</th>\n",
              "      <td>Have yet to have an issue. Helped get me off o...</td>\n",
              "      <td>1</td>\n",
              "      <td>[Have yet to have an issue, Helped get me off ...</td>\n",
              "      <td>3</td>\n",
              "    </tr>\n",
              "    <tr>\n",
              "      <th>4</th>\n",
              "      <td>Really good for lower back pain,  get me back ...</td>\n",
              "      <td>1</td>\n",
              "      <td>[Really good for lower back pain,  get me back...</td>\n",
              "      <td>3</td>\n",
              "    </tr>\n",
              "  </tbody>\n",
              "</table>\n",
              "</div>"
            ],
            "text/plain": [
              "                                              review  ...  sent_count\n",
              "0                               dosen't seem to help  ...           1\n",
              "1  Female diagnosed with Reactive Arthritis 2014 ...  ...          16\n",
              "2  Took these capsules as prescribed by doctor wh...  ...           5\n",
              "3  Have yet to have an issue. Helped get me off o...  ...           3\n",
              "4  Really good for lower back pain,  get me back ...  ...           3\n",
              "\n",
              "[5 rows x 4 columns]"
            ]
          },
          "metadata": {
            "tags": []
          },
          "execution_count": 82
        }
      ]
    },
    {
      "cell_type": "code",
      "metadata": {
        "colab": {
          "base_uri": "https://localhost:8080/"
        },
        "id": "YAiohhfgTuGv",
        "outputId": "22e0117d-06aa-46aa-8b75-66a165d25875"
      },
      "source": [
        "np.mean(count)"
      ],
      "execution_count": null,
      "outputs": [
        {
          "output_type": "execute_result",
          "data": {
            "text/plain": [
              "4.066225165562914"
            ]
          },
          "metadata": {
            "tags": []
          },
          "execution_count": 83
        }
      ]
    },
    {
      "cell_type": "code",
      "metadata": {
        "colab": {
          "base_uri": "https://localhost:8080/"
        },
        "id": "a-UD_NY1Tvw-",
        "outputId": "4fe764a9-ae7e-4ae3-b733-20215d63c933"
      },
      "source": [
        "file = open('/content/gdrive/My Drive/Colab Notebooks/csv/side_effect.txt', mode = 'r', encoding = 'utf-8')\n",
        "se = []\n",
        "side = file.read()\n",
        "side = side.splitlines()\n",
        "\n",
        "for line in side:\n",
        "  se.append(line)\n",
        "  file.close()\n",
        "\n",
        "se[:5]"
      ],
      "execution_count": null,
      "outputs": [
        {
          "output_type": "execute_result",
          "data": {
            "text/plain": [
              "['Cough', 'fever', 'skin rash', 'sneezing', 'sore throat']"
            ]
          },
          "metadata": {
            "tags": []
          },
          "execution_count": 84
        }
      ]
    },
    {
      "cell_type": "code",
      "metadata": {
        "colab": {
          "base_uri": "https://localhost:8080/"
        },
        "id": "iEObRJZ_Tw91",
        "outputId": "518b4c5b-bfac-417f-b611-36729cb5f999"
      },
      "source": [
        "se_l = []\n",
        "for word in se:\n",
        "  word = re.sub('[-=+#/\\?:^$.@*\\\"~&!\"]', '', word)\n",
        "  word = word.lower()\n",
        "  se_l.append(word)\n",
        "se_l[:5]"
      ],
      "execution_count": null,
      "outputs": [
        {
          "output_type": "execute_result",
          "data": {
            "text/plain": [
              "['cough', 'fever', 'skin rash', 'sneezing', 'sore throat']"
            ]
          },
          "metadata": {
            "tags": []
          },
          "execution_count": 85
        }
      ]
    },
    {
      "cell_type": "code",
      "metadata": {
        "colab": {
          "base_uri": "https://localhost:8080/"
        },
        "id": "z563f5U4Tx5F",
        "outputId": "20cfcec1-0008-4125-b3cb-c280f9905434"
      },
      "source": [
        "review_count = []\n",
        "sent_count = []\n",
        "sent_word = []\n",
        "for sentence in sentence_list:      #sentence_list는 리뷰를 문장으로 나눠놓은 리스트(기준은 ,)\n",
        "  re_count = 0\n",
        "  for line in sentence:             #line?\n",
        "    count = 0\n",
        "    se_word = []\n",
        "    for word in line.split():       #문장을 단어로 나눠놨을 때(기준은 )\n",
        "      if word in se_l:              #단어가 se_l(부작용 단어 리스트)안에 있으면\n",
        "        count += 1                  #count에 1 더하기\n",
        "        re_count += count           #re_count에 count 더하기 -> count는 한 문장 내의 부작용 단어 수, re_count는 한 리뷰 내의 부작용 단어 수\n",
        "        se_word.append(word)        #se_word에는 리뷰 내에서 나온 부작용 단어 넣기\n",
        "    sent_count.append(count)        #sent_count에 count 더하기 = 부작용 단어 갯수\n",
        "    sent_word.append(se_word)       #sent_word에 se_word 더하기 = 어떤 부작용 단어가 등장했는지\n",
        "  review_count.append(re_count)     #review_count는 각각의 re_count로 이루어진 리스트\n",
        "print(sent_count[:22])\n",
        "print(sent_word[:5])\n",
        "print(review_count[:5])"
      ],
      "execution_count": null,
      "outputs": [
        {
          "output_type": "stream",
          "text": [
            "[0, 0, 0, 0, 0, 0, 0, 1, 0, 0, 0, 1, 0, 0, 0, 0, 0, 1, 0, 1, 0, 0]\n",
            "[[], [], [], [], []]\n",
            "[0, 2, 2, 0, 0]\n"
          ],
          "name": "stdout"
        }
      ]
    },
    {
      "cell_type": "code",
      "metadata": {
        "colab": {
          "base_uri": "https://localhost:8080/"
        },
        "id": "dxkEXob6T0b7",
        "outputId": "d5acf747-4de9-400e-d7c6-2c82e876e98b"
      },
      "source": [
        "print(np.mean(sent_count))\n",
        "print(np.mean(review_count))"
      ],
      "execution_count": null,
      "outputs": [
        {
          "output_type": "stream",
          "text": [
            "0.27890879478827363\n",
            "1.294701986754967\n"
          ],
          "name": "stdout"
        }
      ]
    },
    {
      "cell_type": "code",
      "metadata": {
        "colab": {
          "base_uri": "https://localhost:8080/",
          "height": 206
        },
        "id": "iU7EHkvOT1bZ",
        "outputId": "7d11af52-e08c-4295-a83e-487f4515b4e1"
      },
      "source": [
        "celecoxib['review_count'] = review_count\n",
        "celecoxib.head()"
      ],
      "execution_count": null,
      "outputs": [
        {
          "output_type": "execute_result",
          "data": {
            "text/html": [
              "<div>\n",
              "<style scoped>\n",
              "    .dataframe tbody tr th:only-of-type {\n",
              "        vertical-align: middle;\n",
              "    }\n",
              "\n",
              "    .dataframe tbody tr th {\n",
              "        vertical-align: top;\n",
              "    }\n",
              "\n",
              "    .dataframe thead th {\n",
              "        text-align: right;\n",
              "    }\n",
              "</style>\n",
              "<table border=\"1\" class=\"dataframe\">\n",
              "  <thead>\n",
              "    <tr style=\"text-align: right;\">\n",
              "      <th></th>\n",
              "      <th>review</th>\n",
              "      <th>rating</th>\n",
              "      <th>sentence</th>\n",
              "      <th>sent_count</th>\n",
              "      <th>review_count</th>\n",
              "    </tr>\n",
              "  </thead>\n",
              "  <tbody>\n",
              "    <tr>\n",
              "      <th>0</th>\n",
              "      <td>dosen't seem to help</td>\n",
              "      <td>0</td>\n",
              "      <td>[dosen't seem to help]</td>\n",
              "      <td>1</td>\n",
              "      <td>0</td>\n",
              "    </tr>\n",
              "    <tr>\n",
              "      <th>1</th>\n",
              "      <td>Female diagnosed with Reactive Arthritis 2014 ...</td>\n",
              "      <td>1</td>\n",
              "      <td>[Female diagnosed with Reactive Arthritis 2014...</td>\n",
              "      <td>16</td>\n",
              "      <td>2</td>\n",
              "    </tr>\n",
              "    <tr>\n",
              "      <th>2</th>\n",
              "      <td>Took these capsules as prescribed by doctor wh...</td>\n",
              "      <td>0</td>\n",
              "      <td>[Took these capsules as prescribed by doctor w...</td>\n",
              "      <td>5</td>\n",
              "      <td>2</td>\n",
              "    </tr>\n",
              "    <tr>\n",
              "      <th>3</th>\n",
              "      <td>Have yet to have an issue. Helped get me off o...</td>\n",
              "      <td>1</td>\n",
              "      <td>[Have yet to have an issue, Helped get me off ...</td>\n",
              "      <td>3</td>\n",
              "      <td>0</td>\n",
              "    </tr>\n",
              "    <tr>\n",
              "      <th>4</th>\n",
              "      <td>Really good for lower back pain,  get me back ...</td>\n",
              "      <td>1</td>\n",
              "      <td>[Really good for lower back pain,  get me back...</td>\n",
              "      <td>3</td>\n",
              "      <td>0</td>\n",
              "    </tr>\n",
              "  </tbody>\n",
              "</table>\n",
              "</div>"
            ],
            "text/plain": [
              "                                              review  ...  review_count\n",
              "0                               dosen't seem to help  ...             0\n",
              "1  Female diagnosed with Reactive Arthritis 2014 ...  ...             2\n",
              "2  Took these capsules as prescribed by doctor wh...  ...             2\n",
              "3  Have yet to have an issue. Helped get me off o...  ...             0\n",
              "4  Really good for lower back pain,  get me back ...  ...             0\n",
              "\n",
              "[5 rows x 5 columns]"
            ]
          },
          "metadata": {
            "tags": []
          },
          "execution_count": 88
        }
      ]
    },
    {
      "cell_type": "code",
      "metadata": {
        "colab": {
          "base_uri": "https://localhost:8080/"
        },
        "id": "ZWMgF7ORWNtI",
        "outputId": "9cac1cfa-ba99-4883-847b-a25f269c206a"
      },
      "source": [
        "#bert+에서는 부작용 단어의 수 사용하지 않음\n",
        "\n",
        "rating = []\n",
        "for i in celecoxib.index:\n",
        "  rev = celecoxib.loc[i, 'review']                                          #rev는 review 의미\n",
        "  pos = 0\n",
        "  neg = 0\n",
        "  predict = evaluation_predict(rev)                                         #리뷰를 bert 예측한 결과를 predict라고 함\n",
        "\n",
        "  if (predict[1].tolist()[0] < 0.9) and (predict[1].tolist()[0] > 0.1):     #만약 예측 점수가 0.9보다 작고 0.1보다 크면, 즉 중립 리뷰이면\n",
        "    for k in range(celecoxib.loc[i, 'sent_count']):                         #각 리뷰 내의 문장 갯수 만큼 for문 돌림\n",
        "      pos = 0\n",
        "      neg = 0\n",
        "      sent = celecoxib.loc[i, 'sentence'][k]                                #sent를 리뷰 내의 각 문장이라고 함\n",
        "      predict_sent = evaluation_predict(sent)                               #각 문장을 bert 예측함\n",
        "      if predict_sent[0] == 1:                                              #문장 예측 label이 1이면,\n",
        "        pos += 1                                                            #pos에 1 더함\n",
        "      elif predict_sent[0] == 0:                                            #문장 예측 label이 0이면,\n",
        "        neg += 1                                                            #neg에 1 더함\n",
        "\n",
        "    if pos > neg:                                                         #리뷰 내의 모든 문장을 예측했을 때, 긍정 문장이 부정 문장 보다 많으면,\n",
        "      rating.append(1)                                                    #해당 리뷰를 긍정이라고 판단\n",
        "    elif pos < neg:                                                       #리뷰 내의 모든 문장을 예측했을 때, 부정 문장이 긍정 문장 보다 많으면,\n",
        "      rating.append(0)                                                    #해당 리뷰를 부정이라고 판단\n",
        "    elif pos == neg:                                                      #리뷰 내의 모든 문장을 예측했을 때, 긍정 문장 수와 부정 문장 수가 같으면,\n",
        "      rating.append(predict[0])                                           #predict의 label, 즉 문장이 아닌 리뷰를 예측한 결과를 사용함\n",
        "\n",
        "  else:                                                                     #리뷰 예측 점수가 0.9보다 크거나 0.1보다 작으면, 즉 점수가 확실하면\n",
        "    rating.append(predict[0])                                               #predict의 label, 즉 문장이 아닌 리뷰를 예측한 결과를 그대로 사용함\n",
        "\n",
        "print(rating[:5])"
      ],
      "execution_count": null,
      "outputs": [
        {
          "output_type": "stream",
          "text": [
            "[0.0, 1.0, 0.0, 1.0, 1.0]\n"
          ],
          "name": "stdout"
        }
      ]
    },
    {
      "cell_type": "code",
      "metadata": {
        "colab": {
          "base_uri": "https://localhost:8080/"
        },
        "id": "4YqPzuKpXoH4",
        "outputId": "98ddde4f-6aa8-43aa-def5-3e611b722f28"
      },
      "source": [
        "print(len(rating))\n",
        "print(len(celecoxib))"
      ],
      "execution_count": null,
      "outputs": [
        {
          "output_type": "stream",
          "text": [
            "604\n",
            "604\n"
          ],
          "name": "stdout"
        }
      ]
    },
    {
      "cell_type": "code",
      "metadata": {
        "colab": {
          "base_uri": "https://localhost:8080/",
          "height": 206
        },
        "id": "Rf2maH9Peb24",
        "outputId": "8edc0976-6e72-45a3-b4e8-7b9f1db64779"
      },
      "source": [
        "celecoxib['rating2_bert+'] = rating\n",
        "celecoxib.head()"
      ],
      "execution_count": null,
      "outputs": [
        {
          "output_type": "execute_result",
          "data": {
            "text/html": [
              "<div>\n",
              "<style scoped>\n",
              "    .dataframe tbody tr th:only-of-type {\n",
              "        vertical-align: middle;\n",
              "    }\n",
              "\n",
              "    .dataframe tbody tr th {\n",
              "        vertical-align: top;\n",
              "    }\n",
              "\n",
              "    .dataframe thead th {\n",
              "        text-align: right;\n",
              "    }\n",
              "</style>\n",
              "<table border=\"1\" class=\"dataframe\">\n",
              "  <thead>\n",
              "    <tr style=\"text-align: right;\">\n",
              "      <th></th>\n",
              "      <th>review</th>\n",
              "      <th>rating</th>\n",
              "      <th>sentence</th>\n",
              "      <th>sent_count</th>\n",
              "      <th>review_count</th>\n",
              "      <th>rating2_bert+</th>\n",
              "    </tr>\n",
              "  </thead>\n",
              "  <tbody>\n",
              "    <tr>\n",
              "      <th>0</th>\n",
              "      <td>dosen't seem to help</td>\n",
              "      <td>0</td>\n",
              "      <td>[dosen't seem to help]</td>\n",
              "      <td>1</td>\n",
              "      <td>0</td>\n",
              "      <td>0.0</td>\n",
              "    </tr>\n",
              "    <tr>\n",
              "      <th>1</th>\n",
              "      <td>Female diagnosed with Reactive Arthritis 2014 ...</td>\n",
              "      <td>1</td>\n",
              "      <td>[Female diagnosed with Reactive Arthritis 2014...</td>\n",
              "      <td>16</td>\n",
              "      <td>2</td>\n",
              "      <td>1.0</td>\n",
              "    </tr>\n",
              "    <tr>\n",
              "      <th>2</th>\n",
              "      <td>Took these capsules as prescribed by doctor wh...</td>\n",
              "      <td>0</td>\n",
              "      <td>[Took these capsules as prescribed by doctor w...</td>\n",
              "      <td>5</td>\n",
              "      <td>2</td>\n",
              "      <td>0.0</td>\n",
              "    </tr>\n",
              "    <tr>\n",
              "      <th>3</th>\n",
              "      <td>Have yet to have an issue. Helped get me off o...</td>\n",
              "      <td>1</td>\n",
              "      <td>[Have yet to have an issue, Helped get me off ...</td>\n",
              "      <td>3</td>\n",
              "      <td>0</td>\n",
              "      <td>1.0</td>\n",
              "    </tr>\n",
              "    <tr>\n",
              "      <th>4</th>\n",
              "      <td>Really good for lower back pain,  get me back ...</td>\n",
              "      <td>1</td>\n",
              "      <td>[Really good for lower back pain,  get me back...</td>\n",
              "      <td>3</td>\n",
              "      <td>0</td>\n",
              "      <td>1.0</td>\n",
              "    </tr>\n",
              "  </tbody>\n",
              "</table>\n",
              "</div>"
            ],
            "text/plain": [
              "                                              review  ...  rating2_bert+\n",
              "0                               dosen't seem to help  ...            0.0\n",
              "1  Female diagnosed with Reactive Arthritis 2014 ...  ...            1.0\n",
              "2  Took these capsules as prescribed by doctor wh...  ...            0.0\n",
              "3  Have yet to have an issue. Helped get me off o...  ...            1.0\n",
              "4  Really good for lower back pain,  get me back ...  ...            1.0\n",
              "\n",
              "[5 rows x 6 columns]"
            ]
          },
          "metadata": {
            "tags": []
          },
          "execution_count": 95
        }
      ]
    },
    {
      "cell_type": "code",
      "metadata": {
        "id": "sWZu1ROlg1o1"
      },
      "source": [
        "celecoxib.to_csv('/content/gdrive/My Drive/Colab Notebooks/csv/0730celecoxib_bertpl.csv')"
      ],
      "execution_count": null,
      "outputs": []
    },
    {
      "cell_type": "code",
      "metadata": {
        "id": "kTbsqM1NjeIA"
      },
      "source": [
        "sentence_list = []\n",
        "for sentence in naproxen['review']:\n",
        "  sent_list = []\n",
        "  for sent in re.split('[.?!]\\s+', sentence):\n",
        "    sent_list.append(sent)\n",
        "  sentence_list.append(sent_list)"
      ],
      "execution_count": null,
      "outputs": []
    },
    {
      "cell_type": "code",
      "metadata": {
        "colab": {
          "base_uri": "https://localhost:8080/",
          "height": 206
        },
        "id": "E9u8OexQg49H",
        "outputId": "939d6a5e-6e60-47d9-cb65-3dcbe8fe6d1e"
      },
      "source": [
        "naproxen['sentence'] = sentence_list\n",
        "naproxen.head()"
      ],
      "execution_count": null,
      "outputs": [
        {
          "output_type": "execute_result",
          "data": {
            "text/html": [
              "<div>\n",
              "<style scoped>\n",
              "    .dataframe tbody tr th:only-of-type {\n",
              "        vertical-align: middle;\n",
              "    }\n",
              "\n",
              "    .dataframe tbody tr th {\n",
              "        vertical-align: top;\n",
              "    }\n",
              "\n",
              "    .dataframe thead th {\n",
              "        text-align: right;\n",
              "    }\n",
              "</style>\n",
              "<table border=\"1\" class=\"dataframe\">\n",
              "  <thead>\n",
              "    <tr style=\"text-align: right;\">\n",
              "      <th></th>\n",
              "      <th>review</th>\n",
              "      <th>rating</th>\n",
              "      <th>sentence</th>\n",
              "    </tr>\n",
              "  </thead>\n",
              "  <tbody>\n",
              "    <tr>\n",
              "      <th>0</th>\n",
              "      <td>Amazing amazing amazing! They are like magic p...</td>\n",
              "      <td>1</td>\n",
              "      <td>[Amazing amazing amazing, They are like magic ...</td>\n",
              "    </tr>\n",
              "    <tr>\n",
              "      <th>1</th>\n",
              "      <td>These work really well for me, reading these r...</td>\n",
              "      <td>1</td>\n",
              "      <td>[These work really well for me, reading these ...</td>\n",
              "    </tr>\n",
              "    <tr>\n",
              "      <th>2</th>\n",
              "      <td>Naproxen works well for my migraines. I always...</td>\n",
              "      <td>1</td>\n",
              "      <td>[Naproxen works well for my migraines, I alway...</td>\n",
              "    </tr>\n",
              "    <tr>\n",
              "      <th>3</th>\n",
              "      <td>Was prescribed prescription strength Naproxen ...</td>\n",
              "      <td>0</td>\n",
              "      <td>[Was prescribed prescription strength Naproxen...</td>\n",
              "    </tr>\n",
              "    <tr>\n",
              "      <th>4</th>\n",
              "      <td>I took the naproxen after eating some food, bu...</td>\n",
              "      <td>0</td>\n",
              "      <td>[I took the naproxen after eating some food, b...</td>\n",
              "    </tr>\n",
              "  </tbody>\n",
              "</table>\n",
              "</div>"
            ],
            "text/plain": [
              "                                              review  ...                                           sentence\n",
              "0  Amazing amazing amazing! They are like magic p...  ...  [Amazing amazing amazing, They are like magic ...\n",
              "1  These work really well for me, reading these r...  ...  [These work really well for me, reading these ...\n",
              "2  Naproxen works well for my migraines. I always...  ...  [Naproxen works well for my migraines, I alway...\n",
              "3  Was prescribed prescription strength Naproxen ...  ...  [Was prescribed prescription strength Naproxen...\n",
              "4  I took the naproxen after eating some food, bu...  ...  [I took the naproxen after eating some food, b...\n",
              "\n",
              "[5 rows x 3 columns]"
            ]
          },
          "metadata": {
            "tags": []
          },
          "execution_count": 98
        }
      ]
    },
    {
      "cell_type": "code",
      "metadata": {
        "colab": {
          "base_uri": "https://localhost:8080/",
          "height": 206
        },
        "id": "8I9IRXrbjXg4",
        "outputId": "6f00d0b7-465e-4321-c1ce-96f01021f67c"
      },
      "source": [
        "count = []\n",
        "for k in range(len(naproxen)):\n",
        "  count.append(len(naproxen['sentence'][k]))\n",
        "\n",
        "naproxen['sent_count'] = count\n",
        "naproxen.head()"
      ],
      "execution_count": null,
      "outputs": [
        {
          "output_type": "execute_result",
          "data": {
            "text/html": [
              "<div>\n",
              "<style scoped>\n",
              "    .dataframe tbody tr th:only-of-type {\n",
              "        vertical-align: middle;\n",
              "    }\n",
              "\n",
              "    .dataframe tbody tr th {\n",
              "        vertical-align: top;\n",
              "    }\n",
              "\n",
              "    .dataframe thead th {\n",
              "        text-align: right;\n",
              "    }\n",
              "</style>\n",
              "<table border=\"1\" class=\"dataframe\">\n",
              "  <thead>\n",
              "    <tr style=\"text-align: right;\">\n",
              "      <th></th>\n",
              "      <th>review</th>\n",
              "      <th>rating</th>\n",
              "      <th>sentence</th>\n",
              "      <th>sent_count</th>\n",
              "    </tr>\n",
              "  </thead>\n",
              "  <tbody>\n",
              "    <tr>\n",
              "      <th>0</th>\n",
              "      <td>Amazing amazing amazing! They are like magic p...</td>\n",
              "      <td>1</td>\n",
              "      <td>[Amazing amazing amazing, They are like magic ...</td>\n",
              "      <td>6</td>\n",
              "    </tr>\n",
              "    <tr>\n",
              "      <th>1</th>\n",
              "      <td>These work really well for me, reading these r...</td>\n",
              "      <td>1</td>\n",
              "      <td>[These work really well for me, reading these ...</td>\n",
              "      <td>6</td>\n",
              "    </tr>\n",
              "    <tr>\n",
              "      <th>2</th>\n",
              "      <td>Naproxen works well for my migraines. I always...</td>\n",
              "      <td>1</td>\n",
              "      <td>[Naproxen works well for my migraines, I alway...</td>\n",
              "      <td>3</td>\n",
              "    </tr>\n",
              "    <tr>\n",
              "      <th>3</th>\n",
              "      <td>Was prescribed prescription strength Naproxen ...</td>\n",
              "      <td>0</td>\n",
              "      <td>[Was prescribed prescription strength Naproxen...</td>\n",
              "      <td>3</td>\n",
              "    </tr>\n",
              "    <tr>\n",
              "      <th>4</th>\n",
              "      <td>I took the naproxen after eating some food, bu...</td>\n",
              "      <td>0</td>\n",
              "      <td>[I took the naproxen after eating some food, b...</td>\n",
              "      <td>3</td>\n",
              "    </tr>\n",
              "  </tbody>\n",
              "</table>\n",
              "</div>"
            ],
            "text/plain": [
              "                                              review  ...  sent_count\n",
              "0  Amazing amazing amazing! They are like magic p...  ...           6\n",
              "1  These work really well for me, reading these r...  ...           6\n",
              "2  Naproxen works well for my migraines. I always...  ...           3\n",
              "3  Was prescribed prescription strength Naproxen ...  ...           3\n",
              "4  I took the naproxen after eating some food, bu...  ...           3\n",
              "\n",
              "[5 rows x 4 columns]"
            ]
          },
          "metadata": {
            "tags": []
          },
          "execution_count": 99
        }
      ]
    },
    {
      "cell_type": "code",
      "metadata": {
        "colab": {
          "base_uri": "https://localhost:8080/"
        },
        "id": "AWC3U-rIjoTz",
        "outputId": "57b5e650-eb8f-4453-85e8-cb92b24d38ec"
      },
      "source": [
        "review_count = []\n",
        "sent_count = []\n",
        "sent_word = []\n",
        "for sentence in sentence_list:\n",
        "  re_count = 0\n",
        "  for line in sentence:\n",
        "    count = 0\n",
        "    se_word = []\n",
        "    for word in line.split():\n",
        "      if word in se_l:\n",
        "        count += 1\n",
        "        re_count += count\n",
        "        se_word.append(word)\n",
        "    sent_count.append(count)\n",
        "    sent_word.append(se_word)\n",
        "  review_count.append(re_count)\n",
        "print(sent_count[:22])\n",
        "print(sent_word[:5])\n",
        "print(review_count[:5])"
      ],
      "execution_count": null,
      "outputs": [
        {
          "output_type": "stream",
          "text": [
            "[0, 0, 1, 0, 1, 0, 0, 0, 0, 0, 0, 0, 0, 0, 0, 1, 1, 0, 0, 2, 1, 2]\n",
            "[[], [], ['pain'], [], ['cramps']]\n",
            "[2, 0, 0, 2, 4]\n"
          ],
          "name": "stdout"
        }
      ]
    },
    {
      "cell_type": "code",
      "metadata": {
        "colab": {
          "base_uri": "https://localhost:8080/",
          "height": 206
        },
        "id": "9S6upeqjj0YQ",
        "outputId": "8649c69a-d7a3-49bd-ae0e-4abf6458f0b0"
      },
      "source": [
        "naproxen['review_count'] = review_count\n",
        "naproxen.head()"
      ],
      "execution_count": null,
      "outputs": [
        {
          "output_type": "execute_result",
          "data": {
            "text/html": [
              "<div>\n",
              "<style scoped>\n",
              "    .dataframe tbody tr th:only-of-type {\n",
              "        vertical-align: middle;\n",
              "    }\n",
              "\n",
              "    .dataframe tbody tr th {\n",
              "        vertical-align: top;\n",
              "    }\n",
              "\n",
              "    .dataframe thead th {\n",
              "        text-align: right;\n",
              "    }\n",
              "</style>\n",
              "<table border=\"1\" class=\"dataframe\">\n",
              "  <thead>\n",
              "    <tr style=\"text-align: right;\">\n",
              "      <th></th>\n",
              "      <th>review</th>\n",
              "      <th>rating</th>\n",
              "      <th>sentence</th>\n",
              "      <th>sent_count</th>\n",
              "      <th>review_count</th>\n",
              "    </tr>\n",
              "  </thead>\n",
              "  <tbody>\n",
              "    <tr>\n",
              "      <th>0</th>\n",
              "      <td>Amazing amazing amazing! They are like magic p...</td>\n",
              "      <td>1</td>\n",
              "      <td>[Amazing amazing amazing, They are like magic ...</td>\n",
              "      <td>6</td>\n",
              "      <td>2</td>\n",
              "    </tr>\n",
              "    <tr>\n",
              "      <th>1</th>\n",
              "      <td>These work really well for me, reading these r...</td>\n",
              "      <td>1</td>\n",
              "      <td>[These work really well for me, reading these ...</td>\n",
              "      <td>6</td>\n",
              "      <td>0</td>\n",
              "    </tr>\n",
              "    <tr>\n",
              "      <th>2</th>\n",
              "      <td>Naproxen works well for my migraines. I always...</td>\n",
              "      <td>1</td>\n",
              "      <td>[Naproxen works well for my migraines, I alway...</td>\n",
              "      <td>3</td>\n",
              "      <td>0</td>\n",
              "    </tr>\n",
              "    <tr>\n",
              "      <th>3</th>\n",
              "      <td>Was prescribed prescription strength Naproxen ...</td>\n",
              "      <td>0</td>\n",
              "      <td>[Was prescribed prescription strength Naproxen...</td>\n",
              "      <td>3</td>\n",
              "      <td>2</td>\n",
              "    </tr>\n",
              "    <tr>\n",
              "      <th>4</th>\n",
              "      <td>I took the naproxen after eating some food, bu...</td>\n",
              "      <td>0</td>\n",
              "      <td>[I took the naproxen after eating some food, b...</td>\n",
              "      <td>3</td>\n",
              "      <td>4</td>\n",
              "    </tr>\n",
              "  </tbody>\n",
              "</table>\n",
              "</div>"
            ],
            "text/plain": [
              "                                              review  ...  review_count\n",
              "0  Amazing amazing amazing! They are like magic p...  ...             2\n",
              "1  These work really well for me, reading these r...  ...             0\n",
              "2  Naproxen works well for my migraines. I always...  ...             0\n",
              "3  Was prescribed prescription strength Naproxen ...  ...             2\n",
              "4  I took the naproxen after eating some food, bu...  ...             4\n",
              "\n",
              "[5 rows x 5 columns]"
            ]
          },
          "metadata": {
            "tags": []
          },
          "execution_count": 101
        }
      ]
    },
    {
      "cell_type": "code",
      "metadata": {
        "colab": {
          "base_uri": "https://localhost:8080/"
        },
        "id": "ArLdD4mgj2Xu",
        "outputId": "2dcdaa97-895a-4bc8-ec29-da0069f4f788"
      },
      "source": [
        "rating = []\n",
        "for i in naproxen.index:\n",
        "  rev = naproxen.loc[i, 'review']\n",
        "  pos = 0\n",
        "  neg = 0\n",
        "  predict = evaluation_predict(rev)\n",
        "\n",
        "  if (predict[1].tolist()[0] < 0.9) and (predict[1].tolist()[0] > 0.1):\n",
        "    for k in range(naproxen.loc[i, 'sent_count']):\n",
        "      pos = 0\n",
        "      neg = 0\n",
        "      sent = naproxen.loc[i, 'sentence'][k]\n",
        "      predict_sent = evaluation_predict(sent)\n",
        "      if predict_sent[0] == 1:\n",
        "        pos += 1\n",
        "      elif predict_sent[0] == 0:\n",
        "        neg += 1\n",
        "\n",
        "    if pos > neg:\n",
        "      rating.append(1)\n",
        "    elif pos < neg:\n",
        "      rating.append(0)\n",
        "    elif pos == neg:\n",
        "      rating.append(predict[0])\n",
        "\n",
        "  else:\n",
        "    rating.append(predict[0])\n",
        "\n",
        "print(rating[:5])"
      ],
      "execution_count": null,
      "outputs": [
        {
          "output_type": "stream",
          "text": [
            "[1.0, 1.0, 1.0, 0.0, 0.0]\n"
          ],
          "name": "stdout"
        }
      ]
    },
    {
      "cell_type": "code",
      "metadata": {
        "colab": {
          "base_uri": "https://localhost:8080/"
        },
        "id": "GK_FftN-kAP2",
        "outputId": "e1d9e2ba-d437-49ed-d918-bf7a504996bb"
      },
      "source": [
        "print(len(rating))\n",
        "print(len(naproxen))"
      ],
      "execution_count": null,
      "outputs": [
        {
          "output_type": "stream",
          "text": [
            "861\n",
            "861\n"
          ],
          "name": "stdout"
        }
      ]
    },
    {
      "cell_type": "code",
      "metadata": {
        "colab": {
          "base_uri": "https://localhost:8080/",
          "height": 206
        },
        "id": "ZRKRQXhNl0sY",
        "outputId": "4307534a-f0b9-41d2-e2da-9dd06a35ede0"
      },
      "source": [
        "naproxen['rating2_bert+'] = rating\n",
        "naproxen.head()"
      ],
      "execution_count": null,
      "outputs": [
        {
          "output_type": "execute_result",
          "data": {
            "text/html": [
              "<div>\n",
              "<style scoped>\n",
              "    .dataframe tbody tr th:only-of-type {\n",
              "        vertical-align: middle;\n",
              "    }\n",
              "\n",
              "    .dataframe tbody tr th {\n",
              "        vertical-align: top;\n",
              "    }\n",
              "\n",
              "    .dataframe thead th {\n",
              "        text-align: right;\n",
              "    }\n",
              "</style>\n",
              "<table border=\"1\" class=\"dataframe\">\n",
              "  <thead>\n",
              "    <tr style=\"text-align: right;\">\n",
              "      <th></th>\n",
              "      <th>review</th>\n",
              "      <th>rating</th>\n",
              "      <th>sentence</th>\n",
              "      <th>sent_count</th>\n",
              "      <th>review_count</th>\n",
              "      <th>rating2_bert+</th>\n",
              "    </tr>\n",
              "  </thead>\n",
              "  <tbody>\n",
              "    <tr>\n",
              "      <th>0</th>\n",
              "      <td>Amazing amazing amazing! They are like magic p...</td>\n",
              "      <td>1</td>\n",
              "      <td>[Amazing amazing amazing, They are like magic ...</td>\n",
              "      <td>6</td>\n",
              "      <td>2</td>\n",
              "      <td>1.0</td>\n",
              "    </tr>\n",
              "    <tr>\n",
              "      <th>1</th>\n",
              "      <td>These work really well for me, reading these r...</td>\n",
              "      <td>1</td>\n",
              "      <td>[These work really well for me, reading these ...</td>\n",
              "      <td>6</td>\n",
              "      <td>0</td>\n",
              "      <td>1.0</td>\n",
              "    </tr>\n",
              "    <tr>\n",
              "      <th>2</th>\n",
              "      <td>Naproxen works well for my migraines. I always...</td>\n",
              "      <td>1</td>\n",
              "      <td>[Naproxen works well for my migraines, I alway...</td>\n",
              "      <td>3</td>\n",
              "      <td>0</td>\n",
              "      <td>1.0</td>\n",
              "    </tr>\n",
              "    <tr>\n",
              "      <th>3</th>\n",
              "      <td>Was prescribed prescription strength Naproxen ...</td>\n",
              "      <td>0</td>\n",
              "      <td>[Was prescribed prescription strength Naproxen...</td>\n",
              "      <td>3</td>\n",
              "      <td>2</td>\n",
              "      <td>0.0</td>\n",
              "    </tr>\n",
              "    <tr>\n",
              "      <th>4</th>\n",
              "      <td>I took the naproxen after eating some food, bu...</td>\n",
              "      <td>0</td>\n",
              "      <td>[I took the naproxen after eating some food, b...</td>\n",
              "      <td>3</td>\n",
              "      <td>4</td>\n",
              "      <td>0.0</td>\n",
              "    </tr>\n",
              "  </tbody>\n",
              "</table>\n",
              "</div>"
            ],
            "text/plain": [
              "                                              review  ...  rating2_bert+\n",
              "0  Amazing amazing amazing! They are like magic p...  ...            1.0\n",
              "1  These work really well for me, reading these r...  ...            1.0\n",
              "2  Naproxen works well for my migraines. I always...  ...            1.0\n",
              "3  Was prescribed prescription strength Naproxen ...  ...            0.0\n",
              "4  I took the naproxen after eating some food, bu...  ...            0.0\n",
              "\n",
              "[5 rows x 6 columns]"
            ]
          },
          "metadata": {
            "tags": []
          },
          "execution_count": 104
        }
      ]
    },
    {
      "cell_type": "code",
      "metadata": {
        "id": "jCXkBn7pl5A-"
      },
      "source": [
        "naproxen.to_csv('/content/gdrive/My Drive/Colab Notebooks/csv/0730naproxen_bertpl.csv')"
      ],
      "execution_count": null,
      "outputs": []
    },
    {
      "cell_type": "code",
      "metadata": {
        "id": "k2xPlQPKl9OQ"
      },
      "source": [
        "sentence_list = []\n",
        "for sentence in ibuprofen['review']:\n",
        "  sent_list = []\n",
        "  for sent in re.split('[.?!]\\s+', sentence):\n",
        "    sent_list.append(sent)\n",
        "  sentence_list.append(sent_list)"
      ],
      "execution_count": null,
      "outputs": []
    },
    {
      "cell_type": "code",
      "metadata": {
        "colab": {
          "base_uri": "https://localhost:8080/",
          "height": 206
        },
        "id": "ti4xFszFmCRG",
        "outputId": "a19cf60e-aa03-4259-89c2-2ae244251192"
      },
      "source": [
        "ibuprofen['sentence'] = sentence_list\n",
        "ibuprofen.head()"
      ],
      "execution_count": null,
      "outputs": [
        {
          "output_type": "execute_result",
          "data": {
            "text/html": [
              "<div>\n",
              "<style scoped>\n",
              "    .dataframe tbody tr th:only-of-type {\n",
              "        vertical-align: middle;\n",
              "    }\n",
              "\n",
              "    .dataframe tbody tr th {\n",
              "        vertical-align: top;\n",
              "    }\n",
              "\n",
              "    .dataframe thead th {\n",
              "        text-align: right;\n",
              "    }\n",
              "</style>\n",
              "<table border=\"1\" class=\"dataframe\">\n",
              "  <thead>\n",
              "    <tr style=\"text-align: right;\">\n",
              "      <th></th>\n",
              "      <th>review</th>\n",
              "      <th>rating</th>\n",
              "      <th>sentence</th>\n",
              "    </tr>\n",
              "  </thead>\n",
              "  <tbody>\n",
              "    <tr>\n",
              "      <th>0</th>\n",
              "      <td>I get frequent headaches. By frequent, I mean ...</td>\n",
              "      <td>1</td>\n",
              "      <td>[I get frequent headaches, By frequent, I mean...</td>\n",
              "    </tr>\n",
              "    <tr>\n",
              "      <th>1</th>\n",
              "      <td>it helped my cramps go for a couple of hours b...</td>\n",
              "      <td>0</td>\n",
              "      <td>[it helped my cramps go for a couple of hours ...</td>\n",
              "    </tr>\n",
              "    <tr>\n",
              "      <th>2</th>\n",
              "      <td>I've had dehabilitating period pain since I st...</td>\n",
              "      <td>1</td>\n",
              "      <td>[I've had dehabilitating period pain since I s...</td>\n",
              "    </tr>\n",
              "    <tr>\n",
              "      <th>3</th>\n",
              "      <td>Advil works great for inflammation and pain bu...</td>\n",
              "      <td>1</td>\n",
              "      <td>[Advil works great for inflammation and pain b...</td>\n",
              "    </tr>\n",
              "    <tr>\n",
              "      <th>4</th>\n",
              "      <td>Doesnt work at all for severe cramps :(((</td>\n",
              "      <td>0</td>\n",
              "      <td>[Doesnt work at all for severe cramps :(((]</td>\n",
              "    </tr>\n",
              "  </tbody>\n",
              "</table>\n",
              "</div>"
            ],
            "text/plain": [
              "                                              review  ...                                           sentence\n",
              "0  I get frequent headaches. By frequent, I mean ...  ...  [I get frequent headaches, By frequent, I mean...\n",
              "1  it helped my cramps go for a couple of hours b...  ...  [it helped my cramps go for a couple of hours ...\n",
              "2  I've had dehabilitating period pain since I st...  ...  [I've had dehabilitating period pain since I s...\n",
              "3  Advil works great for inflammation and pain bu...  ...  [Advil works great for inflammation and pain b...\n",
              "4          Doesnt work at all for severe cramps :(((  ...        [Doesnt work at all for severe cramps :(((]\n",
              "\n",
              "[5 rows x 3 columns]"
            ]
          },
          "metadata": {
            "tags": []
          },
          "execution_count": 107
        }
      ]
    },
    {
      "cell_type": "code",
      "metadata": {
        "colab": {
          "base_uri": "https://localhost:8080/",
          "height": 206
        },
        "id": "AROyJdVlmFr-",
        "outputId": "1982d6bd-c2bf-4dca-deb2-4bb9685303e9"
      },
      "source": [
        "count = []\n",
        "for k in range(len(ibuprofen)):\n",
        "  count.append(len(ibuprofen['sentence'][k]))\n",
        "\n",
        "ibuprofen['sent_count'] = count\n",
        "ibuprofen.head()"
      ],
      "execution_count": null,
      "outputs": [
        {
          "output_type": "execute_result",
          "data": {
            "text/html": [
              "<div>\n",
              "<style scoped>\n",
              "    .dataframe tbody tr th:only-of-type {\n",
              "        vertical-align: middle;\n",
              "    }\n",
              "\n",
              "    .dataframe tbody tr th {\n",
              "        vertical-align: top;\n",
              "    }\n",
              "\n",
              "    .dataframe thead th {\n",
              "        text-align: right;\n",
              "    }\n",
              "</style>\n",
              "<table border=\"1\" class=\"dataframe\">\n",
              "  <thead>\n",
              "    <tr style=\"text-align: right;\">\n",
              "      <th></th>\n",
              "      <th>review</th>\n",
              "      <th>rating</th>\n",
              "      <th>sentence</th>\n",
              "      <th>sent_count</th>\n",
              "    </tr>\n",
              "  </thead>\n",
              "  <tbody>\n",
              "    <tr>\n",
              "      <th>0</th>\n",
              "      <td>I get frequent headaches. By frequent, I mean ...</td>\n",
              "      <td>1</td>\n",
              "      <td>[I get frequent headaches, By frequent, I mean...</td>\n",
              "      <td>10</td>\n",
              "    </tr>\n",
              "    <tr>\n",
              "      <th>1</th>\n",
              "      <td>it helped my cramps go for a couple of hours b...</td>\n",
              "      <td>0</td>\n",
              "      <td>[it helped my cramps go for a couple of hours ...</td>\n",
              "      <td>1</td>\n",
              "    </tr>\n",
              "    <tr>\n",
              "      <th>2</th>\n",
              "      <td>I've had dehabilitating period pain since I st...</td>\n",
              "      <td>1</td>\n",
              "      <td>[I've had dehabilitating period pain since I s...</td>\n",
              "      <td>9</td>\n",
              "    </tr>\n",
              "    <tr>\n",
              "      <th>3</th>\n",
              "      <td>Advil works great for inflammation and pain bu...</td>\n",
              "      <td>1</td>\n",
              "      <td>[Advil works great for inflammation and pain b...</td>\n",
              "      <td>3</td>\n",
              "    </tr>\n",
              "    <tr>\n",
              "      <th>4</th>\n",
              "      <td>Doesnt work at all for severe cramps :(((</td>\n",
              "      <td>0</td>\n",
              "      <td>[Doesnt work at all for severe cramps :(((]</td>\n",
              "      <td>1</td>\n",
              "    </tr>\n",
              "  </tbody>\n",
              "</table>\n",
              "</div>"
            ],
            "text/plain": [
              "                                              review  ...  sent_count\n",
              "0  I get frequent headaches. By frequent, I mean ...  ...          10\n",
              "1  it helped my cramps go for a couple of hours b...  ...           1\n",
              "2  I've had dehabilitating period pain since I st...  ...           9\n",
              "3  Advil works great for inflammation and pain bu...  ...           3\n",
              "4          Doesnt work at all for severe cramps :(((  ...           1\n",
              "\n",
              "[5 rows x 4 columns]"
            ]
          },
          "metadata": {
            "tags": []
          },
          "execution_count": 108
        }
      ]
    },
    {
      "cell_type": "code",
      "metadata": {
        "colab": {
          "base_uri": "https://localhost:8080/"
        },
        "id": "8JmGe2XTmK6Q",
        "outputId": "41518ffc-35e2-46b7-d36c-2defa151aa40"
      },
      "source": [
        "review_count = []\n",
        "sent_count = []\n",
        "sent_word = []\n",
        "for sentence in sentence_list:\n",
        "  re_count = 0\n",
        "  for line in sentence:\n",
        "    count = 0\n",
        "    se_word = []\n",
        "    for word in line.split():\n",
        "      if word in se_l:\n",
        "        count += 1\n",
        "        re_count += count\n",
        "        se_word.append(word)\n",
        "    sent_count.append(count)\n",
        "    sent_word.append(se_word)\n",
        "  review_count.append(re_count)\n",
        "print(sent_count[:22])\n",
        "print(sent_word[:5])\n",
        "print(review_count[:5])"
      ],
      "execution_count": null,
      "outputs": [
        {
          "output_type": "stream",
          "text": [
            "[0, 0, 1, 0, 0, 0, 1, 0, 2, 0, 1, 1, 0, 0, 1, 0, 0, 0, 0, 0, 2, 0]\n",
            "[[], [], ['pain'], [], []]\n",
            "[5, 1, 2, 3, 1]\n"
          ],
          "name": "stdout"
        }
      ]
    },
    {
      "cell_type": "code",
      "metadata": {
        "colab": {
          "base_uri": "https://localhost:8080/",
          "height": 206
        },
        "id": "la1uJ3WGmNvE",
        "outputId": "76c9eb96-4af3-4239-fde0-c5f89051700d"
      },
      "source": [
        "ibuprofen['review_count'] = review_count\n",
        "ibuprofen.head()"
      ],
      "execution_count": null,
      "outputs": [
        {
          "output_type": "execute_result",
          "data": {
            "text/html": [
              "<div>\n",
              "<style scoped>\n",
              "    .dataframe tbody tr th:only-of-type {\n",
              "        vertical-align: middle;\n",
              "    }\n",
              "\n",
              "    .dataframe tbody tr th {\n",
              "        vertical-align: top;\n",
              "    }\n",
              "\n",
              "    .dataframe thead th {\n",
              "        text-align: right;\n",
              "    }\n",
              "</style>\n",
              "<table border=\"1\" class=\"dataframe\">\n",
              "  <thead>\n",
              "    <tr style=\"text-align: right;\">\n",
              "      <th></th>\n",
              "      <th>review</th>\n",
              "      <th>rating</th>\n",
              "      <th>sentence</th>\n",
              "      <th>sent_count</th>\n",
              "      <th>review_count</th>\n",
              "    </tr>\n",
              "  </thead>\n",
              "  <tbody>\n",
              "    <tr>\n",
              "      <th>0</th>\n",
              "      <td>I get frequent headaches. By frequent, I mean ...</td>\n",
              "      <td>1</td>\n",
              "      <td>[I get frequent headaches, By frequent, I mean...</td>\n",
              "      <td>10</td>\n",
              "      <td>5</td>\n",
              "    </tr>\n",
              "    <tr>\n",
              "      <th>1</th>\n",
              "      <td>it helped my cramps go for a couple of hours b...</td>\n",
              "      <td>0</td>\n",
              "      <td>[it helped my cramps go for a couple of hours ...</td>\n",
              "      <td>1</td>\n",
              "      <td>1</td>\n",
              "    </tr>\n",
              "    <tr>\n",
              "      <th>2</th>\n",
              "      <td>I've had dehabilitating period pain since I st...</td>\n",
              "      <td>1</td>\n",
              "      <td>[I've had dehabilitating period pain since I s...</td>\n",
              "      <td>9</td>\n",
              "      <td>2</td>\n",
              "    </tr>\n",
              "    <tr>\n",
              "      <th>3</th>\n",
              "      <td>Advil works great for inflammation and pain bu...</td>\n",
              "      <td>1</td>\n",
              "      <td>[Advil works great for inflammation and pain b...</td>\n",
              "      <td>3</td>\n",
              "      <td>3</td>\n",
              "    </tr>\n",
              "    <tr>\n",
              "      <th>4</th>\n",
              "      <td>Doesnt work at all for severe cramps :(((</td>\n",
              "      <td>0</td>\n",
              "      <td>[Doesnt work at all for severe cramps :(((]</td>\n",
              "      <td>1</td>\n",
              "      <td>1</td>\n",
              "    </tr>\n",
              "  </tbody>\n",
              "</table>\n",
              "</div>"
            ],
            "text/plain": [
              "                                              review  ...  review_count\n",
              "0  I get frequent headaches. By frequent, I mean ...  ...             5\n",
              "1  it helped my cramps go for a couple of hours b...  ...             1\n",
              "2  I've had dehabilitating period pain since I st...  ...             2\n",
              "3  Advil works great for inflammation and pain bu...  ...             3\n",
              "4          Doesnt work at all for severe cramps :(((  ...             1\n",
              "\n",
              "[5 rows x 5 columns]"
            ]
          },
          "metadata": {
            "tags": []
          },
          "execution_count": 110
        }
      ]
    },
    {
      "cell_type": "code",
      "metadata": {
        "colab": {
          "base_uri": "https://localhost:8080/"
        },
        "id": "zmIqwGuemQ8m",
        "outputId": "803b9513-0828-43b5-abda-3674971bcfc7"
      },
      "source": [
        "rating = []\n",
        "for i in ibuprofen.index:\n",
        "  rev = ibuprofen.loc[i, 'review']\n",
        "  pos = 0\n",
        "  neg = 0\n",
        "  predict = evaluation_predict(rev)\n",
        "\n",
        "  if (predict[1].tolist()[0] < 0.9) and (predict[1].tolist()[0] > 0.1):\n",
        "    for k in range(ibuprofen.loc[i, 'sent_count']):\n",
        "      pos = 0\n",
        "      neg = 0\n",
        "      sent = ibuprofen.loc[i, 'sentence'][k]\n",
        "      predict_sent = evaluation_predict(sent)\n",
        "      if predict_sent[0] == 1:\n",
        "        pos += 1\n",
        "      elif predict_sent[0] == 0:\n",
        "        neg += 1\n",
        "\n",
        "    if pos > neg:\n",
        "      rating.append(1)\n",
        "    elif pos < neg:\n",
        "      rating.append(0)\n",
        "    elif pos == neg:\n",
        "      rating.append(predict[0])\n",
        "\n",
        "  else:\n",
        "    rating.append(predict[0])\n",
        "\n",
        "print(rating[:5])"
      ],
      "execution_count": null,
      "outputs": [
        {
          "output_type": "stream",
          "text": [
            "[1.0, 0.0, 1, 1, 0.0]\n"
          ],
          "name": "stdout"
        }
      ]
    },
    {
      "cell_type": "code",
      "metadata": {
        "colab": {
          "base_uri": "https://localhost:8080/"
        },
        "id": "5j2Eu9humZYy",
        "outputId": "0a2a949f-5a6e-4994-f197-98db3282b89d"
      },
      "source": [
        "print(len(rating))\n",
        "print(len(ibuprofen))"
      ],
      "execution_count": null,
      "outputs": [
        {
          "output_type": "stream",
          "text": [
            "285\n",
            "285\n"
          ],
          "name": "stdout"
        }
      ]
    },
    {
      "cell_type": "code",
      "metadata": {
        "colab": {
          "base_uri": "https://localhost:8080/",
          "height": 206
        },
        "id": "mSy5orWdmfvZ",
        "outputId": "7571f8f0-7392-4deb-dde7-765924e78425"
      },
      "source": [
        "ibuprofen['rating2+bertpl'] = rating\n",
        "ibuprofen.head()"
      ],
      "execution_count": null,
      "outputs": [
        {
          "output_type": "execute_result",
          "data": {
            "text/html": [
              "<div>\n",
              "<style scoped>\n",
              "    .dataframe tbody tr th:only-of-type {\n",
              "        vertical-align: middle;\n",
              "    }\n",
              "\n",
              "    .dataframe tbody tr th {\n",
              "        vertical-align: top;\n",
              "    }\n",
              "\n",
              "    .dataframe thead th {\n",
              "        text-align: right;\n",
              "    }\n",
              "</style>\n",
              "<table border=\"1\" class=\"dataframe\">\n",
              "  <thead>\n",
              "    <tr style=\"text-align: right;\">\n",
              "      <th></th>\n",
              "      <th>review</th>\n",
              "      <th>rating</th>\n",
              "      <th>sentence</th>\n",
              "      <th>sent_count</th>\n",
              "      <th>review_count</th>\n",
              "      <th>rating2+bertpl</th>\n",
              "    </tr>\n",
              "  </thead>\n",
              "  <tbody>\n",
              "    <tr>\n",
              "      <th>0</th>\n",
              "      <td>I get frequent headaches. By frequent, I mean ...</td>\n",
              "      <td>1</td>\n",
              "      <td>[I get frequent headaches, By frequent, I mean...</td>\n",
              "      <td>10</td>\n",
              "      <td>5</td>\n",
              "      <td>1.0</td>\n",
              "    </tr>\n",
              "    <tr>\n",
              "      <th>1</th>\n",
              "      <td>it helped my cramps go for a couple of hours b...</td>\n",
              "      <td>0</td>\n",
              "      <td>[it helped my cramps go for a couple of hours ...</td>\n",
              "      <td>1</td>\n",
              "      <td>1</td>\n",
              "      <td>0.0</td>\n",
              "    </tr>\n",
              "    <tr>\n",
              "      <th>2</th>\n",
              "      <td>I've had dehabilitating period pain since I st...</td>\n",
              "      <td>1</td>\n",
              "      <td>[I've had dehabilitating period pain since I s...</td>\n",
              "      <td>9</td>\n",
              "      <td>2</td>\n",
              "      <td>1.0</td>\n",
              "    </tr>\n",
              "    <tr>\n",
              "      <th>3</th>\n",
              "      <td>Advil works great for inflammation and pain bu...</td>\n",
              "      <td>1</td>\n",
              "      <td>[Advil works great for inflammation and pain b...</td>\n",
              "      <td>3</td>\n",
              "      <td>3</td>\n",
              "      <td>1.0</td>\n",
              "    </tr>\n",
              "    <tr>\n",
              "      <th>4</th>\n",
              "      <td>Doesnt work at all for severe cramps :(((</td>\n",
              "      <td>0</td>\n",
              "      <td>[Doesnt work at all for severe cramps :(((]</td>\n",
              "      <td>1</td>\n",
              "      <td>1</td>\n",
              "      <td>0.0</td>\n",
              "    </tr>\n",
              "  </tbody>\n",
              "</table>\n",
              "</div>"
            ],
            "text/plain": [
              "                                              review  ...  rating2+bertpl\n",
              "0  I get frequent headaches. By frequent, I mean ...  ...             1.0\n",
              "1  it helped my cramps go for a couple of hours b...  ...             0.0\n",
              "2  I've had dehabilitating period pain since I st...  ...             1.0\n",
              "3  Advil works great for inflammation and pain bu...  ...             1.0\n",
              "4          Doesnt work at all for severe cramps :(((  ...             0.0\n",
              "\n",
              "[5 rows x 6 columns]"
            ]
          },
          "metadata": {
            "tags": []
          },
          "execution_count": 113
        }
      ]
    },
    {
      "cell_type": "code",
      "metadata": {
        "id": "K2uNOb3Zmocz"
      },
      "source": [
        "ibuprofen.to_csv('/content/gdrive/My Drive/Colab Notebooks/csv/0730ibuprofen_bertpl.csv')"
      ],
      "execution_count": null,
      "outputs": []
    },
    {
      "cell_type": "code",
      "metadata": {
        "id": "j6RCVE0-iDYF"
      },
      "source": [
        ""
      ],
      "execution_count": null,
      "outputs": []
    }
  ]
}