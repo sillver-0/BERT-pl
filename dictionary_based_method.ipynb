{
 "cells": [
  {
   "cell_type": "code",
   "execution_count": 1,
   "metadata": {},
   "outputs": [],
   "source": [
    "import pandas as pd\n",
    "import re\n",
    "celecoxib_reviews = pd.read_csv('0802celecoxib_neg.csv',encoding='latin_1')\n",
    "\n",
    "celecoxib = []\n",
    "\n",
    "cele_neg= celecoxib_reviews['rating2_bert+']==0\n",
    "\n",
    "for review in celecoxib_reviews[cele_neg]['review']:\n",
    "    review = review.lower()\n",
    "    review = re.sub('[\\r]', '', review)\n",
    "    review = re.sub('[\\n]', '', review)\n",
    "    celecoxib.append(review)\n",
    "    \n",
    "ibuprofen_reviews = pd.read_csv('0802ibuprofen_neg.csv', encoding='latin_1')\n",
    "\n",
    "ibuprofen = []\n",
    "ibu_neg= ibuprofen_reviews['rating2+bertpl']==0\n",
    "\n",
    "for review in ibuprofen_reviews[ibu_neg]['review']:\n",
    "    review = review.lower()\n",
    "    review = re.sub('[\\r]', '', review)\n",
    "    review = re.sub('[\\n]', '', review)\n",
    "    ibuprofen.append(review)\n",
    "\n",
    "\n",
    "naproxen_reviews = pd.read_csv('0802naproxen_neg.csv', encoding='latin_1')\n",
    "\n",
    "naproxen = []\n",
    "napro_neg= naproxen_reviews['rating2_bert+']==0\n",
    "for review in naproxen_reviews[napro_neg]['review']:\n",
    "    review = review.lower()\n",
    "    review = re.sub('[\\r]', '', review)\n",
    "    review = re.sub('[\\n]', '', review)\n",
    "    naproxen.append(review)\n"
   ]
  },
  {
   "cell_type": "code",
   "execution_count": 2,
   "metadata": {},
   "outputs": [],
   "source": [
    "import pandas as pd\n",
    "import numpy as np\n",
    "import re\n",
    "from nltk.tokenize import word_tokenize\n",
    "\n",
    "with open(\"terms.txt\", 'r', encoding='UTF8') as file:\n",
    "    a = file.readlines()\n",
    "import openpyxl\n",
    "wb = openpyxl.Workbook()\n",
    "\n",
    "sheet = wb.active\n",
    "adr=[]\n",
    "for i in a :\n",
    "    i = i.lower()\n",
    "    i = re.sub('\\n', '', i)\n",
    "    adr.append(i)\n",
    "    "
   ]
  },
  {
   "cell_type": "code",
   "execution_count": 3,
   "metadata": {},
   "outputs": [
    {
     "name": "stdout",
     "output_type": "stream",
     "text": [
      "[('swelling', 16), ('inflammation', 12), ('gas', 11), ('headache', 11), ('back pain', 10), ('flu', 9), ('heart attack', 9), ('burn', 8), ('stiffness', 7), ('bleeding', 6), ('dizziness', 5), ('dizzy', 5), ('fatigue', 5), ('hernia', 5), ('itching', 5), ('nausea', 5), ('stroke', 5), ('ulcer', 5), ('abdominal pain', 4), ('allergic reaction', 4), ('diarrhea', 4), ('discomfort', 4), ('joint pain', 4), ('knee pain', 4), ('rash', 4), ('stomach ache', 4), ('stomach pain', 4), ('stomach upset', 4), ('constipation', 3), ('cough', 3), ('cramp', 3), ('heartburn', 3), ('hives', 3), ('lethargic', 3), ('numbness', 3), ('rage', 3), ('runny nose', 3), ('stress', 3), ('tingling', 3), ('weight gain', 3), ('anger', 2), ('anxiety', 2), ('bruise', 2), ('chest pain', 2), ('chronic pain', 2), ('cold', 2), ('difficulty in walking', 2), ('fall', 2), ('feeling sick', 2), ('gastritis', 2), ('migraine', 2), ('muscle pain', 2), ('palpitations', 2), ('rheumatoid arthritis', 2), ('shooting pain', 2), ('sore throat', 2), ('swelling of hands', 2), ('thoracic pain', 2), ('upset stomach', 2), ('back injury', 1), ('bloody stool', 1), ('bone pain', 1), ('burning sensation', 1), ('bursitis', 1), ('chills', 1), ('chronic fatigue', 1), ('drowsiness', 1), ('eczema', 1), ('feeling bad', 1), ('fever', 1), ('fluid retention', 1), ('flushed', 1), ('flushed face', 1), ('fracture', 1), ('gasping', 1), ('hair loss', 1), ('heart racing', 1), ('hypertension', 1), ('irritable', 1), ('light-headed', 1), ('nauseated', 1), ('nauseous', 1), ('neck pain', 1), ('nerve pain', 1), ('numbness in leg', 1), ('paralysis', 1), ('plantar fasciitis', 1), ('psoriatic arthritis', 1), ('restless', 1), ('restlessness', 1), ('sciatica', 1), ('seizure', 1), ('sickness', 1), ('sinus pain', 1), ('skin peeling', 1), ('skin rash', 1), ('stomach cramps', 1), ('stomach discomfort', 1), ('stomach ulcer', 1), ('tension', 1), ('weakness', 1), ('weight loss', 1), ('weird feeling', 1), ('wheezing', 1), ('worry', 1)]\n"
     ]
    }
   ],
   "source": [
    "celecoxib_wordcount={}\n",
    "\n",
    "\n",
    "for word in adr:\n",
    "    for t in celecoxib:\n",
    "        if word in t:\n",
    "    \n",
    "            if word in celecoxib_wordcount:\n",
    "                celecoxib_wordcount[word]= celecoxib_wordcount[word]+1\n",
    "            else :\n",
    "                celecoxib_wordcount[word]= 1\n",
    "                \n",
    "words2=sorted(celecoxib_wordcount.items(), key=lambda x: x[1], reverse=True)\n",
    "\n",
    "print(words2)"
   ]
  },
  {
   "cell_type": "code",
   "execution_count": 4,
   "metadata": {},
   "outputs": [
    {
     "name": "stdout",
     "output_type": "stream",
     "text": [
      "[('cramp', 6), ('headache', 6), ('nausea', 4), ('sciatica', 4), ('swelling', 4), ('allergic reaction', 3), ('bleeding', 3), ('bruise', 3), ('diarrhea', 3), ('itchy', 3), ('migraine', 3), ('ulcer', 3), ('back pain', 2), ('burn', 2), ('discomfort', 2), ('dizziness', 2), ('gas', 2), ('inflammation', 2), ('itching', 2), ('joint pain', 2), ('rash', 2), ('stiffness', 2), ('tinnitus', 2), ('upset stomach', 2), ('agitated', 1), ('allergy', 1), ('asthma', 1), ('bone pain', 1), ('chest pain', 1), ('cold', 1), ('colitis', 1), ('constipation', 1), ('cyst', 1), ('faint', 1), ('flu', 1), ('fluid retention', 1), ('gout', 1), ('hair loss', 1), ('hearing loss', 1), ('heart attack', 1), ('itchy eyes', 1), ('itchy scalp', 1), ('menstrual cramps', 1), ('migraine headache', 1), ('muscle pain', 1), ('muscle spasm', 1), ('nerve pain', 1), ('ovarian cyst', 1), ('pain in leg', 1), ('painful periods', 1), ('paralysis', 1), ('runny nose', 1), ('shingles', 1), ('shoulder pain', 1), ('sleepiness', 1), ('sleeplessness', 1), ('stomach ache', 1), ('stomach pain', 1), ('stomach ulcer', 1), ('stress', 1), ('swollen eyes', 1), ('vomiting', 1)]\n"
     ]
    }
   ],
   "source": [
    "ibuprofen_wordcount={}\n",
    "\n",
    "for word in adr:\n",
    "    for t in ibuprofen:\n",
    "        if word in t:\n",
    "            if word in ibuprofen_wordcount:\n",
    "                ibuprofen_wordcount[word]= ibuprofen_wordcount[word]+1\n",
    "            else :\n",
    "                ibuprofen_wordcount[word]= 1\n",
    "                \n",
    "ibu_words2=sorted(ibuprofen_wordcount.items(), key=lambda x: x[1], reverse=True)\n",
    "\n",
    "print(ibu_words2)"
   ]
  },
  {
   "cell_type": "code",
   "execution_count": 5,
   "metadata": {},
   "outputs": [
    {
     "name": "stdout",
     "output_type": "stream",
     "text": [
      "[('back pain', 43), ('burn', 27), ('stomach pain', 25), ('headache', 24), ('nausea', 23), ('cramp', 19), ('swelling', 18), ('inflammation', 15), ('heartburn', 13), ('bleeding', 11), ('dizzy', 10), ('joint pain', 10), ('sciatica', 10), ('dizziness', 9), ('rash', 9), ('chest pain', 8), ('gas', 8), ('hives', 8), ('fall', 7), ('itching', 7), ('migraine', 7), ('discomfort', 6), ('neck pain', 6), ('shoulder pain', 6), ('ulcer', 6), ('abdominal pain', 5), ('constipation', 5), ('hernia', 5), ('knee pain', 5), ('muscle pain', 5), ('nauseous', 5), ('upset stomach', 5), ('vomiting', 5), ('anger', 4), ('blister', 4), ('diarrhea', 4), ('gout', 4), ('infection', 4), ('stomach ache', 4), ('anxiety', 3), ('bloody stool', 3), ('cold', 3), ('crying', 3), ('diabetic', 3), ('diarrhoea', 3), ('fracture', 3), ('heart attack', 3), ('indigestion', 3), ('menstrual cramps', 3), ('numbness', 3), ('stiffness', 3), ('stomach cramps', 3), ('stress', 3), ('tingling', 3), ('weakness', 3), ('addiction', 2), ('allergic reaction', 2), ('bone pain', 2), ('burning sensation', 2), ('chronic pain', 2), ('confusion', 2), ('dry mouth', 2), ('faint', 2), ('fatigue', 2), ('fever', 2), ('heart failure', 2), ('low back pain', 2), ('neck injury', 2), ('neuralgia', 2), ('nose bleed', 2), ('palpitations', 2), ('passed out', 2), ('rheumatoid arthritis', 2), ('rotator cuff injury', 2), ('sore throat', 2), ('sprain', 2), ('stomach upset', 2), ('stroke', 2), ('thirst', 2), ('tinnitus', 2), ('toothache', 2), ('wound', 2), ('abscess', 1), ('allergy', 1), ('anemia', 1), ('asthma', 1), ('blisters', 1), ('blood blister', 1), ('blotchy', 1), ('bronchitis', 1), ('bursitis', 1), ('choking', 1), ('cold sweat', 1), ('colitis', 1), ('cyst', 1), ('drug interaction', 1), ('dry heaves', 1), ('exhaustion', 1), ('feeling sick', 1), ('feverish', 1), ('flu', 1), ('flushed', 1), ('gagging', 1), ('gastritis', 1), ('gastroenteritis', 1), ('hair loss', 1), ('hiccups', 1), ('hunger', 1), ('inflammatory bowel disease', 1), ('internal bleeding', 1), ('irritable', 1), ('itchy', 1), ('itchy rash', 1), ('kidney infection', 1), ('lethargic', 1), ('lightheadedness', 1), ('lipoma', 1), ('lower abdominal pain', 1), ('muscle spasm', 1), ('muscle weakness', 1), ('nauseated', 1), ('nerve pain', 1), ('ovarian cyst', 1), ('pain in ankle', 1), ('pancreatitis', 1), ('pelvic pain', 1), ('plantar fasciitis', 1), ('pre-eclampsia', 1), ('psoriatic arthritis', 1), ('retching', 1), ('ringing in ears', 1), ('scab', 1), ('shooting pain', 1), ('sinus infection', 1), ('sleep walking', 1), ('sleepiness', 1), ('stomach discomfort', 1), ('sweating', 1), ('swollen eyelid', 1), ('swollen glands', 1), ('throat swelling', 1), ('tremor', 1), ('unable to eat', 1), ('upper abdominal pain', 1), ('vasculitis', 1), ('vertigo', 1), ('vomiting blood', 1), ('weight gain', 1), ('worry', 1)]\n"
     ]
    }
   ],
   "source": [
    "naproxen_wordcount={}\n",
    "\n",
    "\n",
    "for word in adr:\n",
    "    for t in naproxen:\n",
    "        if word in t:\n",
    "            if word in naproxen_wordcount:\n",
    "                naproxen_wordcount[word]= naproxen_wordcount[word]+1\n",
    "            else :\n",
    "                naproxen_wordcount[word]= 1\n",
    "                \n",
    "na_words2=sorted(naproxen_wordcount.items(), key=lambda x: x[1], reverse=True)\n",
    "\n",
    "print(na_words2)"
   ]
  },
  {
   "cell_type": "code",
   "execution_count": 6,
   "metadata": {},
   "outputs": [
    {
     "data": {
      "image/png": "[encoded data removed]",
      "text/plain": [
       "<Figure size 432x288 with 1 Axes>"
      ]
     },
     "metadata": {
      "needs_background": "light"
     },
     "output_type": "display_data"
    }
   ],
   "source": [
    "import matplotlib.pyplot as plt\n",
    "words=words2[0:11]\n",
    "sym=[]\n",
    "sym_cnt = []\n",
    "for item in words : \n",
    "    sym.append(item[0])\n",
    "    sym_cnt.append(item[1])\n",
    "\n",
    "plt.barh(range(len(sym_cnt)), sym_cnt)\n",
    "plt.yticks(range(len(sym_cnt)), sym, rotation = 0) \n",
    "ax = plt.subplot ()\n",
    "ax.invert_yaxis()"
   ]
  },
  {
   "cell_type": "code",
   "execution_count": 7,
   "metadata": {},
   "outputs": [
    {
     "data": {
      "image/png": "[encoded data removed]",
      "text/plain": [
       "<Figure size 432x288 with 1 Axes>"
      ]
     },
     "metadata": {
      "needs_background": "light"
     },
     "output_type": "display_data"
    }
   ],
   "source": [
    "import matplotlib.pyplot as plt\n",
    "words=ibu_words2[0:11]\n",
    "sym=[]\n",
    "sym_cnt = []\n",
    "for item in words : \n",
    "    sym.append(item[0])\n",
    "    sym_cnt.append(item[1])\n",
    "\n",
    "plt.barh(range(len(sym_cnt)), sym_cnt)\n",
    "plt.yticks(range(len(sym_cnt)), sym, rotation = 0) \n",
    "ax = plt.subplot ()\n",
    "ax.invert_yaxis()"
   ]
  },
  {
   "cell_type": "code",
   "execution_count": 8,
   "metadata": {},
   "outputs": [
    {
     "data": {
      "image/png": "[encoded data removed]",
      "text/plain": [
       "<Figure size 432x288 with 1 Axes>"
      ]
     },
     "metadata": {
      "needs_background": "light"
     },
     "output_type": "display_data"
    }
   ],
   "source": [
    "import matplotlib.pyplot as plt\n",
    "words=na_words2[0:11]\n",
    "sym=[]\n",
    "sym_cnt = []\n",
    "for item in words : \n",
    "    sym.append(item[0])\n",
    "    sym_cnt.append(item[1])\n",
    "\n",
    "plt.barh(range(len(sym_cnt)), sym_cnt)\n",
    "plt.yticks(range(len(sym_cnt)), sym, rotation = 0) \n",
    "ax = plt.subplot ()\n",
    "ax.invert_yaxis()"
   ]
  },
  {
   "cell_type": "code",
   "execution_count": null,
   "metadata": {},
   "outputs": [],
   "source": []
  }
 ],
 "metadata": {
  "kernelspec": {
   "display_name": "Python 3",
   "language": "python",
   "name": "python3"
  },
  "language_info": {
   "codemirror_mode": {
    "name": "ipython",
    "version": 3
   },
   "file_extension": ".py",
   "mimetype": "text/x-python",
   "name": "python",
   "nbconvert_exporter": "python",
   "pygments_lexer": "ipython3",
   "version": "3.7.6"
  }
 },
 "nbformat": 4,
 "nbformat_minor": 4
}
